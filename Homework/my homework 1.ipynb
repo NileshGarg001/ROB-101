{
 "cells": [
  {
   "cell_type": "markdown",
   "metadata": {
    "deletable": false,
    "editable": false,
    "nbgrader": {
     "cell_type": "markdown",
     "checksum": "4554be877cea7f725f659779dc6160b7",
     "grade": false,
     "grade_id": "cell-121ff518c8a69ab1",
     "locked": true,
     "schema_version": 3,
     "solution": false,
     "task": false
    }
   },
   "source": [
    "University of Michigan - ROB 101 Computational Linear Algebra"
   ]
  },
  {
   "cell_type": "markdown",
   "metadata": {
    "deletable": false,
    "editable": false,
    "nbgrader": {
     "cell_type": "markdown",
     "checksum": "7aae1c640c508c1e900fc8476e28323c",
     "grade": false,
     "grade_id": "cell-42df9f51415be180",
     "locked": true,
     "schema_version": 3,
     "solution": false,
     "task": false
    }
   },
   "source": [
    "# Homework 1: How to use Julia as a Calculator\n",
    "### Due: 9/10 at 9 pm Eastern Time\n",
    "\n",
    "#### Pupose:  Use Julia Programming to solve mathematical problems\n",
    "- Skills:\n",
    "    - Writing and reading code\n",
    "    - Simplifying tasks with computer programs\n",
    "- Knowledge to be gained:\n",
    "    - Basic math commands\n",
    "    - Types of variables in Julia\n",
    "    - Declaring and plotting functions\n",
    "    \n",
    "#### Task:\n",
    "Welcome to your first jupyter notebook assignment!  To complete this assignment, fill in your code as instructed.  \n",
    "\n",
    "Anywhere you see a \"throw(ErrorException())\", delete that line, and replace it with your own code.  Once you submit your assignment, it will be auto-graded using the the code you added.  These auto-grader cells will sometimes be visible to you, as a way for you to check your code before submitting the assignment.  \n",
    "\n",
    "Sometimes, you will have to complete tasks which don't have the \"throw(ErrorException())\".  In that case, follow the instructions in the cell, and email your teachers if you have questions.  Some cells do not have any tasks for you, but are either there for you to play with, or necessary structures for some of the programming.  \n",
    "\n",
    "\n",
    "## Julia can be even more powerful than a graphing calculator if you know how to use it!\n",
    "\n",
    "\n",
    "The Basics:\n",
    "Arithmetic Operations!"
   ]
  },
  {
   "cell_type": "code",
   "execution_count": 1,
   "metadata": {},
   "outputs": [
    {
     "data": {
      "text/plain": [
       "11.620000000000001"
      ]
     },
     "execution_count": 1,
     "metadata": {},
     "output_type": "execute_result"
    }
   ],
   "source": [
    "#in a code cell, julia will compute and return operations you do inside it\n",
    "4+7.62\n",
    "#here is some basic addition"
   ]
  },
  {
   "cell_type": "code",
   "execution_count": 2,
   "metadata": {},
   "outputs": [
    {
     "data": {
      "text/plain": [
       "0.666666666666667"
      ]
     },
     "execution_count": 2,
     "metadata": {},
     "output_type": "execute_result"
    }
   ],
   "source": [
    "#this works the same way for addition(+), subtraction(-), multiplication(*), division(/) and exponentials(^)\n",
    "\n",
    "4+2/3-1*4\n",
    "\n",
    "#Julia also has a backwards division operator (\\) to divide the left by the right\n",
    "#and a (%) modulo operator, which returns the remainder from a division operation"
   ]
  },
  {
   "cell_type": "markdown",
   "metadata": {
    "deletable": false,
    "editable": false,
    "nbgrader": {
     "cell_type": "markdown",
     "checksum": "faa88db86b64e1b2492ea51ee756ad49",
     "grade": false,
     "grade_id": "cell-47de29a639e5f315",
     "locked": true,
     "schema_version": 3,
     "solution": false,
     "task": false
    }
   },
   "source": [
    "**Notice: Julia will do arithmetic operations in an order that follows PEMDAS**\n",
    "1. Parenthesis\n",
    "2. Exponentials (right to left)\n",
    "3. Multiplication and Division (left to right)\n",
    "4. Addition and Subrtraction(left to right)\n",
    "\n",
    "Order of operations is extremely important, and can cause errors in your code so PAY ATTENTION!\n",
    "\n",
    "### Problem 1.  Place two sets of parentheses in the below expression to make x equal to 50"
   ]
  },
  {
   "cell_type": "code",
   "execution_count": 9,
   "metadata": {},
   "outputs": [
    {
     "data": {
      "text/plain": [
       "50.0"
      ]
     },
     "execution_count": 9,
     "metadata": {},
     "output_type": "execute_result"
    }
   ],
   "source": [
    "#place your parenthesis here\n",
    "x = 5*(4 + 5/(2 + 3) + 2^2 + 1)\n"
   ]
  },
  {
   "cell_type": "code",
   "execution_count": 10,
   "metadata": {
    "deletable": false,
    "editable": false,
    "nbgrader": {
     "cell_type": "code",
     "checksum": "ac535e87eb0456666f7215ee498707c1",
     "grade": true,
     "grade_id": "problem1test",
     "locked": true,
     "points": 2,
     "schema_version": 3,
     "solution": false,
     "task": false
    }
   },
   "outputs": [],
   "source": [
    "#This is an autograder cell\n",
    "@assert x == 50"
   ]
  },
  {
   "cell_type": "markdown",
   "metadata": {
    "deletable": false,
    "editable": false,
    "nbgrader": {
     "cell_type": "markdown",
     "checksum": "848876c67a4fa7b26eb5617b67dd0a44",
     "grade": false,
     "grade_id": "cell-e700f01bf29416a2",
     "locked": true,
     "schema_version": 3,
     "solution": false,
     "task": false
    }
   },
   "source": [
    "**Julia also has many built in functions:**\n",
    "\n",
    "- round() #rounds to nearest integer\n",
    "- ceil() #rounds up\n",
    "- floor() #rounds down\n",
    "- trunc() #chops off anything beyond decimal point\n",
    "- abs() #absolute value\n",
    "- sin(), cos(), tan()  and asin(), acos(), atan()  #many more trigonometric functions\n",
    "- sqrt() #square root\n",
    "- exp()  #natural exponential e^x\n",
    "- log() #natural logarithm\n",
    "\n",
    "and so many more: https://docs.julialang.org/en/v1/manual/mathematical-operations/\n",
    "\n",
    "Note: These operations will only work on numbers! In each cell, hit shift return"
   ]
  },
  {
   "cell_type": "code",
   "execution_count": 11,
   "metadata": {
    "deletable": false,
    "editable": false,
    "nbgrader": {
     "cell_type": "code",
     "checksum": "7b92ebf94659f47d1fed4b767662badd",
     "grade": false,
     "grade_id": "cell-c956c50b93815794",
     "locked": true,
     "schema_version": 3,
     "solution": false,
     "task": false
    }
   },
   "outputs": [
    {
     "data": {
      "text/plain": [
       "0.0"
      ]
     },
     "execution_count": 11,
     "metadata": {},
     "output_type": "execute_result"
    }
   ],
   "source": [
    "sin(pi)  #It assumes radians and not degrees"
   ]
  },
  {
   "cell_type": "code",
   "execution_count": 12,
   "metadata": {
    "deletable": false,
    "editable": false,
    "nbgrader": {
     "cell_type": "code",
     "checksum": "2c41ded914a9b5baa8601c9e784441b9",
     "grade": false,
     "grade_id": "cell-202ddea9fa3b84e7",
     "locked": true,
     "schema_version": 3,
     "solution": false,
     "task": false
    }
   },
   "outputs": [
    {
     "data": {
      "text/plain": [
       "12.0"
      ]
     },
     "execution_count": 12,
     "metadata": {},
     "output_type": "execute_result"
    }
   ],
   "source": [
    "sqrt(144)  #yep, the usual square root of a number"
   ]
  },
  {
   "cell_type": "code",
   "execution_count": 13,
   "metadata": {
    "deletable": false,
    "editable": false,
    "nbgrader": {
     "cell_type": "code",
     "checksum": "fc0e6aef485da6318b27167cc054929d",
     "grade": false,
     "grade_id": "cell-fe6b0151ea814f70",
     "locked": true,
     "schema_version": 3,
     "solution": false,
     "task": false
    }
   },
   "outputs": [
    {
     "ename": "LoadError",
     "evalue": "MethodError: no method matching abs(::String)\n\n\u001b[0mClosest candidates are:\n\u001b[0m  abs(\u001b[91m::Bool\u001b[39m)\n\u001b[0m\u001b[90m   @\u001b[39m \u001b[90mBase\u001b[39m \u001b[90m\u001b[4mbool.jl:153\u001b[24m\u001b[39m\n\u001b[0m  abs(\u001b[91m::Missing\u001b[39m)\n\u001b[0m\u001b[90m   @\u001b[39m \u001b[90mBase\u001b[39m \u001b[90m\u001b[4mmissing.jl:101\u001b[24m\u001b[39m\n\u001b[0m  abs(\u001b[91m::Pkg.Resolve.VersionWeight\u001b[39m)\n\u001b[0m\u001b[90m   @\u001b[39m \u001b[35mPkg\u001b[39m \u001b[90mC:\\Users\\Nilesh\\AppData\\Local\\Programs\\Julia-1.10.2\\share\\julia\\stdlib\\v1.10\\Pkg\\src\\Resolve\\\u001b[39m\u001b[90m\u001b[4mversionweights.jl:32\u001b[24m\u001b[39m\n\u001b[0m  ...\n",
     "output_type": "error",
     "traceback": [
      "MethodError: no method matching abs(::String)\n\n\u001b[0mClosest candidates are:\n\u001b[0m  abs(\u001b[91m::Bool\u001b[39m)\n\u001b[0m\u001b[90m   @\u001b[39m \u001b[90mBase\u001b[39m \u001b[90m\u001b[4mbool.jl:153\u001b[24m\u001b[39m\n\u001b[0m  abs(\u001b[91m::Missing\u001b[39m)\n\u001b[0m\u001b[90m   @\u001b[39m \u001b[90mBase\u001b[39m \u001b[90m\u001b[4mmissing.jl:101\u001b[24m\u001b[39m\n\u001b[0m  abs(\u001b[91m::Pkg.Resolve.VersionWeight\u001b[39m)\n\u001b[0m\u001b[90m   @\u001b[39m \u001b[35mPkg\u001b[39m \u001b[90mC:\\Users\\Nilesh\\AppData\\Local\\Programs\\Julia-1.10.2\\share\\julia\\stdlib\\v1.10\\Pkg\\src\\Resolve\\\u001b[39m\u001b[90m\u001b[4mversionweights.jl:32\u001b[24m\u001b[39m\n\u001b[0m  ...\n",
      "",
      "Stacktrace:",
      " [1] top-level scope",
      "   @ In[13]:1"
     ]
    }
   ],
   "source": [
    "abs(\"hello\")  #be prepared for an error!"
   ]
  },
  {
   "cell_type": "markdown",
   "metadata": {
    "deletable": false,
    "editable": false,
    "nbgrader": {
     "cell_type": "markdown",
     "checksum": "99a5699ac0c47b54498a981c534d3b35",
     "grade": false,
     "grade_id": "cell-339b058b2acfbcad",
     "locked": true,
     "schema_version": 3,
     "solution": false,
     "task": false
    }
   },
   "source": [
    "Note: This doesn't work because \"hello\" is the wrong type of data.\n",
    "\n",
    "**Every piece of data in Julia has a \"Type\"**\n",
    "\n",
    "What is a data type? I think you would be comfortable saying that numbers are different from letters. So, they should be treated differently when you work with them. Similary, a single letter is different than a sentence. \n",
    "\n",
    "So far, so good? \n",
    "\n",
    "Here is where programming languages are different than calculators: you may not have to think about numbers such as 1, 2, 3, 4, .... differently than 0.7, sqrt(2), pi, but Julia does have to handle them differently. \n",
    "\n",
    "Why? Just to make your life miserable? Not really. \n",
    "\n",
    "Computers have a limited amount of memory (zeros and ones) available to represent a number. If the computer knows that the number does not require a decimal point (as in -7, 0, 1, 45, etc,) then it can store it very compactly and hence store enormously large numbers of the non-decimal TYPE. If the number requires a decimal to express it properly (such as pi, sqrt(2), 0.6) then Julia will store it in a different format. In Julia, formats are determined by TYPES.\n",
    "\n",
    "We will mostly use 4 of these TYPES:\n",
    "- Int64:  Integers (numbers without decimal points in them)\n",
    "- Float64: Floating point numbers (numbers that require decimal points)\n",
    "- Char:  Any character you can type on a keyboard, or fancy characters like 复, 制, ¤, Ð, or ϐ (declared inside ' ')\n",
    "- String: A bunch of characters in a line.  (This could be a word, or a sentence, or even a number that is in \" \")\n",
    "\n",
    "You don't usually have to worry about types because Julia will automatically choose a type that works best.  But, should you get a MethodError like the one above, check which type you are using.\n",
    "\n",
    "If you want to know more about types in Julia: https://docs.julialang.org/en/v1/manual/types/"
   ]
  },
  {
   "cell_type": "markdown",
   "metadata": {
    "deletable": false,
    "editable": false,
    "nbgrader": {
     "cell_type": "markdown",
     "checksum": "fcc7852cf0889b68894276add6776a52",
     "grade": false,
     "grade_id": "cell-84ec179c1fa584c3",
     "locked": true,
     "schema_version": 3,
     "solution": false,
     "task": false
    }
   },
   "source": [
    "**Solving and graphing your own functions**\n",
    "\n",
    "Julia can also help solve any equation that you input.  There are two main ways to declare a function in Julia.\n",
    "\n",
    "Let's practice with the basic linear function:  \n",
    "                                                y = 2x \n",
    "\n",
    "The first one is the most simple:"
   ]
  },
  {
   "cell_type": "code",
   "execution_count": 14,
   "metadata": {},
   "outputs": [
    {
     "data": {
      "text/plain": [
       "6"
      ]
     },
     "execution_count": 14,
     "metadata": {},
     "output_type": "execute_result"
    }
   ],
   "source": [
    "f(x) = 2x\n",
    "\n",
    "#now that we have it declared, we can plug in values of x\n",
    "f(3)"
   ]
  },
  {
   "cell_type": "markdown",
   "metadata": {
    "deletable": false,
    "editable": false,
    "nbgrader": {
     "cell_type": "markdown",
     "checksum": "522b33b103c8a60c9f0464e68f6161ea",
     "grade": false,
     "grade_id": "cell-554847fe6f346f7d",
     "locked": true,
     "schema_version": 3,
     "solution": false,
     "task": false
    }
   },
   "source": [
    "Now, we want to plot this function, to see where it's solutions are."
   ]
  },
  {
   "cell_type": "code",
   "execution_count": 15,
   "metadata": {
    "deletable": false,
    "editable": false,
    "nbgrader": {
     "cell_type": "code",
     "checksum": "7cc9b2edf24e24fbe16c03d30498c3ca",
     "grade": false,
     "grade_id": "cell-dd48daa9716b336c",
     "locked": true,
     "schema_version": 3,
     "solution": false,
     "task": false
    }
   },
   "outputs": [
    {
     "data": {
      "text/plain": [
       "Plots.GRBackend()"
      ]
     },
     "execution_count": 15,
     "metadata": {},
     "output_type": "execute_result"
    }
   ],
   "source": [
    "#These lines give Julia the ability to plot functions.  This may take a while, but it is necessary.\n",
    "# When you see [*], that means Julia is working hard to do what you told it. Your commands may take just a few \n",
    "# lines, but Julia is probably dealing with multiple megabytes of files and code, all of which is hidden from us. \n",
    "using Plots\n",
    "gr()"
   ]
  },
  {
   "cell_type": "code",
   "execution_count": null,
   "metadata": {},
   "outputs": [],
   "source": [
    "#now, we can use the plot() function\n",
    "plot(f, -5, 5)  #f will be plotted over an x range of -5 to 5"
   ]
  },
  {
   "cell_type": "markdown",
   "metadata": {
    "deletable": false,
    "editable": false,
    "nbgrader": {
     "cell_type": "markdown",
     "checksum": "eddc9ac9f258b9ca32a824076139cbce",
     "grade": false,
     "grade_id": "cell-e5f55ebcb0af4820",
     "locked": true,
     "schema_version": 3,
     "solution": false,
     "task": false
    }
   },
   "source": [
    "If we wanted to change an element of the graph, we need to use the function **plot!()**\n",
    "\n",
    "The exclamation point indicates that the function will modify the existing plot, instead of replacing it.  Let's make the graph to scale with an aspect_ratio command, and label the axes.  You can also add an additional line to the plot.  Let's include the x-axis."
   ]
  },
  {
   "cell_type": "code",
   "execution_count": 16,
   "metadata": {},
   "outputs": [
    {
     "data": {
      "image/png": "[encoded data removed]",
      "image/svg+xml": [
       "<?xml version=\"1.0\" encoding=\"utf-8\"?>\n",
       "<svg xmlns=\"http://www.w3.org/2000/svg\" xmlns:xlink=\"http://www.w3.org/1999/xlink\" width=\"600\" height=\"400\" viewBox=\"0 0 2400 1600\">\n",
       "<defs>\n",
       "  <clipPath id=\"clip910\">\n",
       "    <rect x=\"0\" y=\"0\" width=\"2400\" height=\"1600\"/>\n",
       "  </clipPath>\n",
       "</defs>\n",
       "<path clip-path=\"url(#clip910)\" d=\"M0 1600 L2400 1600 L2400 0 L0 0  Z\" fill=\"#ffffff\" fill-rule=\"evenodd\" fill-opacity=\"1\"/>\n",
       "<defs>\n",
       "  <clipPath id=\"clip911\">\n",
       "    <rect x=\"480\" y=\"0\" width=\"1681\" height=\"1600\"/>\n",
       "  </clipPath>\n",
       "</defs>\n",
       "<path clip-path=\"url(#clip910)\" d=\"M249.542 1423.18 L2352.76 1423.18 L2352.76 47.2441 L249.542 47.2441  Z\" fill=\"#ffffff\" fill-rule=\"evenodd\" fill-opacity=\"1\"/>\n",
       "<defs>\n",
       "  <clipPath id=\"clip912\">\n",
       "    <rect x=\"249\" y=\"47\" width=\"2104\" height=\"1377\"/>\n",
       "  </clipPath>\n",
       "</defs>\n",
       "<polyline clip-path=\"url(#clip912)\" style=\"stroke:#000000; stroke-linecap:round; stroke-linejoin:round; stroke-width:2; stroke-opacity:0.1; fill:none\" points=\"309.067,1423.18 309.067,47.2441 \"/>\n",
       "<polyline clip-path=\"url(#clip912)\" style=\"stroke:#000000; stroke-linecap:round; stroke-linejoin:round; stroke-width:2; stroke-opacity:0.1; fill:none\" points=\"639.761,1423.18 639.761,47.2441 \"/>\n",
       "<polyline clip-path=\"url(#clip912)\" style=\"stroke:#000000; stroke-linecap:round; stroke-linejoin:round; stroke-width:2; stroke-opacity:0.1; fill:none\" points=\"970.455,1423.18 970.455,47.2441 \"/>\n",
       "<polyline clip-path=\"url(#clip912)\" style=\"stroke:#000000; stroke-linecap:round; stroke-linejoin:round; stroke-width:2; stroke-opacity:0.1; fill:none\" points=\"1301.15,1423.18 1301.15,47.2441 \"/>\n",
       "<polyline clip-path=\"url(#clip912)\" style=\"stroke:#000000; stroke-linecap:round; stroke-linejoin:round; stroke-width:2; stroke-opacity:0.1; fill:none\" points=\"1631.84,1423.18 1631.84,47.2441 \"/>\n",
       "<polyline clip-path=\"url(#clip912)\" style=\"stroke:#000000; stroke-linecap:round; stroke-linejoin:round; stroke-width:2; stroke-opacity:0.1; fill:none\" points=\"1962.54,1423.18 1962.54,47.2441 \"/>\n",
       "<polyline clip-path=\"url(#clip912)\" style=\"stroke:#000000; stroke-linecap:round; stroke-linejoin:round; stroke-width:2; stroke-opacity:0.1; fill:none\" points=\"2293.23,1423.18 2293.23,47.2441 \"/>\n",
       "<polyline clip-path=\"url(#clip910)\" style=\"stroke:#000000; stroke-linecap:round; stroke-linejoin:round; stroke-width:4; stroke-opacity:1; fill:none\" points=\"249.542,1423.18 2352.76,1423.18 \"/>\n",
       "<polyline clip-path=\"url(#clip910)\" style=\"stroke:#000000; stroke-linecap:round; stroke-linejoin:round; stroke-width:4; stroke-opacity:1; fill:none\" points=\"309.067,1423.18 309.067,1404.28 \"/>\n",
       "<polyline clip-path=\"url(#clip910)\" style=\"stroke:#000000; stroke-linecap:round; stroke-linejoin:round; stroke-width:4; stroke-opacity:1; fill:none\" points=\"639.761,1423.18 639.761,1404.28 \"/>\n",
       "<polyline clip-path=\"url(#clip910)\" style=\"stroke:#000000; stroke-linecap:round; stroke-linejoin:round; stroke-width:4; stroke-opacity:1; fill:none\" points=\"970.455,1423.18 970.455,1404.28 \"/>\n",
       "<polyline clip-path=\"url(#clip910)\" style=\"stroke:#000000; stroke-linecap:round; stroke-linejoin:round; stroke-width:4; stroke-opacity:1; fill:none\" points=\"1301.15,1423.18 1301.15,1404.28 \"/>\n",
       "<polyline clip-path=\"url(#clip910)\" style=\"stroke:#000000; stroke-linecap:round; stroke-linejoin:round; stroke-width:4; stroke-opacity:1; fill:none\" points=\"1631.84,1423.18 1631.84,1404.28 \"/>\n",
       "<polyline clip-path=\"url(#clip910)\" style=\"stroke:#000000; stroke-linecap:round; stroke-linejoin:round; stroke-width:4; stroke-opacity:1; fill:none\" points=\"1962.54,1423.18 1962.54,1404.28 \"/>\n",
       "<polyline clip-path=\"url(#clip910)\" style=\"stroke:#000000; stroke-linecap:round; stroke-linejoin:round; stroke-width:4; stroke-opacity:1; fill:none\" points=\"2293.23,1423.18 2293.23,1404.28 \"/>\n",
       "<path clip-path=\"url(#clip910)\" d=\"M263.627 1468.75 L293.303 1468.75 L293.303 1472.69 L263.627 1472.69 L263.627 1468.75 Z\" fill=\"#000000\" fill-rule=\"nonzero\" fill-opacity=\"1\" /><path clip-path=\"url(#clip910)\" d=\"M304.206 1481.64 L311.845 1481.64 L311.845 1455.28 L303.535 1456.95 L303.535 1452.69 L311.798 1451.02 L316.474 1451.02 L316.474 1481.64 L324.113 1481.64 L324.113 1485.58 L304.206 1485.58 L304.206 1481.64 Z\" fill=\"#000000\" fill-rule=\"nonzero\" fill-opacity=\"1\" /><path clip-path=\"url(#clip910)\" d=\"M333.604 1451.02 L351.96 1451.02 L351.96 1454.96 L337.886 1454.96 L337.886 1463.43 Q338.905 1463.08 339.923 1462.92 Q340.942 1462.73 341.96 1462.73 Q347.747 1462.73 351.127 1465.9 Q354.507 1469.08 354.507 1474.49 Q354.507 1480.07 351.034 1483.17 Q347.562 1486.25 341.243 1486.25 Q339.067 1486.25 336.798 1485.88 Q334.553 1485.51 332.146 1484.77 L332.146 1480.07 Q334.229 1481.2 336.451 1481.76 Q338.673 1482.32 341.15 1482.32 Q345.155 1482.32 347.493 1480.21 Q349.831 1478.1 349.831 1474.49 Q349.831 1470.88 347.493 1468.77 Q345.155 1466.67 341.15 1466.67 Q339.275 1466.67 337.4 1467.08 Q335.548 1467.5 333.604 1468.38 L333.604 1451.02 Z\" fill=\"#000000\" fill-rule=\"nonzero\" fill-opacity=\"1\" /><path clip-path=\"url(#clip910)\" d=\"M593.824 1468.75 L623.499 1468.75 L623.499 1472.69 L593.824 1472.69 L593.824 1468.75 Z\" fill=\"#000000\" fill-rule=\"nonzero\" fill-opacity=\"1\" /><path clip-path=\"url(#clip910)\" d=\"M634.402 1481.64 L642.041 1481.64 L642.041 1455.28 L633.731 1456.95 L633.731 1452.69 L641.995 1451.02 L646.671 1451.02 L646.671 1481.64 L654.309 1481.64 L654.309 1485.58 L634.402 1485.58 L634.402 1481.64 Z\" fill=\"#000000\" fill-rule=\"nonzero\" fill-opacity=\"1\" /><path clip-path=\"url(#clip910)\" d=\"M673.754 1454.1 Q670.143 1454.1 668.314 1457.66 Q666.509 1461.2 666.509 1468.33 Q666.509 1475.44 668.314 1479.01 Q670.143 1482.55 673.754 1482.55 Q677.388 1482.55 679.194 1479.01 Q681.022 1475.44 681.022 1468.33 Q681.022 1461.2 679.194 1457.66 Q677.388 1454.1 673.754 1454.1 M673.754 1450.39 Q679.564 1450.39 682.62 1455 Q685.698 1459.58 685.698 1468.33 Q685.698 1477.06 682.62 1481.67 Q679.564 1486.25 673.754 1486.25 Q667.944 1486.25 664.865 1481.67 Q661.809 1477.06 661.809 1468.33 Q661.809 1459.58 664.865 1455 Q667.944 1450.39 673.754 1450.39 Z\" fill=\"#000000\" fill-rule=\"nonzero\" fill-opacity=\"1\" /><path clip-path=\"url(#clip910)\" d=\"M940.096 1468.75 L969.772 1468.75 L969.772 1472.69 L940.096 1472.69 L940.096 1468.75 Z\" fill=\"#000000\" fill-rule=\"nonzero\" fill-opacity=\"1\" /><path clip-path=\"url(#clip910)\" d=\"M979.911 1451.02 L998.267 1451.02 L998.267 1454.96 L984.193 1454.96 L984.193 1463.43 Q985.212 1463.08 986.23 1462.92 Q987.249 1462.73 988.267 1462.73 Q994.054 1462.73 997.434 1465.9 Q1000.81 1469.08 1000.81 1474.49 Q1000.81 1480.07 997.341 1483.17 Q993.869 1486.25 987.55 1486.25 Q985.374 1486.25 983.105 1485.88 Q980.86 1485.51 978.453 1484.77 L978.453 1480.07 Q980.536 1481.2 982.758 1481.76 Q984.98 1482.32 987.457 1482.32 Q991.462 1482.32 993.8 1480.21 Q996.138 1478.1 996.138 1474.49 Q996.138 1470.88 993.8 1468.77 Q991.462 1466.67 987.457 1466.67 Q985.582 1466.67 983.707 1467.08 Q981.855 1467.5 979.911 1468.38 L979.911 1451.02 Z\" fill=\"#000000\" fill-rule=\"nonzero\" fill-opacity=\"1\" /><path clip-path=\"url(#clip910)\" d=\"M1301.15 1454.1 Q1297.54 1454.1 1295.71 1457.66 Q1293.9 1461.2 1293.9 1468.33 Q1293.9 1475.44 1295.71 1479.01 Q1297.54 1482.55 1301.15 1482.55 Q1304.78 1482.55 1306.59 1479.01 Q1308.42 1475.44 1308.42 1468.33 Q1308.42 1461.2 1306.59 1457.66 Q1304.78 1454.1 1301.15 1454.1 M1301.15 1450.39 Q1306.96 1450.39 1310.01 1455 Q1313.09 1459.58 1313.09 1468.33 Q1313.09 1477.06 1310.01 1481.67 Q1306.96 1486.25 1301.15 1486.25 Q1295.34 1486.25 1292.26 1481.67 Q1289.2 1477.06 1289.2 1468.33 Q1289.2 1459.58 1292.26 1455 Q1295.34 1450.39 1301.15 1450.39 Z\" fill=\"#000000\" fill-rule=\"nonzero\" fill-opacity=\"1\" /><path clip-path=\"url(#clip910)\" d=\"M1622.12 1451.02 L1640.48 1451.02 L1640.48 1454.96 L1626.4 1454.96 L1626.4 1463.43 Q1627.42 1463.08 1628.44 1462.92 Q1629.46 1462.73 1630.48 1462.73 Q1636.26 1462.73 1639.64 1465.9 Q1643.02 1469.08 1643.02 1474.49 Q1643.02 1480.07 1639.55 1483.17 Q1636.08 1486.25 1629.76 1486.25 Q1627.58 1486.25 1625.32 1485.88 Q1623.07 1485.51 1620.66 1484.77 L1620.66 1480.07 Q1622.75 1481.2 1624.97 1481.76 Q1627.19 1482.32 1629.67 1482.32 Q1633.67 1482.32 1636.01 1480.21 Q1638.35 1478.1 1638.35 1474.49 Q1638.35 1470.88 1636.01 1468.77 Q1633.67 1466.67 1629.67 1466.67 Q1627.79 1466.67 1625.92 1467.08 Q1624.07 1467.5 1622.12 1468.38 L1622.12 1451.02 Z\" fill=\"#000000\" fill-rule=\"nonzero\" fill-opacity=\"1\" /><path clip-path=\"url(#clip910)\" d=\"M1937.22 1481.64 L1944.86 1481.64 L1944.86 1455.28 L1936.55 1456.95 L1936.55 1452.69 L1944.82 1451.02 L1949.49 1451.02 L1949.49 1481.64 L1957.13 1481.64 L1957.13 1485.58 L1937.22 1485.58 L1937.22 1481.64 Z\" fill=\"#000000\" fill-rule=\"nonzero\" fill-opacity=\"1\" /><path clip-path=\"url(#clip910)\" d=\"M1976.58 1454.1 Q1972.97 1454.1 1971.14 1457.66 Q1969.33 1461.2 1969.33 1468.33 Q1969.33 1475.44 1971.14 1479.01 Q1972.97 1482.55 1976.58 1482.55 Q1980.21 1482.55 1982.02 1479.01 Q1983.84 1475.44 1983.84 1468.33 Q1983.84 1461.2 1982.02 1457.66 Q1980.21 1454.1 1976.58 1454.1 M1976.58 1450.39 Q1982.39 1450.39 1985.44 1455 Q1988.52 1459.58 1988.52 1468.33 Q1988.52 1477.06 1985.44 1481.67 Q1982.39 1486.25 1976.58 1486.25 Q1970.77 1486.25 1967.69 1481.67 Q1964.63 1477.06 1964.63 1468.33 Q1964.63 1459.58 1967.69 1455 Q1970.77 1450.39 1976.58 1450.39 Z\" fill=\"#000000\" fill-rule=\"nonzero\" fill-opacity=\"1\" /><path clip-path=\"url(#clip910)\" d=\"M2268.42 1481.64 L2276.06 1481.64 L2276.06 1455.28 L2267.75 1456.95 L2267.75 1452.69 L2276.01 1451.02 L2280.68 1451.02 L2280.68 1481.64 L2288.32 1481.64 L2288.32 1485.58 L2268.42 1485.58 L2268.42 1481.64 Z\" fill=\"#000000\" fill-rule=\"nonzero\" fill-opacity=\"1\" /><path clip-path=\"url(#clip910)\" d=\"M2297.81 1451.02 L2316.17 1451.02 L2316.17 1454.96 L2302.1 1454.96 L2302.1 1463.43 Q2303.12 1463.08 2304.13 1462.92 Q2305.15 1462.73 2306.17 1462.73 Q2311.96 1462.73 2315.34 1465.9 Q2318.72 1469.08 2318.72 1474.49 Q2318.72 1480.07 2315.24 1483.17 Q2311.77 1486.25 2305.45 1486.25 Q2303.28 1486.25 2301.01 1485.88 Q2298.76 1485.51 2296.36 1484.77 L2296.36 1480.07 Q2298.44 1481.2 2300.66 1481.76 Q2302.88 1482.32 2305.36 1482.32 Q2309.37 1482.32 2311.7 1480.21 Q2314.04 1478.1 2314.04 1474.49 Q2314.04 1470.88 2311.7 1468.77 Q2309.37 1466.67 2305.36 1466.67 Q2303.49 1466.67 2301.61 1467.08 Q2299.76 1467.5 2297.81 1468.38 L2297.81 1451.02 Z\" fill=\"#000000\" fill-rule=\"nonzero\" fill-opacity=\"1\" /><path clip-path=\"url(#clip910)\" d=\"M1317.76 1532.4 L1304.87 1549.74 L1318.43 1568.04 L1311.53 1568.04 L1301.15 1554.04 L1290.77 1568.04 L1283.87 1568.04 L1297.71 1549.39 L1285.04 1532.4 L1291.95 1532.4 L1301.4 1545.1 L1310.86 1532.4 L1317.76 1532.4 Z\" fill=\"#000000\" fill-rule=\"nonzero\" fill-opacity=\"1\" /><polyline clip-path=\"url(#clip912)\" style=\"stroke:#000000; stroke-linecap:round; stroke-linejoin:round; stroke-width:2; stroke-opacity:0.1; fill:none\" points=\"249.542,1098.98 2352.76,1098.98 \"/>\n",
       "<polyline clip-path=\"url(#clip912)\" style=\"stroke:#000000; stroke-linecap:round; stroke-linejoin:round; stroke-width:2; stroke-opacity:0.1; fill:none\" points=\"249.542,768.281 2352.76,768.281 \"/>\n",
       "<polyline clip-path=\"url(#clip912)\" style=\"stroke:#000000; stroke-linecap:round; stroke-linejoin:round; stroke-width:2; stroke-opacity:0.1; fill:none\" points=\"249.542,437.587 2352.76,437.587 \"/>\n",
       "<polyline clip-path=\"url(#clip912)\" style=\"stroke:#000000; stroke-linecap:round; stroke-linejoin:round; stroke-width:2; stroke-opacity:0.1; fill:none\" points=\"249.542,106.893 2352.76,106.893 \"/>\n",
       "<polyline clip-path=\"url(#clip910)\" style=\"stroke:#000000; stroke-linecap:round; stroke-linejoin:round; stroke-width:4; stroke-opacity:1; fill:none\" points=\"249.542,1423.18 249.542,47.2441 \"/>\n",
       "<polyline clip-path=\"url(#clip910)\" style=\"stroke:#000000; stroke-linecap:round; stroke-linejoin:round; stroke-width:4; stroke-opacity:1; fill:none\" points=\"249.542,1098.98 268.44,1098.98 \"/>\n",
       "<polyline clip-path=\"url(#clip910)\" style=\"stroke:#000000; stroke-linecap:round; stroke-linejoin:round; stroke-width:4; stroke-opacity:1; fill:none\" points=\"249.542,768.281 268.44,768.281 \"/>\n",
       "<polyline clip-path=\"url(#clip910)\" style=\"stroke:#000000; stroke-linecap:round; stroke-linejoin:round; stroke-width:4; stroke-opacity:1; fill:none\" points=\"249.542,437.587 268.44,437.587 \"/>\n",
       "<polyline clip-path=\"url(#clip910)\" style=\"stroke:#000000; stroke-linecap:round; stroke-linejoin:round; stroke-width:4; stroke-opacity:1; fill:none\" points=\"249.542,106.893 268.44,106.893 \"/>\n",
       "<path clip-path=\"url(#clip910)\" d=\"M152.825 1099.43 L182.501 1099.43 L182.501 1103.36 L152.825 1103.36 L152.825 1099.43 Z\" fill=\"#000000\" fill-rule=\"nonzero\" fill-opacity=\"1\" /><path clip-path=\"url(#clip910)\" d=\"M192.639 1081.7 L210.996 1081.7 L210.996 1085.63 L196.922 1085.63 L196.922 1094.1 Q197.94 1093.76 198.959 1093.59 Q199.977 1093.41 200.996 1093.41 Q206.783 1093.41 210.162 1096.58 Q213.542 1099.75 213.542 1105.17 Q213.542 1110.75 210.07 1113.85 Q206.598 1116.93 200.278 1116.93 Q198.102 1116.93 195.834 1116.56 Q193.588 1116.19 191.181 1115.45 L191.181 1110.75 Q193.264 1111.88 195.487 1112.44 Q197.709 1112.99 200.186 1112.99 Q204.19 1112.99 206.528 1110.89 Q208.866 1108.78 208.866 1105.17 Q208.866 1101.56 206.528 1099.45 Q204.19 1097.34 200.186 1097.34 Q198.311 1097.34 196.436 1097.76 Q194.584 1098.18 192.639 1099.06 L192.639 1081.7 Z\" fill=\"#000000\" fill-rule=\"nonzero\" fill-opacity=\"1\" /><path clip-path=\"url(#clip910)\" d=\"M201.598 754.08 Q197.987 754.08 196.158 757.645 Q194.352 761.186 194.352 768.316 Q194.352 775.423 196.158 778.987 Q197.987 782.529 201.598 782.529 Q205.232 782.529 207.037 778.987 Q208.866 775.423 208.866 768.316 Q208.866 761.186 207.037 757.645 Q205.232 754.08 201.598 754.08 M201.598 750.376 Q207.408 750.376 210.463 754.983 Q213.542 759.566 213.542 768.316 Q213.542 777.043 210.463 781.649 Q207.408 786.233 201.598 786.233 Q195.787 786.233 192.709 781.649 Q189.653 777.043 189.653 768.316 Q189.653 759.566 192.709 754.983 Q195.787 750.376 201.598 750.376 Z\" fill=\"#000000\" fill-rule=\"nonzero\" fill-opacity=\"1\" /><path clip-path=\"url(#clip910)\" d=\"M192.639 420.307 L210.996 420.307 L210.996 424.243 L196.922 424.243 L196.922 432.715 Q197.94 432.367 198.959 432.205 Q199.977 432.02 200.996 432.02 Q206.783 432.02 210.162 435.192 Q213.542 438.363 213.542 443.779 Q213.542 449.358 210.07 452.46 Q206.598 455.539 200.278 455.539 Q198.102 455.539 195.834 455.168 Q193.588 454.798 191.181 454.057 L191.181 449.358 Q193.264 450.492 195.487 451.048 Q197.709 451.603 200.186 451.603 Q204.19 451.603 206.528 449.497 Q208.866 447.391 208.866 443.779 Q208.866 440.168 206.528 438.062 Q204.19 435.955 200.186 435.955 Q198.311 435.955 196.436 436.372 Q194.584 436.789 192.639 437.668 L192.639 420.307 Z\" fill=\"#000000\" fill-rule=\"nonzero\" fill-opacity=\"1\" /><path clip-path=\"url(#clip910)\" d=\"M162.246 120.238 L169.885 120.238 L169.885 93.8726 L161.575 95.5393 L161.575 91.28 L169.839 89.6134 L174.514 89.6134 L174.514 120.238 L182.153 120.238 L182.153 124.173 L162.246 124.173 L162.246 120.238 Z\" fill=\"#000000\" fill-rule=\"nonzero\" fill-opacity=\"1\" /><path clip-path=\"url(#clip910)\" d=\"M201.598 92.692 Q197.987 92.692 196.158 96.2568 Q194.352 99.7985 194.352 106.928 Q194.352 114.035 196.158 117.599 Q197.987 121.141 201.598 121.141 Q205.232 121.141 207.037 117.599 Q208.866 114.035 208.866 106.928 Q208.866 99.7985 207.037 96.2568 Q205.232 92.692 201.598 92.692 M201.598 88.9884 Q207.408 88.9884 210.463 93.5948 Q213.542 98.1781 213.542 106.928 Q213.542 115.655 210.463 120.261 Q207.408 124.845 201.598 124.845 Q195.787 124.845 192.709 120.261 Q189.653 115.655 189.653 106.928 Q189.653 98.1781 192.709 93.5948 Q195.787 88.9884 201.598 88.9884 Z\" fill=\"#000000\" fill-rule=\"nonzero\" fill-opacity=\"1\" /><path clip-path=\"url(#clip910)\" d=\"M105.879 733.525 Q112.245 736.008 114.186 738.363 Q116.128 740.718 116.128 744.665 L116.128 749.344 L111.226 749.344 L111.226 745.906 Q111.226 743.487 110.08 742.151 Q108.934 740.814 104.669 739.191 L101.996 738.14 L66.9208 752.559 L66.9208 746.352 L94.8026 735.212 L66.9208 724.072 L66.9208 717.865 L105.879 733.525 Z\" fill=\"#000000\" fill-rule=\"nonzero\" fill-opacity=\"1\" /><polyline clip-path=\"url(#clip912)\" style=\"stroke:#009af9; stroke-linecap:round; stroke-linejoin:round; stroke-width:4; stroke-opacity:1; fill:none\" points=\"309.067,768.281 321.985,768.281 441.43,768.281 513.212,768.281 573.903,768.281 639.83,768.281 700.609,768.281 765.77,768.281 841.266,768.281 908.357,768.281 967.191,768.281 1031.34,768.281 1095.86,768.281 1167.2,768.281 1235.08,768.281 1305.66,768.281 1365.07,768.281 1437.61,768.281 1504.05,768.281 1565.42,768.281 1627.59,768.281 1697.26,768.281 1760.39,768.281 1832.67,768.281 1899.6,768.281 1965.58,768.281 2029.64,768.281 2095.31,768.281 2167.27,768.281 2271.79,768.281 2293.23,768.281 \"/>\n",
       "<path clip-path=\"url(#clip910)\" d=\"M2019.9 196.789 L2282.65 196.789 L2282.65 93.1086 L2019.9 93.1086  Z\" fill=\"#ffffff\" fill-rule=\"evenodd\" fill-opacity=\"1\"/>\n",
       "<polyline clip-path=\"url(#clip910)\" style=\"stroke:#000000; stroke-linecap:round; stroke-linejoin:round; stroke-width:4; stroke-opacity:1; fill:none\" points=\"2019.9,196.789 2282.65,196.789 2282.65,93.1086 2019.9,93.1086 2019.9,196.789 \"/>\n",
       "<polyline clip-path=\"url(#clip910)\" style=\"stroke:#009af9; stroke-linecap:round; stroke-linejoin:round; stroke-width:4; stroke-opacity:1; fill:none\" points=\"2043.27,144.949 2183.48,144.949 \"/>\n",
       "<path clip-path=\"url(#clip910)\" d=\"M2220.69 164.636 Q2218.89 169.266 2217.17 170.678 Q2215.46 172.09 2212.59 172.09 L2209.19 172.09 L2209.19 168.525 L2211.69 168.525 Q2213.45 168.525 2214.42 167.692 Q2215.39 166.858 2216.57 163.756 L2217.34 161.812 L2206.85 136.303 L2211.36 136.303 L2219.47 156.581 L2227.57 136.303 L2232.08 136.303 L2220.69 164.636 Z\" fill=\"#000000\" fill-rule=\"nonzero\" fill-opacity=\"1\" /><path clip-path=\"url(#clip910)\" d=\"M2239.37 158.293 L2247.01 158.293 L2247.01 131.928 L2238.7 133.595 L2238.7 129.335 L2246.96 127.669 L2251.64 127.669 L2251.64 158.293 L2259.28 158.293 L2259.28 162.229 L2239.37 162.229 L2239.37 158.293 Z\" fill=\"#000000\" fill-rule=\"nonzero\" fill-opacity=\"1\" /></svg>\n"
      ],
      "text/html": [
       "<?xml version=\"1.0\" encoding=\"utf-8\"?>\n",
       "<svg xmlns=\"http://www.w3.org/2000/svg\" xmlns:xlink=\"http://www.w3.org/1999/xlink\" width=\"600\" height=\"400\" viewBox=\"0 0 2400 1600\">\n",
       "<defs>\n",
       "  <clipPath id=\"clip960\">\n",
       "    <rect x=\"0\" y=\"0\" width=\"2400\" height=\"1600\"/>\n",
       "  </clipPath>\n",
       "</defs>\n",
       "<path clip-path=\"url(#clip960)\" d=\"M0 1600 L2400 1600 L2400 0 L0 0  Z\" fill=\"#ffffff\" fill-rule=\"evenodd\" fill-opacity=\"1\"/>\n",
       "<defs>\n",
       "  <clipPath id=\"clip961\">\n",
       "    <rect x=\"480\" y=\"0\" width=\"1681\" height=\"1600\"/>\n",
       "  </clipPath>\n",
       "</defs>\n",
       "<path clip-path=\"url(#clip960)\" d=\"M210.977 1423.18 L2352.76 1423.18 L2352.76 47.2441 L210.977 47.2441  Z\" fill=\"#ffffff\" fill-rule=\"evenodd\" fill-opacity=\"1\"/>\n",
       "<defs>\n",
       "  <clipPath id=\"clip962\">\n",
       "    <rect x=\"210\" y=\"47\" width=\"2143\" height=\"1377\"/>\n",
       "  </clipPath>\n",
       "</defs>\n",
       "<polyline clip-path=\"url(#clip962)\" style=\"stroke:#000000; stroke-linecap:round; stroke-linejoin:round; stroke-width:2; stroke-opacity:0.1; fill:none\" points=\"271.594,1423.18 271.594,47.2441 \"/>\n",
       "<polyline clip-path=\"url(#clip962)\" style=\"stroke:#000000; stroke-linecap:round; stroke-linejoin:round; stroke-width:2; stroke-opacity:0.1; fill:none\" points=\"608.351,1423.18 608.351,47.2441 \"/>\n",
       "<polyline clip-path=\"url(#clip962)\" style=\"stroke:#000000; stroke-linecap:round; stroke-linejoin:round; stroke-width:2; stroke-opacity:0.1; fill:none\" points=\"945.109,1423.18 945.109,47.2441 \"/>\n",
       "<polyline clip-path=\"url(#clip962)\" style=\"stroke:#000000; stroke-linecap:round; stroke-linejoin:round; stroke-width:2; stroke-opacity:0.1; fill:none\" points=\"1281.87,1423.18 1281.87,47.2441 \"/>\n",
       "<polyline clip-path=\"url(#clip962)\" style=\"stroke:#000000; stroke-linecap:round; stroke-linejoin:round; stroke-width:2; stroke-opacity:0.1; fill:none\" points=\"1618.62,1423.18 1618.62,47.2441 \"/>\n",
       "<polyline clip-path=\"url(#clip962)\" style=\"stroke:#000000; stroke-linecap:round; stroke-linejoin:round; stroke-width:2; stroke-opacity:0.1; fill:none\" points=\"1955.38,1423.18 1955.38,47.2441 \"/>\n",
       "<polyline clip-path=\"url(#clip962)\" style=\"stroke:#000000; stroke-linecap:round; stroke-linejoin:round; stroke-width:2; stroke-opacity:0.1; fill:none\" points=\"2292.14,1423.18 2292.14,47.2441 \"/>\n",
       "<polyline clip-path=\"url(#clip960)\" style=\"stroke:#000000; stroke-linecap:round; stroke-linejoin:round; stroke-width:4; stroke-opacity:1; fill:none\" points=\"210.977,1423.18 2352.76,1423.18 \"/>\n",
       "<polyline clip-path=\"url(#clip960)\" style=\"stroke:#000000; stroke-linecap:round; stroke-linejoin:round; stroke-width:4; stroke-opacity:1; fill:none\" points=\"271.594,1423.18 271.594,1404.28 \"/>\n",
       "<polyline clip-path=\"url(#clip960)\" style=\"stroke:#000000; stroke-linecap:round; stroke-linejoin:round; stroke-width:4; stroke-opacity:1; fill:none\" points=\"608.351,1423.18 608.351,1404.28 \"/>\n",
       "<polyline clip-path=\"url(#clip960)\" style=\"stroke:#000000; stroke-linecap:round; stroke-linejoin:round; stroke-width:4; stroke-opacity:1; fill:none\" points=\"945.109,1423.18 945.109,1404.28 \"/>\n",
       "<polyline clip-path=\"url(#clip960)\" style=\"stroke:#000000; stroke-linecap:round; stroke-linejoin:round; stroke-width:4; stroke-opacity:1; fill:none\" points=\"1281.87,1423.18 1281.87,1404.28 \"/>\n",
       "<polyline clip-path=\"url(#clip960)\" style=\"stroke:#000000; stroke-linecap:round; stroke-linejoin:round; stroke-width:4; stroke-opacity:1; fill:none\" points=\"1618.62,1423.18 1618.62,1404.28 \"/>\n",
       "<polyline clip-path=\"url(#clip960)\" style=\"stroke:#000000; stroke-linecap:round; stroke-linejoin:round; stroke-width:4; stroke-opacity:1; fill:none\" points=\"1955.38,1423.18 1955.38,1404.28 \"/>\n",
       "<polyline clip-path=\"url(#clip960)\" style=\"stroke:#000000; stroke-linecap:round; stroke-linejoin:round; stroke-width:4; stroke-opacity:1; fill:none\" points=\"2292.14,1423.18 2292.14,1404.28 \"/>\n",
       "<path clip-path=\"url(#clip960)\" d=\"M226.154 1468.75 L255.83 1468.75 L255.83 1472.69 L226.154 1472.69 L226.154 1468.75 Z\" fill=\"#000000\" fill-rule=\"nonzero\" fill-opacity=\"1\" /><path clip-path=\"url(#clip960)\" d=\"M266.733 1481.64 L274.372 1481.64 L274.372 1455.28 L266.061 1456.95 L266.061 1452.69 L274.325 1451.02 L279.001 1451.02 L279.001 1481.64 L286.64 1481.64 L286.64 1485.58 L266.733 1485.58 L266.733 1481.64 Z\" fill=\"#000000\" fill-rule=\"nonzero\" fill-opacity=\"1\" /><path clip-path=\"url(#clip960)\" d=\"M296.131 1451.02 L314.487 1451.02 L314.487 1454.96 L300.413 1454.96 L300.413 1463.43 Q301.432 1463.08 302.45 1462.92 Q303.469 1462.73 304.487 1462.73 Q310.274 1462.73 313.654 1465.9 Q317.033 1469.08 317.033 1474.49 Q317.033 1480.07 313.561 1483.17 Q310.089 1486.25 303.77 1486.25 Q301.594 1486.25 299.325 1485.88 Q297.08 1485.51 294.672 1484.77 L294.672 1480.07 Q296.756 1481.2 298.978 1481.76 Q301.2 1482.32 303.677 1482.32 Q307.682 1482.32 310.02 1480.21 Q312.357 1478.1 312.357 1474.49 Q312.357 1470.88 310.02 1468.77 Q307.682 1466.67 303.677 1466.67 Q301.802 1466.67 299.927 1467.08 Q298.075 1467.5 296.131 1468.38 L296.131 1451.02 Z\" fill=\"#000000\" fill-rule=\"nonzero\" fill-opacity=\"1\" /><path clip-path=\"url(#clip960)\" d=\"M562.414 1468.75 L592.09 1468.75 L592.09 1472.69 L562.414 1472.69 L562.414 1468.75 Z\" fill=\"#000000\" fill-rule=\"nonzero\" fill-opacity=\"1\" /><path clip-path=\"url(#clip960)\" d=\"M602.993 1481.64 L610.631 1481.64 L610.631 1455.28 L602.321 1456.95 L602.321 1452.69 L610.585 1451.02 L615.261 1451.02 L615.261 1481.64 L622.9 1481.64 L622.9 1485.58 L602.993 1485.58 L602.993 1481.64 Z\" fill=\"#000000\" fill-rule=\"nonzero\" fill-opacity=\"1\" /><path clip-path=\"url(#clip960)\" d=\"M642.344 1454.1 Q638.733 1454.1 636.905 1457.66 Q635.099 1461.2 635.099 1468.33 Q635.099 1475.44 636.905 1479.01 Q638.733 1482.55 642.344 1482.55 Q645.979 1482.55 647.784 1479.01 Q649.613 1475.44 649.613 1468.33 Q649.613 1461.2 647.784 1457.66 Q645.979 1454.1 642.344 1454.1 M642.344 1450.39 Q648.154 1450.39 651.21 1455 Q654.289 1459.58 654.289 1468.33 Q654.289 1477.06 651.21 1481.67 Q648.154 1486.25 642.344 1486.25 Q636.534 1486.25 633.455 1481.67 Q630.4 1477.06 630.4 1468.33 Q630.4 1459.58 633.455 1455 Q636.534 1450.39 642.344 1450.39 Z\" fill=\"#000000\" fill-rule=\"nonzero\" fill-opacity=\"1\" /><path clip-path=\"url(#clip960)\" d=\"M914.75 1468.75 L944.426 1468.75 L944.426 1472.69 L914.75 1472.69 L914.75 1468.75 Z\" fill=\"#000000\" fill-rule=\"nonzero\" fill-opacity=\"1\" /><path clip-path=\"url(#clip960)\" d=\"M954.565 1451.02 L972.921 1451.02 L972.921 1454.96 L958.847 1454.96 L958.847 1463.43 Q959.866 1463.08 960.884 1462.92 Q961.903 1462.73 962.921 1462.73 Q968.708 1462.73 972.088 1465.9 Q975.468 1469.08 975.468 1474.49 Q975.468 1480.07 971.995 1483.17 Q968.523 1486.25 962.204 1486.25 Q960.028 1486.25 957.759 1485.88 Q955.514 1485.51 953.107 1484.77 L953.107 1480.07 Q955.19 1481.2 957.412 1481.76 Q959.634 1482.32 962.111 1482.32 Q966.116 1482.32 968.454 1480.21 Q970.792 1478.1 970.792 1474.49 Q970.792 1470.88 968.454 1468.77 Q966.116 1466.67 962.111 1466.67 Q960.236 1466.67 958.361 1467.08 Q956.509 1467.5 954.565 1468.38 L954.565 1451.02 Z\" fill=\"#000000\" fill-rule=\"nonzero\" fill-opacity=\"1\" /><path clip-path=\"url(#clip960)\" d=\"M1281.87 1454.1 Q1278.26 1454.1 1276.43 1457.66 Q1274.62 1461.2 1274.62 1468.33 Q1274.62 1475.44 1276.43 1479.01 Q1278.26 1482.55 1281.87 1482.55 Q1285.5 1482.55 1287.31 1479.01 Q1289.14 1475.44 1289.14 1468.33 Q1289.14 1461.2 1287.31 1457.66 Q1285.5 1454.1 1281.87 1454.1 M1281.87 1450.39 Q1287.68 1450.39 1290.73 1455 Q1293.81 1459.58 1293.81 1468.33 Q1293.81 1477.06 1290.73 1481.67 Q1287.68 1486.25 1281.87 1486.25 Q1276.06 1486.25 1272.98 1481.67 Q1269.92 1477.06 1269.92 1468.33 Q1269.92 1459.58 1272.98 1455 Q1276.06 1450.39 1281.87 1450.39 Z\" fill=\"#000000\" fill-rule=\"nonzero\" fill-opacity=\"1\" /><path clip-path=\"url(#clip960)\" d=\"M1608.9 1451.02 L1627.26 1451.02 L1627.26 1454.96 L1613.18 1454.96 L1613.18 1463.43 Q1614.2 1463.08 1615.22 1462.92 Q1616.24 1462.73 1617.26 1462.73 Q1623.05 1462.73 1626.43 1465.9 Q1629.8 1469.08 1629.8 1474.49 Q1629.8 1480.07 1626.33 1483.17 Q1622.86 1486.25 1616.54 1486.25 Q1614.37 1486.25 1612.1 1485.88 Q1609.85 1485.51 1607.44 1484.77 L1607.44 1480.07 Q1609.53 1481.2 1611.75 1481.76 Q1613.97 1482.32 1616.45 1482.32 Q1620.45 1482.32 1622.79 1480.21 Q1625.13 1478.1 1625.13 1474.49 Q1625.13 1470.88 1622.79 1468.77 Q1620.45 1466.67 1616.45 1466.67 Q1614.57 1466.67 1612.7 1467.08 Q1610.85 1467.5 1608.9 1468.38 L1608.9 1451.02 Z\" fill=\"#000000\" fill-rule=\"nonzero\" fill-opacity=\"1\" /><path clip-path=\"url(#clip960)\" d=\"M1930.07 1481.64 L1937.71 1481.64 L1937.71 1455.28 L1929.4 1456.95 L1929.4 1452.69 L1937.66 1451.02 L1942.34 1451.02 L1942.34 1481.64 L1949.98 1481.64 L1949.98 1485.58 L1930.07 1485.58 L1930.07 1481.64 Z\" fill=\"#000000\" fill-rule=\"nonzero\" fill-opacity=\"1\" /><path clip-path=\"url(#clip960)\" d=\"M1969.42 1454.1 Q1965.81 1454.1 1963.98 1457.66 Q1962.18 1461.2 1962.18 1468.33 Q1962.18 1475.44 1963.98 1479.01 Q1965.81 1482.55 1969.42 1482.55 Q1973.06 1482.55 1974.86 1479.01 Q1976.69 1475.44 1976.69 1468.33 Q1976.69 1461.2 1974.86 1457.66 Q1973.06 1454.1 1969.42 1454.1 M1969.42 1450.39 Q1975.23 1450.39 1978.29 1455 Q1981.37 1459.58 1981.37 1468.33 Q1981.37 1477.06 1978.29 1481.67 Q1975.23 1486.25 1969.42 1486.25 Q1963.61 1486.25 1960.53 1481.67 Q1957.48 1477.06 1957.48 1468.33 Q1957.48 1459.58 1960.53 1455 Q1963.61 1450.39 1969.42 1450.39 Z\" fill=\"#000000\" fill-rule=\"nonzero\" fill-opacity=\"1\" /><path clip-path=\"url(#clip960)\" d=\"M2267.32 1481.64 L2274.96 1481.64 L2274.96 1455.28 L2266.65 1456.95 L2266.65 1452.69 L2274.92 1451.02 L2279.59 1451.02 L2279.59 1481.64 L2287.23 1481.64 L2287.23 1485.58 L2267.32 1485.58 L2267.32 1481.64 Z\" fill=\"#000000\" fill-rule=\"nonzero\" fill-opacity=\"1\" /><path clip-path=\"url(#clip960)\" d=\"M2296.72 1451.02 L2315.08 1451.02 L2315.08 1454.96 L2301.01 1454.96 L2301.01 1463.43 Q2302.02 1463.08 2303.04 1462.92 Q2304.06 1462.73 2305.08 1462.73 Q2310.87 1462.73 2314.25 1465.9 Q2317.63 1469.08 2317.63 1474.49 Q2317.63 1480.07 2314.15 1483.17 Q2310.68 1486.25 2304.36 1486.25 Q2302.19 1486.25 2299.92 1485.88 Q2297.67 1485.51 2295.26 1484.77 L2295.26 1480.07 Q2297.35 1481.2 2299.57 1481.76 Q2301.79 1482.32 2304.27 1482.32 Q2308.27 1482.32 2310.61 1480.21 Q2312.95 1478.1 2312.95 1474.49 Q2312.95 1470.88 2310.61 1468.77 Q2308.27 1466.67 2304.27 1466.67 Q2302.39 1466.67 2300.52 1467.08 Q2298.67 1467.5 2296.72 1468.38 L2296.72 1451.02 Z\" fill=\"#000000\" fill-rule=\"nonzero\" fill-opacity=\"1\" /><path clip-path=\"url(#clip960)\" d=\"M1298.48 1532.4 L1285.59 1549.74 L1299.15 1568.04 L1292.24 1568.04 L1281.87 1554.04 L1271.49 1568.04 L1264.58 1568.04 L1278.43 1549.39 L1265.76 1532.4 L1272.67 1532.4 L1282.12 1545.1 L1291.57 1532.4 L1298.48 1532.4 Z\" fill=\"#000000\" fill-rule=\"nonzero\" fill-opacity=\"1\" /><polyline clip-path=\"url(#clip962)\" style=\"stroke:#000000; stroke-linecap:round; stroke-linejoin:round; stroke-width:2; stroke-opacity:0.1; fill:none\" points=\"210.977,1105.65 2352.76,1105.65 \"/>\n",
       "<polyline clip-path=\"url(#clip962)\" style=\"stroke:#000000; stroke-linecap:round; stroke-linejoin:round; stroke-width:2; stroke-opacity:0.1; fill:none\" points=\"210.977,768.888 2352.76,768.888 \"/>\n",
       "<polyline clip-path=\"url(#clip962)\" style=\"stroke:#000000; stroke-linecap:round; stroke-linejoin:round; stroke-width:2; stroke-opacity:0.1; fill:none\" points=\"210.977,432.13 2352.76,432.13 \"/>\n",
       "<polyline clip-path=\"url(#clip962)\" style=\"stroke:#000000; stroke-linecap:round; stroke-linejoin:round; stroke-width:2; stroke-opacity:0.1; fill:none\" points=\"210.977,95.3725 2352.76,95.3725 \"/>\n",
       "<polyline clip-path=\"url(#clip960)\" style=\"stroke:#000000; stroke-linecap:round; stroke-linejoin:round; stroke-width:4; stroke-opacity:1; fill:none\" points=\"210.977,1423.18 210.977,47.2441 \"/>\n",
       "<polyline clip-path=\"url(#clip960)\" style=\"stroke:#000000; stroke-linecap:round; stroke-linejoin:round; stroke-width:4; stroke-opacity:1; fill:none\" points=\"210.977,1105.65 229.875,1105.65 \"/>\n",
       "<polyline clip-path=\"url(#clip960)\" style=\"stroke:#000000; stroke-linecap:round; stroke-linejoin:round; stroke-width:4; stroke-opacity:1; fill:none\" points=\"210.977,768.888 229.875,768.888 \"/>\n",
       "<polyline clip-path=\"url(#clip960)\" style=\"stroke:#000000; stroke-linecap:round; stroke-linejoin:round; stroke-width:4; stroke-opacity:1; fill:none\" points=\"210.977,432.13 229.875,432.13 \"/>\n",
       "<polyline clip-path=\"url(#clip960)\" style=\"stroke:#000000; stroke-linecap:round; stroke-linejoin:round; stroke-width:4; stroke-opacity:1; fill:none\" points=\"210.977,95.3725 229.875,95.3725 \"/>\n",
       "<path clip-path=\"url(#clip960)\" d=\"M114.26 1106.1 L143.936 1106.1 L143.936 1110.03 L114.26 1110.03 L114.26 1106.1 Z\" fill=\"#000000\" fill-rule=\"nonzero\" fill-opacity=\"1\" /><path clip-path=\"url(#clip960)\" d=\"M154.075 1088.37 L172.431 1088.37 L172.431 1092.3 L158.357 1092.3 L158.357 1100.77 Q159.376 1100.43 160.394 1100.26 Q161.413 1100.08 162.431 1100.08 Q168.218 1100.08 171.598 1103.25 Q174.977 1106.42 174.977 1111.84 Q174.977 1117.42 171.505 1120.52 Q168.033 1123.6 161.714 1123.6 Q159.538 1123.6 157.269 1123.23 Q155.024 1122.86 152.616 1122.12 L152.616 1117.42 Q154.7 1118.55 156.922 1119.11 Q159.144 1119.66 161.621 1119.66 Q165.626 1119.66 167.964 1117.56 Q170.302 1115.45 170.302 1111.84 Q170.302 1108.23 167.964 1106.12 Q165.626 1104.01 161.621 1104.01 Q159.746 1104.01 157.871 1104.43 Q156.019 1104.85 154.075 1105.73 L154.075 1088.37 Z\" fill=\"#000000\" fill-rule=\"nonzero\" fill-opacity=\"1\" /><path clip-path=\"url(#clip960)\" d=\"M163.033 754.686 Q159.422 754.686 157.593 758.251 Q155.788 761.793 155.788 768.922 Q155.788 776.029 157.593 779.594 Q159.422 783.135 163.033 783.135 Q166.667 783.135 168.473 779.594 Q170.302 776.029 170.302 768.922 Q170.302 761.793 168.473 758.251 Q166.667 754.686 163.033 754.686 M163.033 750.983 Q168.843 750.983 171.899 755.589 Q174.977 760.172 174.977 768.922 Q174.977 777.649 171.899 782.256 Q168.843 786.839 163.033 786.839 Q157.223 786.839 154.144 782.256 Q151.089 777.649 151.089 768.922 Q151.089 760.172 154.144 755.589 Q157.223 750.983 163.033 750.983 Z\" fill=\"#000000\" fill-rule=\"nonzero\" fill-opacity=\"1\" /><path clip-path=\"url(#clip960)\" d=\"M154.075 414.85 L172.431 414.85 L172.431 418.785 L158.357 418.785 L158.357 427.257 Q159.376 426.91 160.394 426.748 Q161.413 426.563 162.431 426.563 Q168.218 426.563 171.598 429.734 Q174.977 432.906 174.977 438.322 Q174.977 443.901 171.505 447.003 Q168.033 450.081 161.714 450.081 Q159.538 450.081 157.269 449.711 Q155.024 449.341 152.616 448.6 L152.616 443.901 Q154.7 445.035 156.922 445.591 Q159.144 446.146 161.621 446.146 Q165.626 446.146 167.964 444.04 Q170.302 441.933 170.302 438.322 Q170.302 434.711 167.964 432.605 Q165.626 430.498 161.621 430.498 Q159.746 430.498 157.871 430.915 Q156.019 431.332 154.075 432.211 L154.075 414.85 Z\" fill=\"#000000\" fill-rule=\"nonzero\" fill-opacity=\"1\" /><path clip-path=\"url(#clip960)\" d=\"M123.681 108.717 L131.32 108.717 L131.32 82.3517 L123.01 84.0184 L123.01 79.7591 L131.274 78.0925 L135.95 78.0925 L135.95 108.717 L143.589 108.717 L143.589 112.652 L123.681 112.652 L123.681 108.717 Z\" fill=\"#000000\" fill-rule=\"nonzero\" fill-opacity=\"1\" /><path clip-path=\"url(#clip960)\" d=\"M163.033 81.1712 Q159.422 81.1712 157.593 84.736 Q155.788 88.2776 155.788 95.4072 Q155.788 102.514 157.593 106.078 Q159.422 109.62 163.033 109.62 Q166.667 109.62 168.473 106.078 Q170.302 102.514 170.302 95.4072 Q170.302 88.2776 168.473 84.736 Q166.667 81.1712 163.033 81.1712 M163.033 77.4675 Q168.843 77.4675 171.899 82.0739 Q174.977 86.6573 174.977 95.4072 Q174.977 104.134 171.899 108.74 Q168.843 113.324 163.033 113.324 Q157.223 113.324 154.144 108.74 Q151.089 104.134 151.089 95.4072 Q151.089 86.6573 154.144 82.0739 Q157.223 77.4675 163.033 77.4675 Z\" fill=\"#000000\" fill-rule=\"nonzero\" fill-opacity=\"1\" /><path clip-path=\"url(#clip960)\" d=\"M67.3143 733.525 Q73.68 736.008 75.6216 738.363 Q77.5631 740.718 77.5631 744.665 L77.5631 749.344 L72.6615 749.344 L72.6615 745.906 Q72.6615 743.487 71.5157 742.151 Q70.3699 740.814 66.1048 739.191 L63.4312 738.14 L28.3562 752.559 L28.3562 746.352 L56.238 735.212 L28.3562 724.072 L28.3562 717.865 L67.3143 733.525 Z\" fill=\"#000000\" fill-rule=\"nonzero\" fill-opacity=\"1\" /><polyline clip-path=\"url(#clip962)\" style=\"stroke:#009af9; stroke-linecap:round; stroke-linejoin:round; stroke-width:4; stroke-opacity:1; fill:none\" points=\"271.594,768.888 284.749,768.888 406.384,768.888 479.482,768.888 541.286,768.888 608.421,768.888 670.315,768.888 736.671,768.888 813.551,768.888 881.873,768.888 941.785,768.888 1007.11,768.888 1072.81,768.888 1145.46,768.888 1214.59,768.888 1286.46,768.888 1346.96,768.888 1420.83,768.888 1488.49,768.888 1550.99,768.888 1614.29,768.888 1685.24,768.888 1749.53,768.888 1823.14,768.888 1891.29,768.888 1958.48,768.888 2023.72,768.888 2090.59,768.888 2163.87,768.888 2270.3,768.888 2292.14,768.888 \"/>\n",
       "<path clip-path=\"url(#clip960)\" d=\"M2014.76 196.789 L2281.36 196.789 L2281.36 93.1086 L2014.76 93.1086  Z\" fill=\"#ffffff\" fill-rule=\"evenodd\" fill-opacity=\"1\"/>\n",
       "<polyline clip-path=\"url(#clip960)\" style=\"stroke:#000000; stroke-linecap:round; stroke-linejoin:round; stroke-width:4; stroke-opacity:1; fill:none\" points=\"2014.76,196.789 2281.36,196.789 2281.36,93.1086 2014.76,93.1086 2014.76,196.789 \"/>\n",
       "<polyline clip-path=\"url(#clip960)\" style=\"stroke:#009af9; stroke-linecap:round; stroke-linejoin:round; stroke-width:4; stroke-opacity:1; fill:none\" points=\"2038.55,144.949 2181.34,144.949 \"/>\n",
       "<path clip-path=\"url(#clip960)\" d=\"M2218.98 164.636 Q2217.17 169.266 2215.46 170.678 Q2213.75 172.09 2210.88 172.09 L2207.47 172.09 L2207.47 168.525 L2209.97 168.525 Q2211.73 168.525 2212.7 167.692 Q2213.68 166.858 2214.86 163.756 L2215.62 161.812 L2205.14 136.303 L2209.65 136.303 L2217.75 156.581 L2225.85 136.303 L2230.37 136.303 L2218.98 164.636 Z\" fill=\"#000000\" fill-rule=\"nonzero\" fill-opacity=\"1\" /><path clip-path=\"url(#clip960)\" d=\"M2237.66 158.293 L2245.3 158.293 L2245.3 131.928 L2236.99 133.595 L2236.99 129.335 L2245.25 127.669 L2249.93 127.669 L2249.93 158.293 L2257.57 158.293 L2257.57 162.229 L2237.66 162.229 L2237.66 158.293 Z\" fill=\"#000000\" fill-rule=\"nonzero\" fill-opacity=\"1\" /></svg>\n"
      ]
     },
     "execution_count": 16,
     "metadata": {},
     "output_type": "execute_result"
    }
   ],
   "source": [
    "plot!(aspect_ratio = 1, xlabel = \"x\", ylabel = \"y\")\n",
    "g(x) = 0\n",
    "plot!(g, -15,15)"
   ]
  },
  {
   "cell_type": "markdown",
   "metadata": {
    "deletable": false,
    "editable": false,
    "nbgrader": {
     "cell_type": "markdown",
     "checksum": "88aedb46efb07b9aea84def714ced15e",
     "grade": false,
     "grade_id": "cell-9f1a99a3704a6484",
     "locked": true,
     "schema_version": 3,
     "solution": false,
     "task": false
    }
   },
   "source": [
    "We can now find that y = 2x intersects y = 0 at (0,0).  \n",
    "### Problem 2. Practice with one of the systems in your HW1 Assignment\n",
    "\n",
    "                                                    x − 2y = −2\n",
    "                                                     x + y = 4\n",
    "                                                \n",
    "                                                \n",
    "                                                \n",
    "Step 1:  Rearrange Both equations so that y is isolated on the left side:\n",
    "\n",
    "Equation 1: y1 = ____________\n",
    "Equation 2: y2 = ____________"
   ]
  },
  {
   "cell_type": "markdown",
   "metadata": {},
   "source": [
    "y1 = (1/2)*(x + 2)  \n",
    "y2 = 4 - x "
   ]
  },
  {
   "cell_type": "code",
   "execution_count": 17,
   "metadata": {
    "deletable": false,
    "nbgrader": {
     "cell_type": "code",
     "checksum": "96d37de74b57efeaab99eaf498bcba3b",
     "grade": false,
     "grade_id": "problem2",
     "locked": false,
     "schema_version": 3,
     "solution": true,
     "task": false
    }
   },
   "outputs": [
    {
     "data": {
      "image/png": "[encoded data removed]",
      "image/svg+xml": [
       "<?xml version=\"1.0\" encoding=\"utf-8\"?>\n",
       "<svg xmlns=\"http://www.w3.org/2000/svg\" xmlns:xlink=\"http://www.w3.org/1999/xlink\" width=\"600\" height=\"400\" viewBox=\"0 0 2400 1600\">\n",
       "<defs>\n",
       "  <clipPath id=\"clip000\">\n",
       "    <rect x=\"0\" y=\"0\" width=\"2400\" height=\"1600\"/>\n",
       "  </clipPath>\n",
       "</defs>\n",
       "<path clip-path=\"url(#clip000)\" d=\"M0 1600 L2400 1600 L2400 0 L0 0  Z\" fill=\"#ffffff\" fill-rule=\"evenodd\" fill-opacity=\"1\"/>\n",
       "<defs>\n",
       "  <clipPath id=\"clip001\">\n",
       "    <rect x=\"480\" y=\"0\" width=\"1681\" height=\"1600\"/>\n",
       "  </clipPath>\n",
       "</defs>\n",
       "<path clip-path=\"url(#clip000)\" d=\"M112.177 1486.45 L2352.76 1486.45 L2352.76 47.2441 L112.177 47.2441  Z\" fill=\"#ffffff\" fill-rule=\"evenodd\" fill-opacity=\"1\"/>\n",
       "<defs>\n",
       "  <clipPath id=\"clip002\">\n",
       "    <rect x=\"112\" y=\"47\" width=\"2242\" height=\"1440\"/>\n",
       "  </clipPath>\n",
       "</defs>\n",
       "<polyline clip-path=\"url(#clip002)\" style=\"stroke:#000000; stroke-linecap:round; stroke-linejoin:round; stroke-width:2; stroke-opacity:0.1; fill:none\" points=\"386.965,1486.45 386.965,47.2441 \"/>\n",
       "<polyline clip-path=\"url(#clip002)\" style=\"stroke:#000000; stroke-linecap:round; stroke-linejoin:round; stroke-width:2; stroke-opacity:0.1; fill:none\" points=\"809.716,1486.45 809.716,47.2441 \"/>\n",
       "<polyline clip-path=\"url(#clip002)\" style=\"stroke:#000000; stroke-linecap:round; stroke-linejoin:round; stroke-width:2; stroke-opacity:0.1; fill:none\" points=\"1232.47,1486.45 1232.47,47.2441 \"/>\n",
       "<polyline clip-path=\"url(#clip002)\" style=\"stroke:#000000; stroke-linecap:round; stroke-linejoin:round; stroke-width:2; stroke-opacity:0.1; fill:none\" points=\"1655.22,1486.45 1655.22,47.2441 \"/>\n",
       "<polyline clip-path=\"url(#clip002)\" style=\"stroke:#000000; stroke-linecap:round; stroke-linejoin:round; stroke-width:2; stroke-opacity:0.1; fill:none\" points=\"2077.97,1486.45 2077.97,47.2441 \"/>\n",
       "<polyline clip-path=\"url(#clip000)\" style=\"stroke:#000000; stroke-linecap:round; stroke-linejoin:round; stroke-width:4; stroke-opacity:1; fill:none\" points=\"112.177,1486.45 2352.76,1486.45 \"/>\n",
       "<polyline clip-path=\"url(#clip000)\" style=\"stroke:#000000; stroke-linecap:round; stroke-linejoin:round; stroke-width:4; stroke-opacity:1; fill:none\" points=\"386.965,1486.45 386.965,1467.55 \"/>\n",
       "<polyline clip-path=\"url(#clip000)\" style=\"stroke:#000000; stroke-linecap:round; stroke-linejoin:round; stroke-width:4; stroke-opacity:1; fill:none\" points=\"809.716,1486.45 809.716,1467.55 \"/>\n",
       "<polyline clip-path=\"url(#clip000)\" style=\"stroke:#000000; stroke-linecap:round; stroke-linejoin:round; stroke-width:4; stroke-opacity:1; fill:none\" points=\"1232.47,1486.45 1232.47,1467.55 \"/>\n",
       "<polyline clip-path=\"url(#clip000)\" style=\"stroke:#000000; stroke-linecap:round; stroke-linejoin:round; stroke-width:4; stroke-opacity:1; fill:none\" points=\"1655.22,1486.45 1655.22,1467.55 \"/>\n",
       "<polyline clip-path=\"url(#clip000)\" style=\"stroke:#000000; stroke-linecap:round; stroke-linejoin:round; stroke-width:4; stroke-opacity:1; fill:none\" points=\"2077.97,1486.45 2077.97,1467.55 \"/>\n",
       "<path clip-path=\"url(#clip000)\" d=\"M355.866 1532.02 L385.542 1532.02 L385.542 1535.95 L355.866 1535.95 L355.866 1532.02 Z\" fill=\"#000000\" fill-rule=\"nonzero\" fill-opacity=\"1\" /><path clip-path=\"url(#clip000)\" d=\"M408.481 1518.36 L396.676 1536.81 L408.481 1536.81 L408.481 1518.36 M407.254 1514.29 L413.134 1514.29 L413.134 1536.81 L418.065 1536.81 L418.065 1540.7 L413.134 1540.7 L413.134 1548.85 L408.481 1548.85 L408.481 1540.7 L392.879 1540.7 L392.879 1536.19 L407.254 1514.29 Z\" fill=\"#000000\" fill-rule=\"nonzero\" fill-opacity=\"1\" /><path clip-path=\"url(#clip000)\" d=\"M779.658 1532.02 L809.334 1532.02 L809.334 1535.95 L779.658 1535.95 L779.658 1532.02 Z\" fill=\"#000000\" fill-rule=\"nonzero\" fill-opacity=\"1\" /><path clip-path=\"url(#clip000)\" d=\"M823.454 1544.91 L839.774 1544.91 L839.774 1548.85 L817.829 1548.85 L817.829 1544.91 Q820.491 1542.16 825.075 1537.53 Q829.681 1532.88 830.862 1531.53 Q833.107 1529.01 833.987 1527.27 Q834.889 1525.51 834.889 1523.82 Q834.889 1521.07 832.945 1519.33 Q831.024 1517.6 827.922 1517.6 Q825.723 1517.6 823.269 1518.36 Q820.838 1519.13 818.061 1520.68 L818.061 1515.95 Q820.885 1514.82 823.338 1514.24 Q825.792 1513.66 827.829 1513.66 Q833.2 1513.66 836.394 1516.35 Q839.588 1519.03 839.588 1523.52 Q839.588 1525.65 838.778 1527.57 Q837.991 1529.47 835.885 1532.07 Q835.306 1532.74 832.204 1535.95 Q829.102 1539.15 823.454 1544.91 Z\" fill=\"#000000\" fill-rule=\"nonzero\" fill-opacity=\"1\" /><path clip-path=\"url(#clip000)\" d=\"M1232.47 1517.37 Q1228.86 1517.37 1227.03 1520.93 Q1225.22 1524.47 1225.22 1531.6 Q1225.22 1538.71 1227.03 1542.27 Q1228.86 1545.82 1232.47 1545.82 Q1236.1 1545.82 1237.91 1542.27 Q1239.74 1538.71 1239.74 1531.6 Q1239.74 1524.47 1237.91 1520.93 Q1236.1 1517.37 1232.47 1517.37 M1232.47 1513.66 Q1238.28 1513.66 1241.33 1518.27 Q1244.41 1522.85 1244.41 1531.6 Q1244.41 1540.33 1241.33 1544.94 Q1238.28 1549.52 1232.47 1549.52 Q1226.66 1549.52 1223.58 1544.94 Q1220.52 1540.33 1220.52 1531.6 Q1220.52 1522.85 1223.58 1518.27 Q1226.66 1513.66 1232.47 1513.66 Z\" fill=\"#000000\" fill-rule=\"nonzero\" fill-opacity=\"1\" /><path clip-path=\"url(#clip000)\" d=\"M1649.87 1544.91 L1666.19 1544.91 L1666.19 1548.85 L1644.25 1548.85 L1644.25 1544.91 Q1646.91 1542.16 1651.49 1537.53 Q1656.1 1532.88 1657.28 1531.53 Q1659.52 1529.01 1660.4 1527.27 Q1661.31 1525.51 1661.31 1523.82 Q1661.31 1521.07 1659.36 1519.33 Q1657.44 1517.6 1654.34 1517.6 Q1652.14 1517.6 1649.68 1518.36 Q1647.25 1519.13 1644.48 1520.68 L1644.48 1515.95 Q1647.3 1514.82 1649.75 1514.24 Q1652.21 1513.66 1654.25 1513.66 Q1659.62 1513.66 1662.81 1516.35 Q1666 1519.03 1666 1523.52 Q1666 1525.65 1665.19 1527.57 Q1664.41 1529.47 1662.3 1532.07 Q1661.72 1532.74 1658.62 1535.95 Q1655.52 1539.15 1649.87 1544.91 Z\" fill=\"#000000\" fill-rule=\"nonzero\" fill-opacity=\"1\" /><path clip-path=\"url(#clip000)\" d=\"M2080.98 1518.36 L2069.17 1536.81 L2080.98 1536.81 L2080.98 1518.36 M2079.75 1514.29 L2085.63 1514.29 L2085.63 1536.81 L2090.56 1536.81 L2090.56 1540.7 L2085.63 1540.7 L2085.63 1548.85 L2080.98 1548.85 L2080.98 1540.7 L2065.38 1540.7 L2065.38 1536.19 L2079.75 1514.29 Z\" fill=\"#000000\" fill-rule=\"nonzero\" fill-opacity=\"1\" /><polyline clip-path=\"url(#clip002)\" style=\"stroke:#000000; stroke-linecap:round; stroke-linejoin:round; stroke-width:2; stroke-opacity:0.1; fill:none\" points=\"112.177,1251.75 2352.76,1251.75 \"/>\n",
       "<polyline clip-path=\"url(#clip002)\" style=\"stroke:#000000; stroke-linecap:round; stroke-linejoin:round; stroke-width:2; stroke-opacity:0.1; fill:none\" points=\"112.177,993.136 2352.76,993.136 \"/>\n",
       "<polyline clip-path=\"url(#clip002)\" style=\"stroke:#000000; stroke-linecap:round; stroke-linejoin:round; stroke-width:2; stroke-opacity:0.1; fill:none\" points=\"112.177,734.519 2352.76,734.519 \"/>\n",
       "<polyline clip-path=\"url(#clip002)\" style=\"stroke:#000000; stroke-linecap:round; stroke-linejoin:round; stroke-width:2; stroke-opacity:0.1; fill:none\" points=\"112.177,475.902 2352.76,475.902 \"/>\n",
       "<polyline clip-path=\"url(#clip002)\" style=\"stroke:#000000; stroke-linecap:round; stroke-linejoin:round; stroke-width:2; stroke-opacity:0.1; fill:none\" points=\"112.177,217.285 2352.76,217.285 \"/>\n",
       "<polyline clip-path=\"url(#clip000)\" style=\"stroke:#000000; stroke-linecap:round; stroke-linejoin:round; stroke-width:4; stroke-opacity:1; fill:none\" points=\"112.177,1486.45 112.177,47.2441 \"/>\n",
       "<polyline clip-path=\"url(#clip000)\" style=\"stroke:#000000; stroke-linecap:round; stroke-linejoin:round; stroke-width:4; stroke-opacity:1; fill:none\" points=\"112.177,1251.75 131.075,1251.75 \"/>\n",
       "<polyline clip-path=\"url(#clip000)\" style=\"stroke:#000000; stroke-linecap:round; stroke-linejoin:round; stroke-width:4; stroke-opacity:1; fill:none\" points=\"112.177,993.136 131.075,993.136 \"/>\n",
       "<polyline clip-path=\"url(#clip000)\" style=\"stroke:#000000; stroke-linecap:round; stroke-linejoin:round; stroke-width:4; stroke-opacity:1; fill:none\" points=\"112.177,734.519 131.075,734.519 \"/>\n",
       "<polyline clip-path=\"url(#clip000)\" style=\"stroke:#000000; stroke-linecap:round; stroke-linejoin:round; stroke-width:4; stroke-opacity:1; fill:none\" points=\"112.177,475.902 131.075,475.902 \"/>\n",
       "<polyline clip-path=\"url(#clip000)\" style=\"stroke:#000000; stroke-linecap:round; stroke-linejoin:round; stroke-width:4; stroke-opacity:1; fill:none\" points=\"112.177,217.285 131.075,217.285 \"/>\n",
       "<path clip-path=\"url(#clip000)\" d=\"M64.2328 1237.55 Q60.6217 1237.55 58.793 1241.12 Q56.9875 1244.66 56.9875 1251.79 Q56.9875 1258.89 58.793 1262.46 Q60.6217 1266 64.2328 1266 Q67.867 1266 69.6726 1262.46 Q71.5013 1258.89 71.5013 1251.79 Q71.5013 1244.66 69.6726 1241.12 Q67.867 1237.55 64.2328 1237.55 M64.2328 1233.85 Q70.0429 1233.85 73.0985 1238.45 Q76.1772 1243.04 76.1772 1251.79 Q76.1772 1260.51 73.0985 1265.12 Q70.0429 1269.7 64.2328 1269.7 Q58.4226 1269.7 55.344 1265.12 Q52.2884 1260.51 52.2884 1251.79 Q52.2884 1243.04 55.344 1238.45 Q58.4226 1233.85 64.2328 1233.85 Z\" fill=\"#000000\" fill-rule=\"nonzero\" fill-opacity=\"1\" /><path clip-path=\"url(#clip000)\" d=\"M59.8578 1006.48 L76.1772 1006.48 L76.1772 1010.42 L54.2328 1010.42 L54.2328 1006.48 Q56.8949 1003.73 61.4782 999.097 Q66.0846 994.444 67.2652 993.101 Q69.5105 990.578 70.3902 988.842 Q71.2929 987.083 71.2929 985.393 Q71.2929 982.638 69.3485 980.902 Q67.4272 979.166 64.3254 979.166 Q62.1263 979.166 59.6726 979.93 Q57.2421 980.694 54.4643 982.245 L54.4643 977.523 Q57.2884 976.388 59.7421 975.81 Q62.1958 975.231 64.2328 975.231 Q69.6031 975.231 72.7976 977.916 Q75.992 980.601 75.992 985.092 Q75.992 987.222 75.1818 989.143 Q74.3948 991.041 72.2883 993.634 Q71.7096 994.305 68.6078 997.522 Q65.5059 1000.72 59.8578 1006.48 Z\" fill=\"#000000\" fill-rule=\"nonzero\" fill-opacity=\"1\" /><path clip-path=\"url(#clip000)\" d=\"M66.5939 721.313 L54.7884 739.762 L66.5939 739.762 L66.5939 721.313 M65.367 717.239 L71.2466 717.239 L71.2466 739.762 L76.1772 739.762 L76.1772 743.651 L71.2466 743.651 L71.2466 751.799 L66.5939 751.799 L66.5939 743.651 L50.9921 743.651 L50.9921 739.137 L65.367 717.239 Z\" fill=\"#000000\" fill-rule=\"nonzero\" fill-opacity=\"1\" /><path clip-path=\"url(#clip000)\" d=\"M64.6495 474.038 Q61.5013 474.038 59.6495 476.191 Q57.8208 478.344 57.8208 482.094 Q57.8208 485.821 59.6495 487.997 Q61.5013 490.149 64.6495 490.149 Q67.7976 490.149 69.6263 487.997 Q71.4781 485.821 71.4781 482.094 Q71.4781 478.344 69.6263 476.191 Q67.7976 474.038 64.6495 474.038 M73.9318 459.386 L73.9318 463.645 Q72.1726 462.812 70.367 462.372 Q68.5846 461.932 66.8254 461.932 Q62.1958 461.932 59.7421 465.057 Q57.3115 468.182 56.9643 474.501 Q58.33 472.487 60.3902 471.423 Q62.4504 470.335 64.9272 470.335 Q70.1355 470.335 73.1448 473.506 Q76.1772 476.654 76.1772 482.094 Q76.1772 487.418 73.029 490.636 Q69.8809 493.853 64.6495 493.853 Q58.6541 493.853 55.4828 489.27 Q52.3116 484.663 52.3116 475.937 Q52.3116 467.742 56.2004 462.881 Q60.0893 457.997 66.6402 457.997 Q68.3994 457.997 70.1818 458.344 Q71.9874 458.691 73.9318 459.386 Z\" fill=\"#000000\" fill-rule=\"nonzero\" fill-opacity=\"1\" /><path clip-path=\"url(#clip000)\" d=\"M64.3254 218.153 Q60.9921 218.153 59.0708 219.935 Q57.1726 221.718 57.1726 224.843 Q57.1726 227.968 59.0708 229.75 Q60.9921 231.532 64.3254 231.532 Q67.6587 231.532 69.58 229.75 Q71.5013 227.944 71.5013 224.843 Q71.5013 221.718 69.58 219.935 Q67.6819 218.153 64.3254 218.153 M59.6495 216.162 Q56.6402 215.421 54.9504 213.361 Q53.2838 211.301 53.2838 208.338 Q53.2838 204.195 56.2236 201.787 Q59.1865 199.38 64.3254 199.38 Q69.4874 199.38 72.4272 201.787 Q75.367 204.195 75.367 208.338 Q75.367 211.301 73.6772 213.361 Q72.0105 215.421 69.0244 216.162 Q72.404 216.949 74.279 219.241 Q76.1772 221.532 76.1772 224.843 Q76.1772 229.866 73.0985 232.551 Q70.0429 235.236 64.3254 235.236 Q58.6078 235.236 55.5291 232.551 Q52.4736 229.866 52.4736 224.843 Q52.4736 221.532 54.3717 219.241 Q56.2699 216.949 59.6495 216.162 M57.9365 208.778 Q57.9365 211.463 59.6032 212.968 Q61.293 214.472 64.3254 214.472 Q67.3346 214.472 69.0244 212.968 Q70.7374 211.463 70.7374 208.778 Q70.7374 206.093 69.0244 204.588 Q67.3346 203.083 64.3254 203.083 Q61.293 203.083 59.6032 204.588 Q57.9365 206.093 57.9365 208.778 Z\" fill=\"#000000\" fill-rule=\"nonzero\" fill-opacity=\"1\" /><polyline clip-path=\"url(#clip002)\" style=\"stroke:#009af9; stroke-linecap:round; stroke-linejoin:round; stroke-width:4; stroke-opacity:1; fill:none\" points=\"175.59,1445.72 189.351,1441.51 316.598,1402.58 393.068,1379.19 457.722,1359.42 527.955,1337.94 592.704,1318.13 662.121,1296.9 742.547,1272.3 814.021,1250.44 876.697,1231.27 945.031,1210.36 1013.77,1189.34 1089.77,1166.09 1162.08,1143.97 1237.27,1120.97 1300.56,1101.62 1377.84,1077.98 1448.62,1056.33 1514,1036.33 1580.23,1016.07 1654.45,993.372 1721.7,972.8 1798.7,949.247 1870,927.439 1940.29,905.939 2008.54,885.064 2078.5,863.664 2155.15,840.219 2266.5,806.16 2289.34,799.173 \"/>\n",
       "<polyline clip-path=\"url(#clip002)\" style=\"stroke:#e26f46; stroke-linecap:round; stroke-linejoin:round; stroke-width:4; stroke-opacity:1; fill:none\" points=\"175.59,87.9763 189.351,96.395 316.598,174.238 393.068,221.018 457.722,260.57 527.955,303.535 592.704,343.145 662.121,385.611 742.547,434.812 814.021,478.535 876.697,516.877 945.031,558.68 1013.77,600.732 1089.77,647.225 1162.08,691.462 1237.27,737.458 1300.56,776.178 1377.84,823.449 1448.62,866.753 1514,906.747 1580.23,947.261 1654.45,992.664 1721.7,1033.81 1798.7,1080.91 1870,1124.53 1940.29,1167.53 2008.54,1209.28 2078.5,1252.08 2155.15,1298.97 2266.5,1367.09 2289.34,1381.06 \"/>\n",
       "<path clip-path=\"url(#clip000)\" d=\"M2001.58 250.738 L2278.07 250.738 L2278.07 95.2176 L2001.58 95.2176  Z\" fill=\"#ffffff\" fill-rule=\"evenodd\" fill-opacity=\"1\"/>\n",
       "<polyline clip-path=\"url(#clip000)\" style=\"stroke:#000000; stroke-linecap:round; stroke-linejoin:round; stroke-width:4; stroke-opacity:1; fill:none\" points=\"2001.58,250.738 2278.07,250.738 2278.07,95.2176 2001.58,95.2176 2001.58,250.738 \"/>\n",
       "<polyline clip-path=\"url(#clip000)\" style=\"stroke:#009af9; stroke-linecap:round; stroke-linejoin:round; stroke-width:4; stroke-opacity:1; fill:none\" points=\"2026.48,147.058 2175.85,147.058 \"/>\n",
       "<path clip-path=\"url(#clip000)\" d=\"M2214.59 166.745 Q2212.78 171.375 2211.07 172.787 Q2209.36 174.199 2206.49 174.199 L2203.08 174.199 L2203.08 170.634 L2205.58 170.634 Q2207.34 170.634 2208.31 169.8 Q2209.29 168.967 2210.47 165.865 L2211.23 163.921 L2200.74 138.412 L2205.26 138.412 L2213.36 158.689 L2221.46 138.412 L2225.98 138.412 L2214.59 166.745 Z\" fill=\"#000000\" fill-rule=\"nonzero\" fill-opacity=\"1\" /><path clip-path=\"url(#clip000)\" d=\"M2233.27 160.402 L2240.91 160.402 L2240.91 134.037 L2232.6 135.703 L2232.6 131.444 L2240.86 129.778 L2245.54 129.778 L2245.54 160.402 L2253.17 160.402 L2253.17 164.338 L2233.27 164.338 L2233.27 160.402 Z\" fill=\"#000000\" fill-rule=\"nonzero\" fill-opacity=\"1\" /><polyline clip-path=\"url(#clip000)\" style=\"stroke:#e26f46; stroke-linecap:round; stroke-linejoin:round; stroke-width:4; stroke-opacity:1; fill:none\" points=\"2026.48,198.898 2175.85,198.898 \"/>\n",
       "<path clip-path=\"url(#clip000)\" d=\"M2214.59 218.585 Q2212.78 223.215 2211.07 224.627 Q2209.36 226.039 2206.49 226.039 L2203.08 226.039 L2203.08 222.474 L2205.58 222.474 Q2207.34 222.474 2208.31 221.64 Q2209.29 220.807 2210.47 217.705 L2211.23 215.761 L2200.74 190.252 L2205.26 190.252 L2213.36 210.529 L2221.46 190.252 L2225.98 190.252 L2214.59 218.585 Z\" fill=\"#000000\" fill-rule=\"nonzero\" fill-opacity=\"1\" /><path clip-path=\"url(#clip000)\" d=\"M2236.48 212.242 L2252.8 212.242 L2252.8 216.178 L2230.86 216.178 L2230.86 212.242 Q2233.52 209.488 2238.11 204.858 Q2242.71 200.205 2243.89 198.863 Q2246.14 196.34 2247.02 194.604 Q2247.92 192.844 2247.92 191.155 Q2247.92 188.4 2245.98 186.664 Q2244.05 184.928 2240.95 184.928 Q2238.75 184.928 2236.3 185.692 Q2233.87 186.455 2231.09 188.006 L2231.09 183.284 Q2233.92 182.15 2236.37 181.571 Q2238.82 180.993 2240.86 180.993 Q2246.23 180.993 2249.42 183.678 Q2252.62 186.363 2252.62 190.854 Q2252.62 192.983 2251.81 194.905 Q2251.02 196.803 2248.92 199.395 Q2248.34 200.067 2245.23 203.284 Q2242.13 206.479 2236.48 212.242 Z\" fill=\"#000000\" fill-rule=\"nonzero\" fill-opacity=\"1\" /></svg>\n"
      ],
      "text/html": [
       "<?xml version=\"1.0\" encoding=\"utf-8\"?>\n",
       "<svg xmlns=\"http://www.w3.org/2000/svg\" xmlns:xlink=\"http://www.w3.org/1999/xlink\" width=\"600\" height=\"400\" viewBox=\"0 0 2400 1600\">\n",
       "<defs>\n",
       "  <clipPath id=\"clip050\">\n",
       "    <rect x=\"0\" y=\"0\" width=\"2400\" height=\"1600\"/>\n",
       "  </clipPath>\n",
       "</defs>\n",
       "<path clip-path=\"url(#clip050)\" d=\"M0 1600 L2400 1600 L2400 0 L0 0  Z\" fill=\"#ffffff\" fill-rule=\"evenodd\" fill-opacity=\"1\"/>\n",
       "<defs>\n",
       "  <clipPath id=\"clip051\">\n",
       "    <rect x=\"480\" y=\"0\" width=\"1681\" height=\"1600\"/>\n",
       "  </clipPath>\n",
       "</defs>\n",
       "<path clip-path=\"url(#clip050)\" d=\"M112.177 1486.45 L2352.76 1486.45 L2352.76 47.2441 L112.177 47.2441  Z\" fill=\"#ffffff\" fill-rule=\"evenodd\" fill-opacity=\"1\"/>\n",
       "<defs>\n",
       "  <clipPath id=\"clip052\">\n",
       "    <rect x=\"112\" y=\"47\" width=\"2242\" height=\"1440\"/>\n",
       "  </clipPath>\n",
       "</defs>\n",
       "<polyline clip-path=\"url(#clip052)\" style=\"stroke:#000000; stroke-linecap:round; stroke-linejoin:round; stroke-width:2; stroke-opacity:0.1; fill:none\" points=\"386.965,1486.45 386.965,47.2441 \"/>\n",
       "<polyline clip-path=\"url(#clip052)\" style=\"stroke:#000000; stroke-linecap:round; stroke-linejoin:round; stroke-width:2; stroke-opacity:0.1; fill:none\" points=\"809.716,1486.45 809.716,47.2441 \"/>\n",
       "<polyline clip-path=\"url(#clip052)\" style=\"stroke:#000000; stroke-linecap:round; stroke-linejoin:round; stroke-width:2; stroke-opacity:0.1; fill:none\" points=\"1232.47,1486.45 1232.47,47.2441 \"/>\n",
       "<polyline clip-path=\"url(#clip052)\" style=\"stroke:#000000; stroke-linecap:round; stroke-linejoin:round; stroke-width:2; stroke-opacity:0.1; fill:none\" points=\"1655.22,1486.45 1655.22,47.2441 \"/>\n",
       "<polyline clip-path=\"url(#clip052)\" style=\"stroke:#000000; stroke-linecap:round; stroke-linejoin:round; stroke-width:2; stroke-opacity:0.1; fill:none\" points=\"2077.97,1486.45 2077.97,47.2441 \"/>\n",
       "<polyline clip-path=\"url(#clip050)\" style=\"stroke:#000000; stroke-linecap:round; stroke-linejoin:round; stroke-width:4; stroke-opacity:1; fill:none\" points=\"112.177,1486.45 2352.76,1486.45 \"/>\n",
       "<polyline clip-path=\"url(#clip050)\" style=\"stroke:#000000; stroke-linecap:round; stroke-linejoin:round; stroke-width:4; stroke-opacity:1; fill:none\" points=\"386.965,1486.45 386.965,1467.55 \"/>\n",
       "<polyline clip-path=\"url(#clip050)\" style=\"stroke:#000000; stroke-linecap:round; stroke-linejoin:round; stroke-width:4; stroke-opacity:1; fill:none\" points=\"809.716,1486.45 809.716,1467.55 \"/>\n",
       "<polyline clip-path=\"url(#clip050)\" style=\"stroke:#000000; stroke-linecap:round; stroke-linejoin:round; stroke-width:4; stroke-opacity:1; fill:none\" points=\"1232.47,1486.45 1232.47,1467.55 \"/>\n",
       "<polyline clip-path=\"url(#clip050)\" style=\"stroke:#000000; stroke-linecap:round; stroke-linejoin:round; stroke-width:4; stroke-opacity:1; fill:none\" points=\"1655.22,1486.45 1655.22,1467.55 \"/>\n",
       "<polyline clip-path=\"url(#clip050)\" style=\"stroke:#000000; stroke-linecap:round; stroke-linejoin:round; stroke-width:4; stroke-opacity:1; fill:none\" points=\"2077.97,1486.45 2077.97,1467.55 \"/>\n",
       "<path clip-path=\"url(#clip050)\" d=\"M355.866 1532.02 L385.542 1532.02 L385.542 1535.95 L355.866 1535.95 L355.866 1532.02 Z\" fill=\"#000000\" fill-rule=\"nonzero\" fill-opacity=\"1\" /><path clip-path=\"url(#clip050)\" d=\"M408.481 1518.36 L396.676 1536.81 L408.481 1536.81 L408.481 1518.36 M407.254 1514.29 L413.134 1514.29 L413.134 1536.81 L418.065 1536.81 L418.065 1540.7 L413.134 1540.7 L413.134 1548.85 L408.481 1548.85 L408.481 1540.7 L392.879 1540.7 L392.879 1536.19 L407.254 1514.29 Z\" fill=\"#000000\" fill-rule=\"nonzero\" fill-opacity=\"1\" /><path clip-path=\"url(#clip050)\" d=\"M779.658 1532.02 L809.334 1532.02 L809.334 1535.95 L779.658 1535.95 L779.658 1532.02 Z\" fill=\"#000000\" fill-rule=\"nonzero\" fill-opacity=\"1\" /><path clip-path=\"url(#clip050)\" d=\"M823.454 1544.91 L839.774 1544.91 L839.774 1548.85 L817.829 1548.85 L817.829 1544.91 Q820.491 1542.16 825.075 1537.53 Q829.681 1532.88 830.862 1531.53 Q833.107 1529.01 833.987 1527.27 Q834.889 1525.51 834.889 1523.82 Q834.889 1521.07 832.945 1519.33 Q831.024 1517.6 827.922 1517.6 Q825.723 1517.6 823.269 1518.36 Q820.838 1519.13 818.061 1520.68 L818.061 1515.95 Q820.885 1514.82 823.338 1514.24 Q825.792 1513.66 827.829 1513.66 Q833.2 1513.66 836.394 1516.35 Q839.588 1519.03 839.588 1523.52 Q839.588 1525.65 838.778 1527.57 Q837.991 1529.47 835.885 1532.07 Q835.306 1532.74 832.204 1535.95 Q829.102 1539.15 823.454 1544.91 Z\" fill=\"#000000\" fill-rule=\"nonzero\" fill-opacity=\"1\" /><path clip-path=\"url(#clip050)\" d=\"M1232.47 1517.37 Q1228.86 1517.37 1227.03 1520.93 Q1225.22 1524.47 1225.22 1531.6 Q1225.22 1538.71 1227.03 1542.27 Q1228.86 1545.82 1232.47 1545.82 Q1236.1 1545.82 1237.91 1542.27 Q1239.74 1538.71 1239.74 1531.6 Q1239.74 1524.47 1237.91 1520.93 Q1236.1 1517.37 1232.47 1517.37 M1232.47 1513.66 Q1238.28 1513.66 1241.33 1518.27 Q1244.41 1522.85 1244.41 1531.6 Q1244.41 1540.33 1241.33 1544.94 Q1238.28 1549.52 1232.47 1549.52 Q1226.66 1549.52 1223.58 1544.94 Q1220.52 1540.33 1220.52 1531.6 Q1220.52 1522.85 1223.58 1518.27 Q1226.66 1513.66 1232.47 1513.66 Z\" fill=\"#000000\" fill-rule=\"nonzero\" fill-opacity=\"1\" /><path clip-path=\"url(#clip050)\" d=\"M1649.87 1544.91 L1666.19 1544.91 L1666.19 1548.85 L1644.25 1548.85 L1644.25 1544.91 Q1646.91 1542.16 1651.49 1537.53 Q1656.1 1532.88 1657.28 1531.53 Q1659.52 1529.01 1660.4 1527.27 Q1661.31 1525.51 1661.31 1523.82 Q1661.31 1521.07 1659.36 1519.33 Q1657.44 1517.6 1654.34 1517.6 Q1652.14 1517.6 1649.68 1518.36 Q1647.25 1519.13 1644.48 1520.68 L1644.48 1515.95 Q1647.3 1514.82 1649.75 1514.24 Q1652.21 1513.66 1654.25 1513.66 Q1659.62 1513.66 1662.81 1516.35 Q1666 1519.03 1666 1523.52 Q1666 1525.65 1665.19 1527.57 Q1664.41 1529.47 1662.3 1532.07 Q1661.72 1532.74 1658.62 1535.95 Q1655.52 1539.15 1649.87 1544.91 Z\" fill=\"#000000\" fill-rule=\"nonzero\" fill-opacity=\"1\" /><path clip-path=\"url(#clip050)\" d=\"M2080.98 1518.36 L2069.17 1536.81 L2080.98 1536.81 L2080.98 1518.36 M2079.75 1514.29 L2085.63 1514.29 L2085.63 1536.81 L2090.56 1536.81 L2090.56 1540.7 L2085.63 1540.7 L2085.63 1548.85 L2080.98 1548.85 L2080.98 1540.7 L2065.38 1540.7 L2065.38 1536.19 L2079.75 1514.29 Z\" fill=\"#000000\" fill-rule=\"nonzero\" fill-opacity=\"1\" /><polyline clip-path=\"url(#clip052)\" style=\"stroke:#000000; stroke-linecap:round; stroke-linejoin:round; stroke-width:2; stroke-opacity:0.1; fill:none\" points=\"112.177,1251.75 2352.76,1251.75 \"/>\n",
       "<polyline clip-path=\"url(#clip052)\" style=\"stroke:#000000; stroke-linecap:round; stroke-linejoin:round; stroke-width:2; stroke-opacity:0.1; fill:none\" points=\"112.177,993.136 2352.76,993.136 \"/>\n",
       "<polyline clip-path=\"url(#clip052)\" style=\"stroke:#000000; stroke-linecap:round; stroke-linejoin:round; stroke-width:2; stroke-opacity:0.1; fill:none\" points=\"112.177,734.519 2352.76,734.519 \"/>\n",
       "<polyline clip-path=\"url(#clip052)\" style=\"stroke:#000000; stroke-linecap:round; stroke-linejoin:round; stroke-width:2; stroke-opacity:0.1; fill:none\" points=\"112.177,475.902 2352.76,475.902 \"/>\n",
       "<polyline clip-path=\"url(#clip052)\" style=\"stroke:#000000; stroke-linecap:round; stroke-linejoin:round; stroke-width:2; stroke-opacity:0.1; fill:none\" points=\"112.177,217.285 2352.76,217.285 \"/>\n",
       "<polyline clip-path=\"url(#clip050)\" style=\"stroke:#000000; stroke-linecap:round; stroke-linejoin:round; stroke-width:4; stroke-opacity:1; fill:none\" points=\"112.177,1486.45 112.177,47.2441 \"/>\n",
       "<polyline clip-path=\"url(#clip050)\" style=\"stroke:#000000; stroke-linecap:round; stroke-linejoin:round; stroke-width:4; stroke-opacity:1; fill:none\" points=\"112.177,1251.75 131.075,1251.75 \"/>\n",
       "<polyline clip-path=\"url(#clip050)\" style=\"stroke:#000000; stroke-linecap:round; stroke-linejoin:round; stroke-width:4; stroke-opacity:1; fill:none\" points=\"112.177,993.136 131.075,993.136 \"/>\n",
       "<polyline clip-path=\"url(#clip050)\" style=\"stroke:#000000; stroke-linecap:round; stroke-linejoin:round; stroke-width:4; stroke-opacity:1; fill:none\" points=\"112.177,734.519 131.075,734.519 \"/>\n",
       "<polyline clip-path=\"url(#clip050)\" style=\"stroke:#000000; stroke-linecap:round; stroke-linejoin:round; stroke-width:4; stroke-opacity:1; fill:none\" points=\"112.177,475.902 131.075,475.902 \"/>\n",
       "<polyline clip-path=\"url(#clip050)\" style=\"stroke:#000000; stroke-linecap:round; stroke-linejoin:round; stroke-width:4; stroke-opacity:1; fill:none\" points=\"112.177,217.285 131.075,217.285 \"/>\n",
       "<path clip-path=\"url(#clip050)\" d=\"M64.2328 1237.55 Q60.6217 1237.55 58.793 1241.12 Q56.9875 1244.66 56.9875 1251.79 Q56.9875 1258.89 58.793 1262.46 Q60.6217 1266 64.2328 1266 Q67.867 1266 69.6726 1262.46 Q71.5013 1258.89 71.5013 1251.79 Q71.5013 1244.66 69.6726 1241.12 Q67.867 1237.55 64.2328 1237.55 M64.2328 1233.85 Q70.0429 1233.85 73.0985 1238.45 Q76.1772 1243.04 76.1772 1251.79 Q76.1772 1260.51 73.0985 1265.12 Q70.0429 1269.7 64.2328 1269.7 Q58.4226 1269.7 55.344 1265.12 Q52.2884 1260.51 52.2884 1251.79 Q52.2884 1243.04 55.344 1238.45 Q58.4226 1233.85 64.2328 1233.85 Z\" fill=\"#000000\" fill-rule=\"nonzero\" fill-opacity=\"1\" /><path clip-path=\"url(#clip050)\" d=\"M59.8578 1006.48 L76.1772 1006.48 L76.1772 1010.42 L54.2328 1010.42 L54.2328 1006.48 Q56.8949 1003.73 61.4782 999.097 Q66.0846 994.444 67.2652 993.101 Q69.5105 990.578 70.3902 988.842 Q71.2929 987.083 71.2929 985.393 Q71.2929 982.638 69.3485 980.902 Q67.4272 979.166 64.3254 979.166 Q62.1263 979.166 59.6726 979.93 Q57.2421 980.694 54.4643 982.245 L54.4643 977.523 Q57.2884 976.388 59.7421 975.81 Q62.1958 975.231 64.2328 975.231 Q69.6031 975.231 72.7976 977.916 Q75.992 980.601 75.992 985.092 Q75.992 987.222 75.1818 989.143 Q74.3948 991.041 72.2883 993.634 Q71.7096 994.305 68.6078 997.522 Q65.5059 1000.72 59.8578 1006.48 Z\" fill=\"#000000\" fill-rule=\"nonzero\" fill-opacity=\"1\" /><path clip-path=\"url(#clip050)\" d=\"M66.5939 721.313 L54.7884 739.762 L66.5939 739.762 L66.5939 721.313 M65.367 717.239 L71.2466 717.239 L71.2466 739.762 L76.1772 739.762 L76.1772 743.651 L71.2466 743.651 L71.2466 751.799 L66.5939 751.799 L66.5939 743.651 L50.9921 743.651 L50.9921 739.137 L65.367 717.239 Z\" fill=\"#000000\" fill-rule=\"nonzero\" fill-opacity=\"1\" /><path clip-path=\"url(#clip050)\" d=\"M64.6495 474.038 Q61.5013 474.038 59.6495 476.191 Q57.8208 478.344 57.8208 482.094 Q57.8208 485.821 59.6495 487.997 Q61.5013 490.149 64.6495 490.149 Q67.7976 490.149 69.6263 487.997 Q71.4781 485.821 71.4781 482.094 Q71.4781 478.344 69.6263 476.191 Q67.7976 474.038 64.6495 474.038 M73.9318 459.386 L73.9318 463.645 Q72.1726 462.812 70.367 462.372 Q68.5846 461.932 66.8254 461.932 Q62.1958 461.932 59.7421 465.057 Q57.3115 468.182 56.9643 474.501 Q58.33 472.487 60.3902 471.423 Q62.4504 470.335 64.9272 470.335 Q70.1355 470.335 73.1448 473.506 Q76.1772 476.654 76.1772 482.094 Q76.1772 487.418 73.029 490.636 Q69.8809 493.853 64.6495 493.853 Q58.6541 493.853 55.4828 489.27 Q52.3116 484.663 52.3116 475.937 Q52.3116 467.742 56.2004 462.881 Q60.0893 457.997 66.6402 457.997 Q68.3994 457.997 70.1818 458.344 Q71.9874 458.691 73.9318 459.386 Z\" fill=\"#000000\" fill-rule=\"nonzero\" fill-opacity=\"1\" /><path clip-path=\"url(#clip050)\" d=\"M64.3254 218.153 Q60.9921 218.153 59.0708 219.935 Q57.1726 221.718 57.1726 224.843 Q57.1726 227.968 59.0708 229.75 Q60.9921 231.532 64.3254 231.532 Q67.6587 231.532 69.58 229.75 Q71.5013 227.944 71.5013 224.843 Q71.5013 221.718 69.58 219.935 Q67.6819 218.153 64.3254 218.153 M59.6495 216.162 Q56.6402 215.421 54.9504 213.361 Q53.2838 211.301 53.2838 208.338 Q53.2838 204.195 56.2236 201.787 Q59.1865 199.38 64.3254 199.38 Q69.4874 199.38 72.4272 201.787 Q75.367 204.195 75.367 208.338 Q75.367 211.301 73.6772 213.361 Q72.0105 215.421 69.0244 216.162 Q72.404 216.949 74.279 219.241 Q76.1772 221.532 76.1772 224.843 Q76.1772 229.866 73.0985 232.551 Q70.0429 235.236 64.3254 235.236 Q58.6078 235.236 55.5291 232.551 Q52.4736 229.866 52.4736 224.843 Q52.4736 221.532 54.3717 219.241 Q56.2699 216.949 59.6495 216.162 M57.9365 208.778 Q57.9365 211.463 59.6032 212.968 Q61.293 214.472 64.3254 214.472 Q67.3346 214.472 69.0244 212.968 Q70.7374 211.463 70.7374 208.778 Q70.7374 206.093 69.0244 204.588 Q67.3346 203.083 64.3254 203.083 Q61.293 203.083 59.6032 204.588 Q57.9365 206.093 57.9365 208.778 Z\" fill=\"#000000\" fill-rule=\"nonzero\" fill-opacity=\"1\" /><polyline clip-path=\"url(#clip052)\" style=\"stroke:#009af9; stroke-linecap:round; stroke-linejoin:round; stroke-width:4; stroke-opacity:1; fill:none\" points=\"175.59,1445.72 189.351,1441.51 316.598,1402.58 393.068,1379.19 457.722,1359.42 527.955,1337.94 592.704,1318.13 662.121,1296.9 742.547,1272.3 814.021,1250.44 876.697,1231.27 945.031,1210.36 1013.77,1189.34 1089.77,1166.09 1162.08,1143.97 1237.27,1120.97 1300.56,1101.62 1377.84,1077.98 1448.62,1056.33 1514,1036.33 1580.23,1016.07 1654.45,993.372 1721.7,972.8 1798.7,949.247 1870,927.439 1940.29,905.939 2008.54,885.064 2078.5,863.664 2155.15,840.219 2266.5,806.16 2289.34,799.173 \"/>\n",
       "<polyline clip-path=\"url(#clip052)\" style=\"stroke:#e26f46; stroke-linecap:round; stroke-linejoin:round; stroke-width:4; stroke-opacity:1; fill:none\" points=\"175.59,87.9763 189.351,96.395 316.598,174.238 393.068,221.018 457.722,260.57 527.955,303.535 592.704,343.145 662.121,385.611 742.547,434.812 814.021,478.535 876.697,516.877 945.031,558.68 1013.77,600.732 1089.77,647.225 1162.08,691.462 1237.27,737.458 1300.56,776.178 1377.84,823.449 1448.62,866.753 1514,906.747 1580.23,947.261 1654.45,992.664 1721.7,1033.81 1798.7,1080.91 1870,1124.53 1940.29,1167.53 2008.54,1209.28 2078.5,1252.08 2155.15,1298.97 2266.5,1367.09 2289.34,1381.06 \"/>\n",
       "<path clip-path=\"url(#clip050)\" d=\"M2001.58 250.738 L2278.07 250.738 L2278.07 95.2176 L2001.58 95.2176  Z\" fill=\"#ffffff\" fill-rule=\"evenodd\" fill-opacity=\"1\"/>\n",
       "<polyline clip-path=\"url(#clip050)\" style=\"stroke:#000000; stroke-linecap:round; stroke-linejoin:round; stroke-width:4; stroke-opacity:1; fill:none\" points=\"2001.58,250.738 2278.07,250.738 2278.07,95.2176 2001.58,95.2176 2001.58,250.738 \"/>\n",
       "<polyline clip-path=\"url(#clip050)\" style=\"stroke:#009af9; stroke-linecap:round; stroke-linejoin:round; stroke-width:4; stroke-opacity:1; fill:none\" points=\"2026.48,147.058 2175.85,147.058 \"/>\n",
       "<path clip-path=\"url(#clip050)\" d=\"M2214.59 166.745 Q2212.78 171.375 2211.07 172.787 Q2209.36 174.199 2206.49 174.199 L2203.08 174.199 L2203.08 170.634 L2205.58 170.634 Q2207.34 170.634 2208.31 169.8 Q2209.29 168.967 2210.47 165.865 L2211.23 163.921 L2200.74 138.412 L2205.26 138.412 L2213.36 158.689 L2221.46 138.412 L2225.98 138.412 L2214.59 166.745 Z\" fill=\"#000000\" fill-rule=\"nonzero\" fill-opacity=\"1\" /><path clip-path=\"url(#clip050)\" d=\"M2233.27 160.402 L2240.91 160.402 L2240.91 134.037 L2232.6 135.703 L2232.6 131.444 L2240.86 129.778 L2245.54 129.778 L2245.54 160.402 L2253.17 160.402 L2253.17 164.338 L2233.27 164.338 L2233.27 160.402 Z\" fill=\"#000000\" fill-rule=\"nonzero\" fill-opacity=\"1\" /><polyline clip-path=\"url(#clip050)\" style=\"stroke:#e26f46; stroke-linecap:round; stroke-linejoin:round; stroke-width:4; stroke-opacity:1; fill:none\" points=\"2026.48,198.898 2175.85,198.898 \"/>\n",
       "<path clip-path=\"url(#clip050)\" d=\"M2214.59 218.585 Q2212.78 223.215 2211.07 224.627 Q2209.36 226.039 2206.49 226.039 L2203.08 226.039 L2203.08 222.474 L2205.58 222.474 Q2207.34 222.474 2208.31 221.64 Q2209.29 220.807 2210.47 217.705 L2211.23 215.761 L2200.74 190.252 L2205.26 190.252 L2213.36 210.529 L2221.46 190.252 L2225.98 190.252 L2214.59 218.585 Z\" fill=\"#000000\" fill-rule=\"nonzero\" fill-opacity=\"1\" /><path clip-path=\"url(#clip050)\" d=\"M2236.48 212.242 L2252.8 212.242 L2252.8 216.178 L2230.86 216.178 L2230.86 212.242 Q2233.52 209.488 2238.11 204.858 Q2242.71 200.205 2243.89 198.863 Q2246.14 196.34 2247.02 194.604 Q2247.92 192.844 2247.92 191.155 Q2247.92 188.4 2245.98 186.664 Q2244.05 184.928 2240.95 184.928 Q2238.75 184.928 2236.3 185.692 Q2233.87 186.455 2231.09 188.006 L2231.09 183.284 Q2233.92 182.15 2236.37 181.571 Q2238.82 180.993 2240.86 180.993 Q2246.23 180.993 2249.42 183.678 Q2252.62 186.363 2252.62 190.854 Q2252.62 192.983 2251.81 194.905 Q2251.02 196.803 2248.92 199.395 Q2248.34 200.067 2245.23 203.284 Q2242.13 206.479 2236.48 212.242 Z\" fill=\"#000000\" fill-rule=\"nonzero\" fill-opacity=\"1\" /></svg>\n"
      ]
     },
     "execution_count": 17,
     "metadata": {},
     "output_type": "execute_result"
    }
   ],
   "source": [
    "#now declare both of those equations as code functions y1(x) and y2(x)\n",
    "y1(x) = (1/2)*(x + 2) \n",
    "y2(x) = 4 - x\n",
    "# your code here\n",
    "#throw(ErrorException())\n",
    "\n",
    "#Plot them on the same graph.  This shows another way to plot multiple things at once\n",
    "plot([y1,y2], -5, 5)"
   ]
  },
  {
   "cell_type": "code",
   "execution_count": 18,
   "metadata": {
    "deletable": false,
    "editable": false,
    "nbgrader": {
     "cell_type": "code",
     "checksum": "4a295f2ea694c0a81682e697c3308eb0",
     "grade": true,
     "grade_id": "problem2test",
     "locked": true,
     "points": 2,
     "schema_version": 3,
     "solution": false,
     "task": false
    }
   },
   "outputs": [],
   "source": [
    "#Grader Cell\n",
    "@assert y1(0) == 1\n",
    "@assert y2(0) == 4"
   ]
  },
  {
   "cell_type": "markdown",
   "metadata": {
    "deletable": false,
    "editable": false,
    "nbgrader": {
     "cell_type": "markdown",
     "checksum": "fc0e17f22fa7dc8690c150ef7872c7bd",
     "grade": false,
     "grade_id": "cell-f143e1884da392e8",
     "locked": true,
     "schema_version": 3,
     "solution": false,
     "task": false
    }
   },
   "source": [
    "Now that you have plotted the system, you can find the solution as the intersection of the lines.  Pretty neat!"
   ]
  },
  {
   "cell_type": "markdown",
   "metadata": {},
   "source": [
    "### Problem 3. Creating Arrays\n",
    "### Create a row vector called rowVect that contains the numbers 1 through 10 using the collect function, see the example code below"
   ]
  },
  {
   "cell_type": "code",
   "execution_count": 19,
   "metadata": {},
   "outputs": [
    {
     "data": {
      "text/plain": [
       "1×10 adjoint(::Vector{Int64}) with eltype Int64:\n",
       " 1  2  3  4  5  6  7  8  9  10"
      ]
     },
     "execution_count": 19,
     "metadata": {},
     "output_type": "execute_result"
    }
   ],
   "source": [
    "# Run me, don't change me \n",
    "#output should be\n",
    "#1 2 3 4 5 6 7 8 9 10\n",
    "# Example Code. \n",
    "rowVect = collect(1:10)'\n"
   ]
  },
  {
   "cell_type": "code",
   "execution_count": 20,
   "metadata": {
    "deletable": false,
    "editable": false,
    "nbgrader": {
     "cell_type": "code",
     "checksum": "7a9cf44b3b792ac278b3276058c04484",
     "grade": true,
     "grade_id": "cell-2d4d8dec7be601ab",
     "locked": true,
     "points": 0,
     "schema_version": 3,
     "solution": false,
     "task": false
    }
   },
   "outputs": [],
   "source": [
    "#autograder cell\n",
    "#Just checking if you ran the code cell! "
   ]
  },
  {
   "cell_type": "markdown",
   "metadata": {},
   "source": [
    "### a) Create a column vector called colVect that contains the numbers 11 through 20"
   ]
  },
  {
   "cell_type": "code",
   "execution_count": 22,
   "metadata": {
    "deletable": false,
    "nbgrader": {
     "cell_type": "code",
     "checksum": "0368b645d7c629f014c3649e133a3c15",
     "grade": false,
     "grade_id": "cell-d374a9606cd3edc8",
     "locked": false,
     "schema_version": 3,
     "solution": true,
     "task": false
    }
   },
   "outputs": [
    {
     "data": {
      "text/plain": [
       "10-element Vector{Int64}:\n",
       " 11\n",
       " 12\n",
       " 13\n",
       " 14\n",
       " 15\n",
       " 16\n",
       " 17\n",
       " 18\n",
       " 19\n",
       " 20"
      ]
     },
     "execution_count": 22,
     "metadata": {},
     "output_type": "execute_result"
    }
   ],
   "source": [
    "#output should be\n",
    "#11 \n",
    "#12\n",
    "#13\n",
    "#14\n",
    "#15\n",
    "#16\n",
    "#17\n",
    "#18\n",
    "#19\n",
    "#20\n",
    "colVect = collect(11:20)\n",
    "# your code here\n",
    "#throw(ErrorException())"
   ]
  },
  {
   "cell_type": "code",
   "execution_count": 23,
   "metadata": {
    "deletable": false,
    "editable": false,
    "nbgrader": {
     "cell_type": "code",
     "checksum": "69656a7ab3b0888b6c926fd906d62f52",
     "grade": true,
     "grade_id": "cell-7df9c508380d7636",
     "locked": true,
     "points": 2,
     "schema_version": 3,
     "solution": false,
     "task": false
    }
   },
   "outputs": [],
   "source": [
    "#autograder cell"
   ]
  },
  {
   "cell_type": "markdown",
   "metadata": {},
   "source": [
    "**Note: Other ways to build vectors**\n",
    "* Range notation n:k:m will start at n and take steps of size k to reach m.  Use collect(n:k:m) to make it into a vector\n",
    "* A[:] converts a matrix A to a vector\n",
    "* diag() returns the diagonal elements of a matrix as a vector"
   ]
  },
  {
   "cell_type": "markdown",
   "metadata": {},
   "source": [
    "### Problem 4.\n",
    "Using Indexing. we can extract cvalues from vectors by indexing variables, let's see how!\n"
   ]
  },
  {
   "cell_type": "code",
   "execution_count": 24,
   "metadata": {},
   "outputs": [
    {
     "name": "stdout",
     "output_type": "stream",
     "text": [
      "value = colVect[5] = 15\n"
     ]
    },
    {
     "data": {
      "text/plain": [
       "15"
      ]
     },
     "execution_count": 24,
     "metadata": {},
     "output_type": "execute_result"
    }
   ],
   "source": [
    "# What is the value of the 5th member of the colVect vector we just created, can you verify with this code?\n",
    "@show value = colVect[5]"
   ]
  },
  {
   "cell_type": "markdown",
   "metadata": {},
   "source": [
    "\n",
    "### a) Use indexing [] to return the \"panda\".  Keep in mind that Julia indexes refer to the location in a vector."
   ]
  },
  {
   "cell_type": "code",
   "execution_count": 26,
   "metadata": {
    "deletable": false,
    "nbgrader": {
     "cell_type": "code",
     "checksum": "d1548d2685663adef2f902cb80e780a2",
     "grade": false,
     "grade_id": "cell-0be31681aba733b4",
     "locked": false,
     "schema_version": 3,
     "solution": true,
     "task": false
    }
   },
   "outputs": [
    {
     "data": {
      "text/plain": [
       "\"panda\""
      ]
     },
     "execution_count": 26,
     "metadata": {},
     "output_type": "execute_result"
    }
   ],
   "source": [
    "animalsVector = [\"lemur\", \"elephant\", \"tiger\", \"panda\", \"zebra\", \"cuttlefish\"]\n",
    "myPanda = animalsVector[4]\n",
    "# your code here\n",
    "#throw(ErrorException())"
   ]
  },
  {
   "cell_type": "code",
   "execution_count": 27,
   "metadata": {
    "deletable": false,
    "editable": false,
    "nbgrader": {
     "cell_type": "code",
     "checksum": "35cf7551430be7a508d7973145430e33",
     "grade": true,
     "grade_id": "cell-51e5657dac47588e",
     "locked": true,
     "points": 2,
     "schema_version": 3,
     "solution": false,
     "task": false
    }
   },
   "outputs": [],
   "source": [
    "#autograder cell\n",
    "@assert myPanda == \"panda\""
   ]
  },
  {
   "cell_type": "markdown",
   "metadata": {},
   "source": [
    "### Problem 5. Special Matrix commands\n",
    "\n",
    "Let's start with an example code. Let's create a matrix of zeros with 2 rows and 3 columns"
   ]
  },
  {
   "cell_type": "code",
   "execution_count": 28,
   "metadata": {},
   "outputs": [
    {
     "data": {
      "text/plain": [
       "2×3 Matrix{Float64}:\n",
       " 0.0  0.0  0.0\n",
       " 0.0  0.0  0.0"
      ]
     },
     "execution_count": 28,
     "metadata": {},
     "output_type": "execute_result"
    }
   ],
   "source": [
    "Example_zeroMat = zeros(2,3)"
   ]
  },
  {
   "cell_type": "markdown",
   "metadata": {},
   "source": [
    "### a) Zeros: Create a matrix called zeroMat of zeros with 4 rows and 7 columns"
   ]
  },
  {
   "cell_type": "code",
   "execution_count": 29,
   "metadata": {
    "deletable": false,
    "nbgrader": {
     "cell_type": "code",
     "checksum": "e2bec7bbb2a863c62a1452212f3c05ea",
     "grade": false,
     "grade_id": "cell-9ca6613d99726a6b",
     "locked": false,
     "schema_version": 3,
     "solution": true,
     "task": false
    }
   },
   "outputs": [
    {
     "data": {
      "text/plain": [
       "4×7 Matrix{Float64}:\n",
       " 0.0  0.0  0.0  0.0  0.0  0.0  0.0\n",
       " 0.0  0.0  0.0  0.0  0.0  0.0  0.0\n",
       " 0.0  0.0  0.0  0.0  0.0  0.0  0.0\n",
       " 0.0  0.0  0.0  0.0  0.0  0.0  0.0"
      ]
     },
     "execution_count": 29,
     "metadata": {},
     "output_type": "execute_result"
    }
   ],
   "source": [
    "# your code here \n",
    "zeroMat = zeros(4, 7)\n",
    "# your code here"
   ]
  },
  {
   "cell_type": "code",
   "execution_count": 30,
   "metadata": {
    "deletable": false,
    "editable": false,
    "nbgrader": {
     "cell_type": "code",
     "checksum": "70555c2d244ff3f0e392b938b7c4495f",
     "grade": true,
     "grade_id": "cell-d124ce482005f752",
     "locked": true,
     "points": 2,
     "schema_version": 3,
     "solution": false,
     "task": false
    }
   },
   "outputs": [],
   "source": [
    "#autograder cell\n",
    "# Just checking if you succesfully ran the code! "
   ]
  },
  {
   "cell_type": "markdown",
   "metadata": {},
   "source": [
    "### Learning from the special matrix command zeros can you create a matrix of random numbers?\n",
    "Hint: Use the statement ```randn``` (equivalent of zeros but for creating matrices of random numbers) \n",
    "For example see the code in the fourth cell after this, it creates a 1x1 Matrix of a random number!\n",
    "\n",
    "### b) Create a matrix A of random numbers from a standard normal distribution(randn) with dimensions (17,8) "
   ]
  },
  {
   "cell_type": "code",
   "execution_count": 32,
   "metadata": {
    "deletable": false,
    "nbgrader": {
     "cell_type": "code",
     "checksum": "0bb141c31587e997a8d46333cececd3b",
     "grade": false,
     "grade_id": "cell-7aef9ce25edc0260",
     "locked": false,
     "schema_version": 3,
     "solution": true,
     "task": false
    }
   },
   "outputs": [
    {
     "data": {
      "text/plain": [
       "17×8 Matrix{Float64}:\n",
       " -0.841174  -1.90484   -0.161158   …   0.773841   -0.568799   -0.520943\n",
       " -0.854111  -1.46148   -0.612984      -0.0999043   0.652685    0.822536\n",
       "  0.372349   0.901629  -0.228405       0.539053    0.704043    0.139086\n",
       " -1.79572   -0.13332   -0.355542       1.24311    -0.144368    0.705115\n",
       "  0.450039   1.5436     0.0590932     -0.685868    0.626034    1.31082\n",
       "  0.818984  -0.775207  -0.123623   …   0.33729     0.65511    -0.590638\n",
       "  0.831178  -0.339012   0.882578      -0.0604317  -0.181406   -1.08765\n",
       " -0.405651  -0.491433   0.314067       0.442015    0.72652     1.29958\n",
       "  0.644368   0.151786  -0.148284       1.21546     0.0173538  -0.174796\n",
       "  0.508164   0.492881  -0.285176       1.03035     0.856295    0.993205\n",
       " -0.551889   1.2659     2.12937    …   1.51407    -0.105038   -0.0031474\n",
       "  0.841991   0.460471   0.117904      -0.0896882  -0.282494   -0.0678683\n",
       "  0.817929  -1.00145    0.452326      -0.495889    0.80461    -1.61257\n",
       "  1.5197     0.601775   0.95163        0.678706    1.55304     0.324634\n",
       "  2.70962    0.209236   1.1651         1.48085    -1.61958     0.384065\n",
       " -1.65251    0.370542  -0.502362   …  -0.432658   -1.21735    -0.971881\n",
       " -1.45179    0.650861   0.795817       1.36972    -1.51888    -0.164824"
      ]
     },
     "execution_count": 32,
     "metadata": {},
     "output_type": "execute_result"
    }
   ],
   "source": [
    "A = randn(17,8)\n",
    "# your code here\n",
    "#throw(ErrorException())"
   ]
  },
  {
   "cell_type": "code",
   "execution_count": 33,
   "metadata": {
    "deletable": false,
    "editable": false,
    "nbgrader": {
     "cell_type": "code",
     "checksum": "3b836e0f177387a5d638f5cee805bd0a",
     "grade": true,
     "grade_id": "cell-8cd8412de17d5b8f",
     "locked": true,
     "points": 2,
     "schema_version": 3,
     "solution": false,
     "task": false
    }
   },
   "outputs": [],
   "source": [
    "#autograder cell"
   ]
  },
  {
   "cell_type": "markdown",
   "metadata": {},
   "source": [
    "### A note about random seeds\n",
    "\n",
    "Random numbers, in Julia, are not truly \"random\". They are instead generated from a seed. In future homeworks, we will set the random seed manually, so that we are able to automatically grade your code output, even when the code inputs are ostensibly random. This property is also good for you - it would be difficult, to say the least, to diagnose issues in output if your input changes every time you run the cell! Here is a demonstration: the following cell, that generates a random number based on a seed, will generate the random number <code>-0.5560268761463861</code>"
   ]
  },
  {
   "cell_type": "code",
   "execution_count": 34,
   "metadata": {},
   "outputs": [
    {
     "data": {
      "text/plain": [
       "1×1 Matrix{Float64}:\n",
       " 0.7883556016042917"
      ]
     },
     "execution_count": 34,
     "metadata": {},
     "output_type": "execute_result"
    }
   ],
   "source": [
    "using Random \n",
    "Random.seed!(42)\n",
    "random_num = randn(1,1)\n",
    "\n",
    "# As version of julia is different, so our seed algorithm is different . "
   ]
  },
  {
   "cell_type": "markdown",
   "metadata": {},
   "source": [
    "Whoah! As can be seen, the random number generated is exactly the same. CAUTION: IT IS CRUCIAL TO ALWAYS MAKE SURE CELLS CONTAINING RANDOM SEEDS IN HOMEWORKS ARE RUN BEFORE RUNNING CELLS THAT GENERATE RANDOM NUMBERS. Humans may be smart, but autograders are dumb: we know that you generated a random number that we did not predict, but the autograder just sees an unexpected output, and assumes that your code was incorrect."
   ]
  },
  {
   "cell_type": "markdown",
   "metadata": {},
   "source": [
    "**Note:  Other ways to build matrices**\n",
    "* use hcat and vcat to concatenate vectors together horizontally or vertically\n",
    "* use ones() or zeros(m, n) to create a m by n matrix of either ones or zeros\n",
    "* use Diagonal(M) to create a diagonal matrix from a vector M\n",
    "* Random functions\n",
    "    * rand(m, n) makes an m by n matrix of random numbers from a uniform distribution 0-1\n",
    "    * randn(m, n) m by n matrix from a standard normal distribution\n",
    "    * rand(X, m, n) m by n matrix of random numbers in an array X\n",
    "* use reshape(X, m, n) to turn a vector X into a matrix size m by n\n",
    "* use repeat(X, m ,n) to repeat matrix X m times in the row direction and n times in the column direction"
   ]
  }
 ],
 "metadata": {
  "kernelspec": {
   "display_name": "Julia 1.10.2",
   "language": "julia",
   "name": "julia-1.10"
  },
  "language_info": {
   "file_extension": ".jl",
   "mimetype": "application/julia",
   "name": "julia",
   "version": "1.10.2"
  }
 },
 "nbformat": 4,
 "nbformat_minor": 4
}
