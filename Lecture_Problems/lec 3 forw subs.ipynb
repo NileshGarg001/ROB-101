{
 "cells": [
  {
   "cell_type": "code",
   "execution_count": 9,
   "id": "233f9333-1cfb-4aef-bca3-c9b3ceb4b0a9",
   "metadata": {},
   "outputs": [
    {
     "name": "stderr",
     "output_type": "stream",
     "text": [
      "\u001b[32m\u001b[1m   Resolving\u001b[22m\u001b[39m package versions...\n",
      "\u001b[32m\u001b[1m  No Changes\u001b[22m\u001b[39m to `C:\\Users\\Nilesh\\.julia\\environments\\v1.10\\Project.toml`\n",
      "\u001b[32m\u001b[1m  No Changes\u001b[22m\u001b[39m to `C:\\Users\\Nilesh\\.julia\\environments\\v1.10\\Manifest.toml`\n"
     ]
    }
   ],
   "source": [
    "using Pkg\n",
    "Pkg.add(\"LinearAlgebra\")\n",
    "using LinearAlgebra"
   ]
  },
  {
   "cell_type": "code",
   "execution_count": 10,
   "id": "50b7464e-558b-471c-b08c-cf82c1f02239",
   "metadata": {},
   "outputs": [
    {
     "data": {
      "text/plain": [
       "forwardsub (generic function with 1 method)"
      ]
     },
     "execution_count": 10,
     "metadata": {},
     "output_type": "execute_result"
    }
   ],
   "source": [
    "function forwardsub(L, b)\n",
    "    # L a square lower triangular matrix\n",
    "    # b has same number of rows as L\n",
    "    \n",
    "    # Assert no entries on the diagonal of L\n",
    "    # are 0 (or very close to 0)\n",
    "    if minimum(abs.(diag(L))) < 1e-6\n",
    "        return false\n",
    "    end\n",
    "    n = length(b)\n",
    "    x = Vector{Float64}(undef, n)\n",
    "    # Start from the top and work our way to the bottom\n",
    "    x[1] = b[1] / L[1,1]\n",
    "    for i = 2:1:n\n",
    "        x[i] = b[i] - L[i,1:i-1]'*x[1:i-1]\n",
    "    end\n",
    "    return x\n",
    "end"
   ]
  },
  {
   "cell_type": "code",
   "execution_count": 11,
   "id": "f5650f09-74fe-4a1c-bd8c-a68d85c8fd3d",
   "metadata": {},
   "outputs": [],
   "source": [
    "## Testing it on "
   ]
  },
  {
   "cell_type": "markdown",
   "id": "82dbd740-47f1-440b-89a2-4bd5bb357638",
   "metadata": {},
   "source": [
    "### My Test Case \n",
    " x1 = 1  \n",
    " x1 + x2 = 3  \n",
    " x1 + x2 + x3 = 6   \n",
    " x1 + x2 + x3 + x4 = 10  \n",
    " Solutions is x = [1,2,3,4]"
   ]
  },
  {
   "cell_type": "code",
   "execution_count": 12,
   "id": "9960af51-c8d0-475e-92be-a87517393ef2",
   "metadata": {},
   "outputs": [
    {
     "data": {
      "text/plain": [
       "4-element Vector{Int64}:\n",
       "  1\n",
       "  3\n",
       "  6\n",
       " 10"
      ]
     },
     "execution_count": 12,
     "metadata": {},
     "output_type": "execute_result"
    }
   ],
   "source": [
    "A = [1 0 0 0; 1 1 0 0; 1 1 1 0; 1 1 1 1]\n",
    "b = [1; 3; 6; 10]\n",
    "# b is a column vector "
   ]
  },
  {
   "cell_type": "code",
   "execution_count": 13,
   "id": "e59d211a-8346-47f3-9b6d-16022d5089bf",
   "metadata": {},
   "outputs": [
    {
     "data": {
      "text/plain": [
       "4-element Vector{Float64}:\n",
       " 1.0\n",
       " 2.0\n",
       " 3.0\n",
       " 4.0"
      ]
     },
     "execution_count": 13,
     "metadata": {},
     "output_type": "execute_result"
    }
   ],
   "source": [
    "x = forwardsub(A, b)"
   ]
  },
  {
   "cell_type": "markdown",
   "id": "61a2aede-42c0-4366-b1fd-54362eda1c47",
   "metadata": {},
   "source": [
    "### Congratulations\n",
    "It ran successfully. "
   ]
  },
  {
   "cell_type": "code",
   "execution_count": null,
   "id": "851c6cfb-8e98-4ce8-8b1c-9517e002c583",
   "metadata": {},
   "outputs": [],
   "source": []
  }
 ],
 "metadata": {
  "kernelspec": {
   "display_name": "Julia 1.10.2",
   "language": "julia",
   "name": "julia-1.10"
  },
  "language_info": {
   "file_extension": ".jl",
   "mimetype": "application/julia",
   "name": "julia",
   "version": "1.10.2"
  }
 },
 "nbformat": 4,
 "nbformat_minor": 5
}
