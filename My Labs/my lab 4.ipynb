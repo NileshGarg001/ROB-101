{
 "cells": [
  {
   "cell_type": "markdown",
   "id": "9bee5385",
   "metadata": {},
   "source": [
    "University of Michigan - ROB 101 Computational Linear Algebra"
   ]
  },
  {
   "cell_type": "markdown",
   "id": "a1df4a51",
   "metadata": {},
   "source": [
    "# Lab 4: Introduction to Functions\n",
    "\n",
    "### Purpose: Learn ways to define and call functions\n",
    "- Skills:\n",
    "    - Using if statements to regulate code execution\n",
    "    - Grouping operations into functions for repetitive usage\n",
    "- Knowledge:\n",
    "    - Introduction to LU factorization"
   ]
  },
  {
   "cell_type": "markdown",
   "id": "52b2106d",
   "metadata": {},
   "source": [
    "### Example 1. If Statements\n",
    "\n",
    "Julia provides a variety of control flow constructs. Control flow regulates the order of statements to be executed. `if-else` is a common control flow in Julia and other programming languages, and is widely used in functions. The syntax is as follows:\n",
    "<code>\n",
    "if **condition**\n",
    "    **statement1**\n",
    "else\n",
    "    **statement2**\n",
    "end\n",
    "</code>"
   ]
  },
  {
   "cell_type": "code",
   "execution_count": 1,
   "id": "580b397c",
   "metadata": {},
   "outputs": [
    {
     "name": "stdout",
     "output_type": "stream",
     "text": [
      "x is no less than y\n"
     ]
    }
   ],
   "source": [
    "# If the condition is evaluated to be true, execute statement1, otherwise, execute statement2\n",
    "x = 1\n",
    "y = 1\n",
    "if x < y\n",
    "    println(\"x is less than y\")\n",
    "else\n",
    "    println(\"x is no less than y\")\n",
    "end"
   ]
  },
  {
   "cell_type": "markdown",
   "id": "46a0e3e8",
   "metadata": {},
   "source": [
    "More conditions can be evaluated using `if-elseif-else` control flow with multiple `elseif` keywords. The syntax is as follows:\n",
    "<code>\n",
    "if **condition1**\n",
    "    **statement1**\n",
    "elseif **condition2**\n",
    "    **statement2**\n",
    "elseif **condition3**\n",
    "    **statement3**\n",
    "...\n",
    "else **conditionN**\n",
    "    **statementN**\n",
    "end\n",
    "</code>"
   ]
  },
  {
   "cell_type": "code",
   "execution_count": 2,
   "id": "f7167c6f",
   "metadata": {},
   "outputs": [
    {
     "name": "stdout",
     "output_type": "stream",
     "text": [
      "x is equal to y\n"
     ]
    }
   ],
   "source": [
    "# More conditions can be evaluated using elseif\n",
    "x = 1\n",
    "y = 1\n",
    "if x < y\n",
    "    println(\"x is less than y\")\n",
    "elseif x > y\n",
    "    println(\"x is greater than y\")\n",
    "else\n",
    "    println(\"x is equal to y\")\n",
    "end"
   ]
  },
  {
   "cell_type": "markdown",
   "id": "1825af8b",
   "metadata": {},
   "source": [
    "### [To read on your own]\n",
    "A simple `if-else` control flow can also be replaced by an inline `?:` ternary operator for convenience. The syntax is as follows:\n",
    "\n",
    "<code>**condition** ? **statement1** : **statement2**</code>"
   ]
  },
  {
   "cell_type": "code",
   "execution_count": 3,
   "id": "a5972c3d",
   "metadata": {},
   "outputs": [
    {
     "name": "stdout",
     "output_type": "stream",
     "text": [
      "x is no less than y\n"
     ]
    }
   ],
   "source": [
    "# If the condition is evaluated to be true, execute statement1, otherwise, execute statement2\n",
    "x = 1\n",
    "y = 1\n",
    "x < y ? println(\"x is less than y\") : println(\"x is no less than y\")"
   ]
  },
  {
   "cell_type": "markdown",
   "id": "301d20b6",
   "metadata": {},
   "source": [
    "### [Back to the lecture]\n",
    "For more complex conditions, a nested-`if` statement can be used to split the conditions, e.g.:"
   ]
  },
  {
   "cell_type": "code",
   "execution_count": 4,
   "id": "d44fcc02",
   "metadata": {},
   "outputs": [
    {
     "name": "stdout",
     "output_type": "stream",
     "text": [
      "We only know x is not less than y.\n",
      "Now we know x is equal to y.\n"
     ]
    }
   ],
   "source": [
    "# Nested-if control flow\n",
    "x = 1\n",
    "y = 1\n",
    "if x < y\n",
    "    println(\"We know x is less than y.\")\n",
    "else\n",
    "    println(\"We only know x is not less than y.\")\n",
    "    if x > y\n",
    "        println(\"Now we know x is greater than y.\")\n",
    "    else\n",
    "        println(\"Now we know x is equal to y.\")\n",
    "    end\n",
    "end"
   ]
  },
  {
   "cell_type": "markdown",
   "id": "c297b8a9",
   "metadata": {},
   "source": [
    "### Practice 1. "
   ]
  },
  {
   "cell_type": "code",
   "execution_count": 5,
   "id": "14946ec1",
   "metadata": {},
   "outputs": [
    {
     "data": {
      "text/plain": [
       "f (generic function with 1 method)"
      ]
     },
     "execution_count": 5,
     "metadata": {},
     "output_type": "execute_result"
    }
   ],
   "source": [
    "# Implement a function f(x) which adds one to x if x is an odd and positive number, \n",
    "# divides x by 2 if x is odd and negative, negates x if x is even\n",
    "# x is even can be evaluated by x % 2 == 0\n",
    "function f(x)\n",
    "    if x % 2 == 0\n",
    "        x = -x \n",
    "    else\n",
    "        if x > 0\n",
    "            x = x + 1 \n",
    "        else\n",
    "            x = x/2 \n",
    "        end\n",
    "    end     \n",
    "            \n",
    "    # END YOUR IMPLEMENTATION\n",
    "    return x\n",
    "end"
   ]
  },
  {
   "cell_type": "code",
   "execution_count": 6,
   "id": "7bf12440",
   "metadata": {},
   "outputs": [
    {
     "name": "stdout",
     "output_type": "stream",
     "text": [
      "all nothings means likely correct\n"
     ]
    },
    {
     "data": {
      "text/plain": [
       "1×4 Matrix{Nothing}:\n",
       " nothing  nothing  nothing  nothing"
      ]
     },
     "execution_count": 6,
     "metadata": {},
     "output_type": "execute_result"
    }
   ],
   "source": [
    "# Self-check\n",
    "println(\"all nothings means likely correct\")\n",
    "TF1 = @assert (f(-3) == -1.5)\n",
    "TF2 = @assert (f(2) == -2)\n",
    "TF3 = @assert (f(0) == 0)\n",
    "TF4 = @assert (f(3) == 4)\n",
    "[TF1 TF2 TF3 TF4]"
   ]
  },
  {
   "cell_type": "markdown",
   "id": "acf6c9e2-d446-4f51-a019-35961e40ed70",
   "metadata": {},
   "source": [
    "**We now learnt about if else and nested if else statements in Julia** "
   ]
  },
  {
   "cell_type": "markdown",
   "id": "0d7c2e17",
   "metadata": {},
   "source": [
    "### Example 2. Introduction to Functions\n",
    "\n",
    "In Julia, functions can be defined using the `function` keyword and the `return` keyword. The default value returned by a function is the last expression executed in the body of the function definition.\n",
    "\n",
    "However, it is a GOOD PROGRAMMING PRACTICE to use `return` to specify what is being returned by the function. The function will be terminated immediately after the `return` statement is executed."
   ]
  },
  {
   "cell_type": "code",
   "execution_count": 7,
   "id": "668574d4",
   "metadata": {},
   "outputs": [
    {
     "data": {
      "text/plain": [
       "2"
      ]
     },
     "execution_count": 7,
     "metadata": {},
     "output_type": "execute_result"
    }
   ],
   "source": [
    "# Specify a returned value using the return keyword\n",
    "function f(x)\n",
    "    return x + 1\n",
    "end\n",
    "# Call a function using parentheses and argument\n",
    "f(1)"
   ]
  },
  {
   "cell_type": "markdown",
   "id": "3bfa7aa6",
   "metadata": {},
   "source": [
    "The `return` keyword can be used more than once in a function definition in conjunction with other control flow constructs, e.g.:"
   ]
  },
  {
   "cell_type": "code",
   "execution_count": 8,
   "id": "e94122ee",
   "metadata": {},
   "outputs": [
    {
     "data": {
      "text/plain": [
       "2"
      ]
     },
     "execution_count": 8,
     "metadata": {},
     "output_type": "execute_result"
    }
   ],
   "source": [
    "# Define a function returning different value on different conditions\n",
    "function abs(a)\n",
    "    if a >= 0\n",
    "        return a\n",
    "    else\n",
    "        return -a\n",
    "    end\n",
    "end\n",
    "# You can assign the returned value to a variable\n",
    "b = abs(-2)"
   ]
  },
  {
   "cell_type": "markdown",
   "id": "9e395202",
   "metadata": {},
   "source": [
    "Functions can be defined to take multiple **arguments** (inputs)."
   ]
  },
  {
   "cell_type": "code",
   "execution_count": 9,
   "id": "e16da0a3",
   "metadata": {},
   "outputs": [
    {
     "data": {
      "text/plain": [
       "2"
      ]
     },
     "execution_count": 9,
     "metadata": {},
     "output_type": "execute_result"
    }
   ],
   "source": [
    "# Define a function with multiple arguments\n",
    "function sum(a, b)\n",
    "    return a + b\n",
    "end\n",
    "sum(1, 1)"
   ]
  },
  {
   "cell_type": "markdown",
   "id": "3cb1ac2c",
   "metadata": {},
   "source": [
    "### [To read on your own]\n",
    "Some arguments of a function can be defined as optional by providing a defult value., e.g.:"
   ]
  },
  {
   "cell_type": "code",
   "execution_count": null,
   "id": "4c5b44e0",
   "metadata": {},
   "outputs": [],
   "source": [
    "# Define a function with optional argument. Here a default value for z is given.\n",
    "# If you just call this function with two arguments, it will assume z=0.\n",
    "# You can also call it with three arguments by providing your own z value.\n",
    "function xyzpos(x, y, z=0)\n",
    "    println(\"The robot is at position ($x, $y, $z).\")\n",
    "end\n",
    "xyzpos(1, 2)"
   ]
  },
  {
   "cell_type": "markdown",
   "id": "fb9c241b-63fe-4462-98b6-0e6c22e1399c",
   "metadata": {},
   "source": [
    "**$ function serves same function as {} in python f strings**"
   ]
  },
  {
   "cell_type": "markdown",
   "id": "f767f296",
   "metadata": {},
   "source": [
    "### [Back to the lecture]\n",
    "Functions can be defined to return multiple values."
   ]
  },
  {
   "cell_type": "code",
   "execution_count": 11,
   "id": "f8e08477",
   "metadata": {},
   "outputs": [
    {
     "data": {
      "text/plain": [
       "(5, 3)"
      ]
     },
     "execution_count": 11,
     "metadata": {},
     "output_type": "execute_result"
    }
   ],
   "source": [
    "# Define a function with multiple returned values\n",
    "# This function takes a vector as input, and returns the maximum value and the corresponding index\n",
    "function max(input_vector)\n",
    "    # Initialize max to the first element of the vector\n",
    "    # Then update when we find a greater element\n",
    "    maximum_value = input_vector[1]\n",
    "    maximum_index = 1\n",
    "    for i in 1:length(input_vector)\n",
    "        if input_vector[i] > maximum_value\n",
    "            maximum_value = input_vector[i]\n",
    "            maximum_index = i\n",
    "        end\n",
    "    end\n",
    "    return maximum_value, maximum_index\n",
    "end\n",
    "\n",
    "a = [0, 1, 5, 3]\n",
    "maximum_value, maximum_index = max(a)"
   ]
  },
  {
   "cell_type": "markdown",
   "id": "317a9337",
   "metadata": {},
   "source": [
    "### Practice 2.\n",
    "\n",
    "<img align=left src=\"https://miro.medium.com/max/1280/1*C7KdIsgmKq2EHFBHG1irtw.png\" width=\"500\"/>"
   ]
  },
  {
   "cell_type": "code",
   "execution_count": 12,
   "id": "4d555ca3",
   "metadata": {},
   "outputs": [
    {
     "data": {
      "text/plain": [
       "f (generic function with 1 method)"
      ]
     },
     "execution_count": 12,
     "metadata": {},
     "output_type": "execute_result"
    }
   ],
   "source": [
    "# Implement a function f() as shown in the above figure\n",
    "function f(x)\n",
    "    if x <= 0\n",
    "        return 0 \n",
    "    elseif x <= 6\n",
    "        return x\n",
    "    else\n",
    "        return 6 \n",
    "    end \n",
    "end"
   ]
  },
  {
   "cell_type": "code",
   "execution_count": 13,
   "id": "e8b66f59",
   "metadata": {},
   "outputs": [
    {
     "name": "stdout",
     "output_type": "stream",
     "text": [
      "all nothings means likely correct\n"
     ]
    },
    {
     "data": {
      "text/plain": [
       "1×4 Matrix{Nothing}:\n",
       " nothing  nothing  nothing  nothing"
      ]
     },
     "execution_count": 13,
     "metadata": {},
     "output_type": "execute_result"
    }
   ],
   "source": [
    "# Self-check\n",
    "println(\"all nothings means likely correct\")\n",
    "TF1 = @assert(f(1.3) == 1.3)\n",
    "TF2 = @assert(f(6) == 6)\n",
    "TF3 = @assert(f(-10) == 0)\n",
    "TF4 = @assert(f(100) == 6)\n",
    "[TF1 TF2 TF3 TF4]"
   ]
  },
  {
   "cell_type": "markdown",
   "id": "232ec2cd",
   "metadata": {},
   "source": [
    "### [To read on your own] Below is a function that you will want to have. It is based on JuliaHW4.\n",
    "### Suggestion: build on your own function called backwardsub(U, b)"
   ]
  },
  {
   "cell_type": "code",
   "execution_count": 14,
   "id": "a0fa6d0f",
   "metadata": {},
   "outputs": [
    {
     "data": {
      "text/plain": [
       "forwardsub (generic function with 1 method)"
      ]
     },
     "execution_count": 14,
     "metadata": {},
     "output_type": "execute_result"
    }
   ],
   "source": [
    "using LinearAlgebra\n",
    "function forwardsub(L, b)\n",
    "    # Assert no entries in the diagonal of U\n",
    "    # are 0 (or very close to 0)\n",
    "    @assert minimum(abs.(diag(L))) > 1e-6\n",
    "    # START of our computations\n",
    "    n = length(b)\n",
    "    x = Vector{Float64}(undef, n); #initialize an x vector of the correct size\n",
    "    x[1] = b[1]/L[1,1] #find the first entry of x\n",
    "    for i = 2:n #find every entry from the 2nd to the end\n",
    "        x[i]=(b[i]- (L[i,1:i-1])' *x[1:i-1] )/L[i,i] \n",
    "        #notice that we used a transpose operator to get the row of L\n",
    "    end\n",
    "    # END of our computations. \n",
    "    return x\n",
    "end"
   ]
  },
  {
   "cell_type": "code",
   "execution_count": 37,
   "id": "326d2b7b-92df-416d-bf27-ba6b58003720",
   "metadata": {},
   "outputs": [
    {
     "data": {
      "text/plain": [
       "backwardsub (generic function with 1 method)"
      ]
     },
     "execution_count": 37,
     "metadata": {},
     "output_type": "execute_result"
    }
   ],
   "source": [
    "using LinearAlgebra\n",
    "function backwardsub(U, y)\n",
    "    # Assert no entries in the diagonal of U\n",
    "    # are 0 (or very close to 0)\n",
    "    @assert minimum(abs.(diag(U))) > 1e-6\n",
    "    # START of our computations\n",
    "    n = length(y)\n",
    "    x = Vector{Float64}(undef, n); #initialize an x vector of the correct size\n",
    "    x[n] = y[n]/U[n,n] #find the first entry of x\n",
    "    for i = n-1:-1:1 #find every entry from the 2nd to the end\n",
    "        x[i]=(y[i]- (U[i:i,i+1:n] *x[i+1:n])[1])/U[i,i] \n",
    "        #notice that we used a transpose operator to get the row of L\n",
    "    end\n",
    "    # END of our computations. \n",
    "    return x\n",
    "end"
   ]
  },
  {
   "cell_type": "code",
   "execution_count": 18,
   "id": "62c24d4f",
   "metadata": {},
   "outputs": [
    {
     "data": {
      "text/plain": [
       "10×1 Matrix{Float64}:\n",
       "  0.0\n",
       "  0.0\n",
       "  3.3306690738754696e-16\n",
       "  4.440892098500626e-16\n",
       " -1.6653345369377348e-15\n",
       "  9.43689570931383e-15\n",
       " -7.549516567451064e-15\n",
       "  1.7583157152500917e-14\n",
       "  1.1546319456101628e-14\n",
       " -1.5182299861749016e-13"
      ]
     },
     "execution_count": 18,
     "metadata": {},
     "output_type": "execute_result"
    }
   ],
   "source": [
    "# Let's use our code function \n",
    "using Random\n",
    "Random.seed!(09182021)\n",
    "N=10\n",
    "# Try N = 100 or 1000\n",
    "L=randn(N,N)\n",
    "# Make entries above the diagonal zero\n",
    "for i=1:N\n",
    "    for j=i+1:N\n",
    "        L[i,j]=0.0\n",
    "    end\n",
    "end\n",
    "b=randn(N,1)\n",
    "## Solve Lx = b\n",
    "x = forwardsub(L, b)\n",
    "L*x - b "
   ]
  },
  {
   "cell_type": "markdown",
   "id": "07d2bc0c",
   "metadata": {},
   "source": [
    "### Example 3. Peeling the Onion\n",
    "\n",
    "Given a generic square matrix, can we factor it as the product of a lower-triangular matrix and an upper-triangular matrix?\n",
    "\n",
    "As introduced in the textbook, we can do this by <span style=\"color:red\">**peeling the onion**</span>: **working from the top left corner and working down the diagonal, it successively eliminates columns and rows from a matrix!**\n",
    "\n",
    "This example will teach you how to use a function to solve the problem more easily.\n",
    "\n",
    "<img align=\"left\" src=\"https://content.presentermedia.com/content/animsp/00021000/21530/onion_layers_300_wht.gif\"/>"
   ]
  },
  {
   "cell_type": "code",
   "execution_count": null,
   "id": "b14f175b",
   "metadata": {},
   "outputs": [],
   "source": [
    "using Random\n",
    "using LinearAlgebra\n",
    "Random.seed!(09182021)\n",
    "A = randn(5, 5)"
   ]
  },
  {
   "cell_type": "markdown",
   "id": "5868a954-05de-4464-bc2b-29f610ddd774",
   "metadata": {},
   "source": [
    "#### Creating LU factorisation for a case with zero permutations "
   ]
  },
  {
   "cell_type": "code",
   "execution_count": 19,
   "id": "0fcd8fbe",
   "metadata": {},
   "outputs": [
    {
     "data": {
      "text/plain": [
       "peel_one_layer (generic function with 1 method)"
      ]
     },
     "execution_count": 19,
     "metadata": {},
     "output_type": "execute_result"
    }
   ],
   "source": [
    "function peel_one_layer(Temp, k)\n",
    "    # We boldly assume pivot is never zero\n",
    "    # A good programmer would use an if statement to \n",
    "    # test for pivot being almost zero\n",
    "    pivot = Temp[k, k]\n",
    "    C = Temp[:, k] / pivot\n",
    "    R = Temp[k:k, :]\n",
    "    Temp = Temp - C*R\n",
    "    return C, R, Temp\n",
    "end"
   ]
  },
  {
   "cell_type": "code",
   "execution_count": 21,
   "id": "1867294a",
   "metadata": {},
   "outputs": [
    {
     "data": {
      "text/plain": [
       "4×4 Matrix{Float64}:\n",
       " 0.0   0.0      0.0        0.0\n",
       " 0.0  -5.37745  3.67025    0.0331796\n",
       " 0.0   1.28977  0.801127  -0.048698\n",
       " 0.0  -3.9296   3.47931    0.0130239"
      ]
     },
     "execution_count": 21,
     "metadata": {},
     "output_type": "execute_result"
    }
   ],
   "source": [
    "# Exercise 1\n",
    "# Remove 1st row and column of A\n",
    "A = randn(4,4)\n",
    "(C, R, PeeledMatrix) = peel_one_layer(A, 1)\n",
    "PeeledMatrix"
   ]
  },
  {
   "cell_type": "code",
   "execution_count": 22,
   "id": "1b5bae9c",
   "metadata": {},
   "outputs": [
    {
     "data": {
      "text/plain": [
       "4×4 Matrix{Float64}:\n",
       " -0.233752   1.08883    0.0          -0.0271631\n",
       " -2.51404    0.424189   0.0          -0.0358607\n",
       "  0.0        0.0        0.0           0.0\n",
       " -1.91498   -0.610995  -2.22045e-16   0.00199011"
      ]
     },
     "execution_count": 22,
     "metadata": {},
     "output_type": "execute_result"
    }
   ],
   "source": [
    "# Exercise 2\n",
    "# Just for fun, remove thrid row and column of the orignal A matrix\n",
    "# This is not super useful, but it shows that you can remove any column-row pair.\n",
    "# To make LU work, you have to remove the column-row pairs in the correct order\n",
    "(C, R, PeeledMatrix) = peel_one_layer(A, 3)\n",
    "PeeledMatrix"
   ]
  },
  {
   "cell_type": "code",
   "execution_count": 23,
   "id": "b56c948b",
   "metadata": {},
   "outputs": [],
   "source": [
    "Temp = copy(A) # Initialize Temp matrix by copying the original matrix A\n",
    "nRows, nCols = size(Temp) # Get the size of the input matrix\n",
    "\n",
    "# Initialize the lower and upper triangular matrices L and U to zero\n",
    "# We show two different ways to accomplish this\n",
    "L = zeros(Float64, (nRows, nCols)) # Using zeros function by specifying the type and size\n",
    "U = zero(Temp) # Or using the zero function by providing a 'similar' matrix (means same size)\n",
    "\n",
    "# Successively peel away columns and rows from Temp\n",
    "for k = 1 : nRows\n",
    "    C, R, Temp = peel_one_layer(Temp, k)\n",
    "    L[:, k] = C\n",
    "    U[k:k, :] = R\n",
    "end"
   ]
  },
  {
   "cell_type": "code",
   "execution_count": 24,
   "id": "edd54c4d",
   "metadata": {},
   "outputs": [
    {
     "data": {
      "text/plain": [
       "4×4 Matrix{Float64}:\n",
       "  1.0      -0.0       0.0       0.0\n",
       "  5.49777   1.0       0.0       0.0\n",
       " -1.14756  -0.239848  1.0       0.0\n",
       "  3.2085    0.730755  0.474152  1.0"
      ]
     },
     "execution_count": 24,
     "metadata": {},
     "output_type": "execute_result"
    }
   ],
   "source": [
    "L"
   ]
  },
  {
   "cell_type": "code",
   "execution_count": 25,
   "id": "5dcba509",
   "metadata": {},
   "outputs": [
    {
     "data": {
      "text/plain": [
       "4×4 Matrix{Float64}:\n",
       " -0.435009   1.05862  -0.601063  -0.0140133\n",
       "  0.0       -5.37745   3.67025    0.0331796\n",
       "  0.0        0.0       1.68143   -0.04074\n",
       "  0.0        0.0       0.0        0.00809469"
      ]
     },
     "execution_count": 25,
     "metadata": {},
     "output_type": "execute_result"
    }
   ],
   "source": [
    "U"
   ]
  },
  {
   "cell_type": "code",
   "execution_count": 26,
   "id": "589b0d82",
   "metadata": {},
   "outputs": [
    {
     "data": {
      "text/plain": [
       "4×4 Matrix{Float64}:\n",
       " 0.0   0.0           0.0           0.0\n",
       " 0.0  -1.11022e-16  -1.11022e-16   0.0\n",
       " 0.0   1.38778e-16  -2.22045e-16   0.0\n",
       " 0.0   0.0          -2.22045e-16  -6.93889e-18"
      ]
     },
     "execution_count": 26,
     "metadata": {},
     "output_type": "execute_result"
    }
   ],
   "source": [
    "A - L*U"
   ]
  },
  {
   "cell_type": "markdown",
   "id": "23970310",
   "metadata": {},
   "source": [
    "### Practice 3."
   ]
  },
  {
   "cell_type": "code",
   "execution_count": 40,
   "id": "4e83eee1",
   "metadata": {},
   "outputs": [
    {
     "data": {
      "text/plain": [
       "5-element Vector{Float64}:\n",
       "  0.43444436669984265\n",
       "  0.016609262643428074\n",
       " -0.6334209906937738\n",
       " -0.07118754718822073\n",
       " -0.2947621381942412"
      ]
     },
     "execution_count": 40,
     "metadata": {},
     "output_type": "execute_result"
    }
   ],
   "source": [
    "# Using Julia built-in function lu() for LU decomposition and solve Ax=b\n",
    "using Random\n",
    "using LinearAlgebra\n",
    "Random.seed!(123456)\n",
    "A = randn(5,5)\n",
    "b = randn(5, 1)\n",
    "\n",
    "### START YOUR IMPLEMENTATION\n",
    "### END YOUR IMPLEMENTATION\n",
    "L,U = lu(A,Val(false))\n",
    "y = forwardsub(L, b)\n",
    "x = backwardsub(U, y)\n"
   ]
  },
  {
   "cell_type": "code",
   "execution_count": 41,
   "id": "d16cffdf",
   "metadata": {},
   "outputs": [
    {
     "name": "stdout",
     "output_type": "stream",
     "text": [
      "nothing"
     ]
    }
   ],
   "source": [
    "# Self-check\n",
    "invSol = inv(A) * b\n",
    "print(@assert isapprox(invSol, x))"
   ]
  },
  {
   "cell_type": "markdown",
   "id": "33e506ac",
   "metadata": {},
   "source": [
    "### Something for Fun: Plot a Clock!\n",
    "\n",
    "<img align=left src=\"https://c.tenor.com/mFAI-RYiVAQAAAAC/anime-wow.gif\" width=\"300\" />"
   ]
  },
  {
   "cell_type": "code",
   "execution_count": 42,
   "id": "3b390c01",
   "metadata": {},
   "outputs": [
    {
     "data": {
      "text/plain": [
       "plot_current_time (generic function with 1 method)"
      ]
     },
     "execution_count": 42,
     "metadata": {},
     "output_type": "execute_result"
    }
   ],
   "source": [
    "using Dates\n",
    "using Plots\n",
    "function plot_current_time()\n",
    "    th = 0:0.1:2*pi\n",
    "    X = cos.(th)\n",
    "    Y = sin.(th)\n",
    "    plt = plot(X, Y, aspect_ratio=1, axis=([], false), legend=false)\n",
    "    add_numbers(plt)\n",
    "    t = Dates.now()\n",
    "    th_h = -((Dates.hour(t) - 4) % 12 / 12 * 2*pi - pi/2)\n",
    "    plot!(plt, [0, 0.6*cos(th_h)], [0, 0.6*sin(th_h)], arrow=true)\n",
    "    th_m = -(Dates.minute(t) / 60 * 2*pi - pi/2)\n",
    "    plot!(plt, [0, 0.8*cos(th_m)], [0, 0.8*sin(th_m)], arrow=true)\n",
    "    th_s = -(Dates.second(t) / 60 * 2*pi - pi/2)\n",
    "    plot!(plt, [0, cos(th_s)], [0, sin(th_s)], arrow=true)\n",
    "end"
   ]
  },
  {
   "cell_type": "code",
   "execution_count": 43,
   "id": "7fc2aef7",
   "metadata": {},
   "outputs": [
    {
     "data": {
      "text/plain": [
       "add_numbers (generic function with 1 method)"
      ]
     },
     "execution_count": 43,
     "metadata": {},
     "output_type": "execute_result"
    }
   ],
   "source": [
    "function add_numbers(plt)\n",
    "    for n = 1:12\n",
    "        theta = -(n / 12 * 2*pi - pi/2)\n",
    "        annotate!(cos(theta), sin(theta), n)\n",
    "    end\n",
    "end"
   ]
  },
  {
   "cell_type": "code",
   "execution_count": 45,
   "id": "4b612f0e",
   "metadata": {},
   "outputs": [
    {
     "name": "stderr",
     "output_type": "stream",
     "text": [
      "\u001b[36m\u001b[1m[ \u001b[22m\u001b[39m\u001b[36m\u001b[1mInfo: \u001b[22m\u001b[39mSaved animation to C:\\Users\\Nilesh\\Desktop\\Learn Robotics and AI\\rob lectures notebooks\\clock.gif\n"
     ]
    },
    {
     "data": {
      "text/html": [
       "<img src=\"data:image/gif;base64,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\" />"
      ],
      "text/plain": [
       "Plots.AnimatedGif(\"C:\\\\Users\\\\Nilesh\\\\Desktop\\\\Learn Robotics and AI\\\\rob lectures notebooks\\\\clock.gif\")"
      ]
     },
     "execution_count": 45,
     "metadata": {},
     "output_type": "execute_result"
    }
   ],
   "source": [
    "anim = @animate for i in 1:1000\n",
    "    plot_current_time()\n",
    "end\n",
    "gif(anim, \"clock.gif\", fps=30)"
   ]
  },
  {
   "cell_type": "code",
   "execution_count": null,
   "id": "8cfa1bbf-bc89-4b17-af2d-52c328ebe942",
   "metadata": {},
   "outputs": [],
   "source": []
  }
 ],
 "metadata": {
  "kernelspec": {
   "display_name": "Julia 1.10.2",
   "language": "julia",
   "name": "julia-1.10"
  },
  "language_info": {
   "file_extension": ".jl",
   "mimetype": "application/julia",
   "name": "julia",
   "version": "1.10.2"
  }
 },
 "nbformat": 4,
 "nbformat_minor": 5
}
