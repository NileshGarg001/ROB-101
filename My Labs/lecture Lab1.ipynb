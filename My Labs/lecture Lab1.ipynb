{
 "cells": [
  {
   "cell_type": "markdown",
   "id": "1f397bec-2fa6-4836-bca8-0f70ee119aa6",
   "metadata": {},
   "source": [
    "# Julia "
   ]
  },
  {
   "cell_type": "markdown",
   "id": "0051426f-ab32-40c3-9747-7dc942b839b1",
   "metadata": {},
   "source": [
    "Julia can be a powerful than a graphical computer. "
   ]
  },
  {
   "cell_type": "markdown",
   "id": "8ad2b4cf-e161-47f6-a09a-d2fdc2d09338",
   "metadata": {},
   "source": [
    "### Basic Airthmetic Operations "
   ]
  },
  {
   "cell_type": "code",
   "execution_count": 1,
   "id": "47cd9387-dab8-416a-9533-714c5f8e75d5",
   "metadata": {},
   "outputs": [
    {
     "data": {
      "text/plain": [
       "0.0"
      ]
     },
     "execution_count": 1,
     "metadata": {},
     "output_type": "execute_result"
    }
   ],
   "source": [
    "4 + 7.54 - 11.54"
   ]
  },
  {
   "cell_type": "markdown",
   "id": "d182d2a6-1a7f-4ffa-b1c0-55286057bb09",
   "metadata": {},
   "source": [
    "Julia follows PEDMAS opertator precedance \n",
    "* Paranthesis\n",
    "* Exponential\n",
    "* Division, Multipication\n",
    "* Addition, Subraction "
   ]
  },
  {
   "cell_type": "markdown",
   "id": "68b70fbc-3714-452c-8d2d-07f87f81f18c",
   "metadata": {},
   "source": [
    "Most assignments have test cases and then they are graded automatically.  \n",
    "Assert Command is used to check test cases "
   ]
  },
  {
   "cell_type": "markdown",
   "id": "c2b8b525-cc74-4a5b-bebe-eaad5453ef69",
   "metadata": {},
   "source": [
    "### Built In Math Operations "
   ]
  },
  {
   "cell_type": "markdown",
   "id": "f226dab3-fb07-49ec-9da4-23a109032931",
   "metadata": {},
   "source": [
    "round(), ceil(), floor(), abs()  \n",
    "trunc() - chops off anything beyond decimal  (think for negative value too, it's not same as floor)    \n",
    "sin(), cos(), tan() and many trigonometrical functions  \n",
    "sqrt(), exp(), log()  \n",
    "**You can always google if you forget a function**"
   ]
  },
  {
   "cell_type": "code",
   "execution_count": 2,
   "id": "07f113d3-016e-4f9a-8f2f-a39377b1500e",
   "metadata": {},
   "outputs": [
    {
     "data": {
      "text/plain": [
       "1.0"
      ]
     },
     "execution_count": 2,
     "metadata": {},
     "output_type": "execute_result"
    }
   ],
   "source": [
    "cos(2*pi)"
   ]
  },
  {
   "cell_type": "code",
   "execution_count": 3,
   "id": "ab81a961-a1e4-439a-9cc2-72382906fecc",
   "metadata": {},
   "outputs": [
    {
     "data": {
      "text/plain": [
       "-1.0"
      ]
     },
     "execution_count": 3,
     "metadata": {},
     "output_type": "execute_result"
    }
   ],
   "source": [
    "cos(pi)"
   ]
  },
  {
   "cell_type": "code",
   "execution_count": 4,
   "id": "54ff1d60-aab6-49c4-ba98-1c087b07364d",
   "metadata": {},
   "outputs": [
    {
     "data": {
      "text/plain": [
       "-0.6887043176210756"
      ]
     },
     "execution_count": 4,
     "metadata": {},
     "output_type": "execute_result"
    }
   ],
   "source": [
    "sin(exp(10))"
   ]
  },
  {
   "cell_type": "code",
   "execution_count": 5,
   "id": "df790432-65ba-4ef5-b474-2d048b84f41e",
   "metadata": {
    "scrolled": true
   },
   "outputs": [
    {
     "data": {
      "text/plain": [
       "-2.0"
      ]
     },
     "execution_count": 5,
     "metadata": {},
     "output_type": "execute_result"
    }
   ],
   "source": [
    "floor(-1.5)"
   ]
  },
  {
   "cell_type": "code",
   "execution_count": 6,
   "id": "d6b7d0cc-5238-4919-81a4-c9df9cedc8b0",
   "metadata": {},
   "outputs": [
    {
     "data": {
      "text/plain": [
       "-1.0"
      ]
     },
     "execution_count": 6,
     "metadata": {},
     "output_type": "execute_result"
    }
   ],
   "source": [
    "trunc(-1.5)"
   ]
  },
  {
   "cell_type": "markdown",
   "id": "0079a6d6-377f-4452-92d8-bfef7947db9d",
   "metadata": {},
   "source": [
    "Assert tries to check a condtion and asserts true or gives a warning. "
   ]
  },
  {
   "cell_type": "markdown",
   "id": "c164363c-f5c3-46d6-af67-64a77cc11116",
   "metadata": {},
   "source": [
    "You can also play along with already built labs "
   ]
  },
  {
   "cell_type": "markdown",
   "id": "95d097ac-fee8-4f60-b45a-30316a2e6d39",
   "metadata": {},
   "source": [
    "Illumi Desk is cloud based notebooks which are used by U michigan in the course. "
   ]
  },
  {
   "cell_type": "markdown",
   "id": "a2b27554-e951-40c9-aa46-9d6f213f71ee",
   "metadata": {},
   "source": [
    "### Data Types \n",
    "int64  \n",
    "float64  \n",
    "char by ' '  \n",
    "Strings by \" \"  "
   ]
  },
  {
   "cell_type": "markdown",
   "id": "2d3bcf16-c889-42db-87ac-dc472f77d669",
   "metadata": {},
   "source": [
    "Robotic Semantics - Assigning name to each object for robot training "
   ]
  },
  {
   "cell_type": "markdown",
   "id": "8114414a-b552-43fd-889e-aebc745817a2",
   "metadata": {},
   "source": [
    "### Functions "
   ]
  },
  {
   "cell_type": "code",
   "execution_count": 7,
   "id": "da6cd6ca-c2bf-4776-a67f-66de5b32c70b",
   "metadata": {},
   "outputs": [
    {
     "data": {
      "text/plain": [
       "33"
      ]
     },
     "execution_count": 7,
     "metadata": {},
     "output_type": "execute_result"
    }
   ],
   "source": [
    "f(x) = 5x + 8 \n",
    "f(5)"
   ]
  },
  {
   "cell_type": "code",
   "execution_count": 8,
   "id": "e7ec5113-83c0-4924-b777-05d41b9efa70",
   "metadata": {},
   "outputs": [
    {
     "data": {
      "text/plain": [
       "43"
      ]
     },
     "execution_count": 8,
     "metadata": {},
     "output_type": "execute_result"
    }
   ],
   "source": [
    "f(7)"
   ]
  },
  {
   "cell_type": "code",
   "execution_count": 9,
   "id": "1c25a03b-1fe6-4480-bbfd-adef712bbe54",
   "metadata": {},
   "outputs": [
    {
     "name": "stderr",
     "output_type": "stream",
     "text": [
      "\u001b[32m\u001b[1m   Resolving\u001b[22m\u001b[39m package versions...\n",
      "\u001b[32m\u001b[1m  No Changes\u001b[22m\u001b[39m to `C:\\Users\\Nilesh\\.julia\\environments\\v1.10\\Project.toml`\n",
      "\u001b[32m\u001b[1m  No Changes\u001b[22m\u001b[39m to `C:\\Users\\Nilesh\\.julia\\environments\\v1.10\\Manifest.toml`\n"
     ]
    }
   ],
   "source": [
    "import Pkg\n",
    "Pkg.add(\"Plots\")"
   ]
  },
  {
   "cell_type": "code",
   "execution_count": 10,
   "id": "5a1c2177-0968-4be4-8bb4-7399eacdad46",
   "metadata": {},
   "outputs": [],
   "source": [
    "using Plots"
   ]
  },
  {
   "cell_type": "code",
   "execution_count": 11,
   "id": "f4932d4e-a63e-458c-b219-4a179e832ffe",
   "metadata": {},
   "outputs": [
    {
     "data": {
      "text/plain": [
       "Plots.GRBackend()"
      ]
     },
     "execution_count": 11,
     "metadata": {},
     "output_type": "execute_result"
    }
   ],
   "source": [
    "gr()"
   ]
  },
  {
   "cell_type": "markdown",
   "id": "f3ea00fd-4dc4-4c3d-9fba-308a5cc9042e",
   "metadata": {},
   "source": [
    "This plot thing is highly useful in hw 1 "
   ]
  },
  {
   "cell_type": "code",
   "execution_count": 16,
   "id": "c45f3eed-b427-4323-9292-b8988aa50327",
   "metadata": {},
   "outputs": [
    {
     "data": {
      "image/png": "[encoded data removed]",
      "image/svg+xml": [
       "<?xml version=\"1.0\" encoding=\"utf-8\"?>\n",
       "<svg xmlns=\"http://www.w3.org/2000/svg\" xmlns:xlink=\"http://www.w3.org/1999/xlink\" width=\"600\" height=\"400\" viewBox=\"0 0 2400 1600\">\n",
       "<defs>\n",
       "  <clipPath id=\"clip070\">\n",
       "    <rect x=\"0\" y=\"0\" width=\"2400\" height=\"1600\"/>\n",
       "  </clipPath>\n",
       "</defs>\n",
       "<path clip-path=\"url(#clip070)\" d=\"M0 1600 L2400 1600 L2400 0 L0 0  Z\" fill=\"#ffffff\" fill-rule=\"evenodd\" fill-opacity=\"1\"/>\n",
       "<defs>\n",
       "  <clipPath id=\"clip071\">\n",
       "    <rect x=\"480\" y=\"0\" width=\"1681\" height=\"1600\"/>\n",
       "  </clipPath>\n",
       "</defs>\n",
       "<path clip-path=\"url(#clip070)\" d=\"M178.867 1486.45 L2352.76 1486.45 L2352.76 47.2441 L178.867 47.2441  Z\" fill=\"#ffffff\" fill-rule=\"evenodd\" fill-opacity=\"1\"/>\n",
       "<defs>\n",
       "  <clipPath id=\"clip072\">\n",
       "    <rect x=\"178\" y=\"47\" width=\"2175\" height=\"1440\"/>\n",
       "  </clipPath>\n",
       "</defs>\n",
       "<polyline clip-path=\"url(#clip072)\" style=\"stroke:#000000; stroke-linecap:round; stroke-linejoin:round; stroke-width:2; stroke-opacity:0.1; fill:none\" points=\"445.476,1486.45 445.476,47.2441 \"/>\n",
       "<polyline clip-path=\"url(#clip072)\" style=\"stroke:#000000; stroke-linecap:round; stroke-linejoin:round; stroke-width:2; stroke-opacity:0.1; fill:none\" points=\"855.643,1486.45 855.643,47.2441 \"/>\n",
       "<polyline clip-path=\"url(#clip072)\" style=\"stroke:#000000; stroke-linecap:round; stroke-linejoin:round; stroke-width:2; stroke-opacity:0.1; fill:none\" points=\"1265.81,1486.45 1265.81,47.2441 \"/>\n",
       "<polyline clip-path=\"url(#clip072)\" style=\"stroke:#000000; stroke-linecap:round; stroke-linejoin:round; stroke-width:2; stroke-opacity:0.1; fill:none\" points=\"1675.98,1486.45 1675.98,47.2441 \"/>\n",
       "<polyline clip-path=\"url(#clip072)\" style=\"stroke:#000000; stroke-linecap:round; stroke-linejoin:round; stroke-width:2; stroke-opacity:0.1; fill:none\" points=\"2086.15,1486.45 2086.15,47.2441 \"/>\n",
       "<polyline clip-path=\"url(#clip070)\" style=\"stroke:#000000; stroke-linecap:round; stroke-linejoin:round; stroke-width:4; stroke-opacity:1; fill:none\" points=\"178.867,1486.45 2352.76,1486.45 \"/>\n",
       "<polyline clip-path=\"url(#clip070)\" style=\"stroke:#000000; stroke-linecap:round; stroke-linejoin:round; stroke-width:4; stroke-opacity:1; fill:none\" points=\"445.476,1486.45 445.476,1467.55 \"/>\n",
       "<polyline clip-path=\"url(#clip070)\" style=\"stroke:#000000; stroke-linecap:round; stroke-linejoin:round; stroke-width:4; stroke-opacity:1; fill:none\" points=\"855.643,1486.45 855.643,1467.55 \"/>\n",
       "<polyline clip-path=\"url(#clip070)\" style=\"stroke:#000000; stroke-linecap:round; stroke-linejoin:round; stroke-width:4; stroke-opacity:1; fill:none\" points=\"1265.81,1486.45 1265.81,1467.55 \"/>\n",
       "<polyline clip-path=\"url(#clip070)\" style=\"stroke:#000000; stroke-linecap:round; stroke-linejoin:round; stroke-width:4; stroke-opacity:1; fill:none\" points=\"1675.98,1486.45 1675.98,1467.55 \"/>\n",
       "<polyline clip-path=\"url(#clip070)\" style=\"stroke:#000000; stroke-linecap:round; stroke-linejoin:round; stroke-width:4; stroke-opacity:1; fill:none\" points=\"2086.15,1486.45 2086.15,1467.55 \"/>\n",
       "<path clip-path=\"url(#clip070)\" d=\"M414.376 1532.02 L444.052 1532.02 L444.052 1535.95 L414.376 1535.95 L414.376 1532.02 Z\" fill=\"#000000\" fill-rule=\"nonzero\" fill-opacity=\"1\" /><path clip-path=\"url(#clip070)\" d=\"M466.992 1518.36 L455.186 1536.81 L466.992 1536.81 L466.992 1518.36 M465.765 1514.29 L471.645 1514.29 L471.645 1536.81 L476.575 1536.81 L476.575 1540.7 L471.645 1540.7 L471.645 1548.85 L466.992 1548.85 L466.992 1540.7 L451.39 1540.7 L451.39 1536.19 L465.765 1514.29 Z\" fill=\"#000000\" fill-rule=\"nonzero\" fill-opacity=\"1\" /><path clip-path=\"url(#clip070)\" d=\"M825.586 1532.02 L855.262 1532.02 L855.262 1535.95 L825.586 1535.95 L825.586 1532.02 Z\" fill=\"#000000\" fill-rule=\"nonzero\" fill-opacity=\"1\" /><path clip-path=\"url(#clip070)\" d=\"M869.382 1544.91 L885.701 1544.91 L885.701 1548.85 L863.757 1548.85 L863.757 1544.91 Q866.419 1542.16 871.002 1537.53 Q875.609 1532.88 876.789 1531.53 Q879.035 1529.01 879.914 1527.27 Q880.817 1525.51 880.817 1523.82 Q880.817 1521.07 878.873 1519.33 Q876.951 1517.6 873.849 1517.6 Q871.65 1517.6 869.197 1518.36 Q866.766 1519.13 863.988 1520.68 L863.988 1515.95 Q866.812 1514.82 869.266 1514.24 Q871.72 1513.66 873.757 1513.66 Q879.127 1513.66 882.322 1516.35 Q885.516 1519.03 885.516 1523.52 Q885.516 1525.65 884.706 1527.57 Q883.919 1529.47 881.812 1532.07 Q881.234 1532.74 878.132 1535.95 Q875.03 1539.15 869.382 1544.91 Z\" fill=\"#000000\" fill-rule=\"nonzero\" fill-opacity=\"1\" /><path clip-path=\"url(#clip070)\" d=\"M1265.81 1517.37 Q1262.2 1517.37 1260.37 1520.93 Q1258.57 1524.47 1258.57 1531.6 Q1258.57 1538.71 1260.37 1542.27 Q1262.2 1545.82 1265.81 1545.82 Q1269.45 1545.82 1271.25 1542.27 Q1273.08 1538.71 1273.08 1531.6 Q1273.08 1524.47 1271.25 1520.93 Q1269.45 1517.37 1265.81 1517.37 M1265.81 1513.66 Q1271.62 1513.66 1274.68 1518.27 Q1277.76 1522.85 1277.76 1531.6 Q1277.76 1540.33 1274.68 1544.94 Q1271.62 1549.52 1265.81 1549.52 Q1260 1549.52 1256.92 1544.94 Q1253.87 1540.33 1253.87 1531.6 Q1253.87 1522.85 1256.92 1518.27 Q1260 1513.66 1265.81 1513.66 Z\" fill=\"#000000\" fill-rule=\"nonzero\" fill-opacity=\"1\" /><path clip-path=\"url(#clip070)\" d=\"M1670.63 1544.91 L1686.95 1544.91 L1686.95 1548.85 L1665.01 1548.85 L1665.01 1544.91 Q1667.67 1542.16 1672.25 1537.53 Q1676.86 1532.88 1678.04 1531.53 Q1680.28 1529.01 1681.16 1527.27 Q1682.07 1525.51 1682.07 1523.82 Q1682.07 1521.07 1680.12 1519.33 Q1678.2 1517.6 1675.1 1517.6 Q1672.9 1517.6 1670.45 1518.36 Q1668.02 1519.13 1665.24 1520.68 L1665.24 1515.95 Q1668.06 1514.82 1670.52 1514.24 Q1672.97 1513.66 1675.01 1513.66 Q1680.38 1513.66 1683.57 1516.35 Q1686.77 1519.03 1686.77 1523.52 Q1686.77 1525.65 1685.96 1527.57 Q1685.17 1529.47 1683.06 1532.07 Q1682.48 1532.74 1679.38 1535.95 Q1676.28 1539.15 1670.63 1544.91 Z\" fill=\"#000000\" fill-rule=\"nonzero\" fill-opacity=\"1\" /><path clip-path=\"url(#clip070)\" d=\"M2089.16 1518.36 L2077.35 1536.81 L2089.16 1536.81 L2089.16 1518.36 M2087.93 1514.29 L2093.81 1514.29 L2093.81 1536.81 L2098.74 1536.81 L2098.74 1540.7 L2093.81 1540.7 L2093.81 1548.85 L2089.16 1548.85 L2089.16 1540.7 L2073.55 1540.7 L2073.55 1536.19 L2087.93 1514.29 Z\" fill=\"#000000\" fill-rule=\"nonzero\" fill-opacity=\"1\" /><polyline clip-path=\"url(#clip072)\" style=\"stroke:#000000; stroke-linecap:round; stroke-linejoin:round; stroke-width:2; stroke-opacity:0.1; fill:none\" points=\"178.867,1255.63 2352.76,1255.63 \"/>\n",
       "<polyline clip-path=\"url(#clip072)\" style=\"stroke:#000000; stroke-linecap:round; stroke-linejoin:round; stroke-width:2; stroke-opacity:0.1; fill:none\" points=\"178.867,984.084 2352.76,984.084 \"/>\n",
       "<polyline clip-path=\"url(#clip072)\" style=\"stroke:#000000; stroke-linecap:round; stroke-linejoin:round; stroke-width:2; stroke-opacity:0.1; fill:none\" points=\"178.867,712.536 2352.76,712.536 \"/>\n",
       "<polyline clip-path=\"url(#clip072)\" style=\"stroke:#000000; stroke-linecap:round; stroke-linejoin:round; stroke-width:2; stroke-opacity:0.1; fill:none\" points=\"178.867,440.989 2352.76,440.989 \"/>\n",
       "<polyline clip-path=\"url(#clip072)\" style=\"stroke:#000000; stroke-linecap:round; stroke-linejoin:round; stroke-width:2; stroke-opacity:0.1; fill:none\" points=\"178.867,169.441 2352.76,169.441 \"/>\n",
       "<polyline clip-path=\"url(#clip070)\" style=\"stroke:#000000; stroke-linecap:round; stroke-linejoin:round; stroke-width:4; stroke-opacity:1; fill:none\" points=\"178.867,1486.45 178.867,47.2441 \"/>\n",
       "<polyline clip-path=\"url(#clip070)\" style=\"stroke:#000000; stroke-linecap:round; stroke-linejoin:round; stroke-width:4; stroke-opacity:1; fill:none\" points=\"178.867,1255.63 197.764,1255.63 \"/>\n",
       "<polyline clip-path=\"url(#clip070)\" style=\"stroke:#000000; stroke-linecap:round; stroke-linejoin:round; stroke-width:4; stroke-opacity:1; fill:none\" points=\"178.867,984.084 197.764,984.084 \"/>\n",
       "<polyline clip-path=\"url(#clip070)\" style=\"stroke:#000000; stroke-linecap:round; stroke-linejoin:round; stroke-width:4; stroke-opacity:1; fill:none\" points=\"178.867,712.536 197.764,712.536 \"/>\n",
       "<polyline clip-path=\"url(#clip070)\" style=\"stroke:#000000; stroke-linecap:round; stroke-linejoin:round; stroke-width:4; stroke-opacity:1; fill:none\" points=\"178.867,440.989 197.764,440.989 \"/>\n",
       "<polyline clip-path=\"url(#clip070)\" style=\"stroke:#000000; stroke-linecap:round; stroke-linejoin:round; stroke-width:4; stroke-opacity:1; fill:none\" points=\"178.867,169.441 197.764,169.441 \"/>\n",
       "<path clip-path=\"url(#clip070)\" d=\"M50.9921 1256.08 L80.6679 1256.08 L80.6679 1260.02 L50.9921 1260.02 L50.9921 1256.08 Z\" fill=\"#000000\" fill-rule=\"nonzero\" fill-opacity=\"1\" /><path clip-path=\"url(#clip070)\" d=\"M91.5706 1268.98 L99.2095 1268.98 L99.2095 1242.61 L90.8993 1244.28 L90.8993 1240.02 L99.1632 1238.35 L103.839 1238.35 L103.839 1268.98 L111.478 1268.98 L111.478 1272.91 L91.5706 1272.91 L91.5706 1268.98 Z\" fill=\"#000000\" fill-rule=\"nonzero\" fill-opacity=\"1\" /><path clip-path=\"url(#clip070)\" d=\"M130.922 1241.43 Q127.311 1241.43 125.482 1245 Q123.677 1248.54 123.677 1255.67 Q123.677 1262.77 125.482 1266.34 Q127.311 1269.88 130.922 1269.88 Q134.556 1269.88 136.362 1266.34 Q138.191 1262.77 138.191 1255.67 Q138.191 1248.54 136.362 1245 Q134.556 1241.43 130.922 1241.43 M130.922 1237.73 Q136.732 1237.73 139.788 1242.33 Q142.867 1246.92 142.867 1255.67 Q142.867 1264.39 139.788 1269 Q136.732 1273.58 130.922 1273.58 Q125.112 1273.58 122.033 1269 Q118.978 1264.39 118.978 1255.67 Q118.978 1246.92 122.033 1242.33 Q125.112 1237.73 130.922 1237.73 Z\" fill=\"#000000\" fill-rule=\"nonzero\" fill-opacity=\"1\" /><path clip-path=\"url(#clip070)\" d=\"M130.922 969.883 Q127.311 969.883 125.482 973.448 Q123.677 976.989 123.677 984.119 Q123.677 991.225 125.482 994.79 Q127.311 998.332 130.922 998.332 Q134.556 998.332 136.362 994.79 Q138.191 991.225 138.191 984.119 Q138.191 976.989 136.362 973.448 Q134.556 969.883 130.922 969.883 M130.922 966.179 Q136.732 966.179 139.788 970.786 Q142.867 975.369 142.867 984.119 Q142.867 992.846 139.788 997.452 Q136.732 1002.04 130.922 1002.04 Q125.112 1002.04 122.033 997.452 Q118.978 992.846 118.978 984.119 Q118.978 975.369 122.033 970.786 Q125.112 966.179 130.922 966.179 Z\" fill=\"#000000\" fill-rule=\"nonzero\" fill-opacity=\"1\" /><path clip-path=\"url(#clip070)\" d=\"M91.5706 725.881 L99.2095 725.881 L99.2095 699.516 L90.8993 701.182 L90.8993 696.923 L99.1632 695.256 L103.839 695.256 L103.839 725.881 L111.478 725.881 L111.478 729.816 L91.5706 729.816 L91.5706 725.881 Z\" fill=\"#000000\" fill-rule=\"nonzero\" fill-opacity=\"1\" /><path clip-path=\"url(#clip070)\" d=\"M130.922 698.335 Q127.311 698.335 125.482 701.9 Q123.677 705.442 123.677 712.571 Q123.677 719.678 125.482 723.242 Q127.311 726.784 130.922 726.784 Q134.556 726.784 136.362 723.242 Q138.191 719.678 138.191 712.571 Q138.191 705.442 136.362 701.9 Q134.556 698.335 130.922 698.335 M130.922 694.631 Q136.732 694.631 139.788 699.238 Q142.867 703.821 142.867 712.571 Q142.867 721.298 139.788 725.904 Q136.732 730.488 130.922 730.488 Q125.112 730.488 122.033 725.904 Q118.978 721.298 118.978 712.571 Q118.978 703.821 122.033 699.238 Q125.112 694.631 130.922 694.631 Z\" fill=\"#000000\" fill-rule=\"nonzero\" fill-opacity=\"1\" /><path clip-path=\"url(#clip070)\" d=\"M94.7882 454.333 L111.108 454.333 L111.108 458.269 L89.1632 458.269 L89.1632 454.333 Q91.8252 451.579 96.4085 446.949 Q101.015 442.296 102.196 440.954 Q104.441 438.431 105.321 436.695 Q106.223 434.935 106.223 433.246 Q106.223 430.491 104.279 428.755 Q102.358 427.019 99.2558 427.019 Q97.0567 427.019 94.603 427.783 Q92.1725 428.546 89.3947 430.097 L89.3947 425.375 Q92.2188 424.241 94.6724 423.662 Q97.1261 423.084 99.1632 423.084 Q104.534 423.084 107.728 425.769 Q110.922 428.454 110.922 432.945 Q110.922 435.074 110.112 436.995 Q109.325 438.894 107.219 441.486 Q106.64 442.157 103.538 445.375 Q100.436 448.57 94.7882 454.333 Z\" fill=\"#000000\" fill-rule=\"nonzero\" fill-opacity=\"1\" /><path clip-path=\"url(#clip070)\" d=\"M130.922 426.787 Q127.311 426.787 125.482 430.352 Q123.677 433.894 123.677 441.023 Q123.677 448.13 125.482 451.694 Q127.311 455.236 130.922 455.236 Q134.556 455.236 136.362 451.694 Q138.191 448.13 138.191 441.023 Q138.191 433.894 136.362 430.352 Q134.556 426.787 130.922 426.787 M130.922 423.084 Q136.732 423.084 139.788 427.69 Q142.867 432.273 142.867 441.023 Q142.867 449.75 139.788 454.357 Q136.732 458.94 130.922 458.94 Q125.112 458.94 122.033 454.357 Q118.978 449.75 118.978 441.023 Q118.978 432.273 122.033 427.69 Q125.112 423.084 130.922 423.084 Z\" fill=\"#000000\" fill-rule=\"nonzero\" fill-opacity=\"1\" /><path clip-path=\"url(#clip070)\" d=\"M104.927 168.086 Q108.283 168.804 110.158 171.073 Q112.057 173.341 112.057 176.674 Q112.057 181.79 108.538 184.591 Q105.02 187.392 98.5382 187.392 Q96.3623 187.392 94.0475 186.952 Q91.7558 186.535 89.3021 185.679 L89.3021 181.165 Q91.2465 182.299 93.5613 182.878 Q95.8761 183.457 98.3993 183.457 Q102.797 183.457 105.089 181.721 Q107.404 179.985 107.404 176.674 Q107.404 173.619 105.251 171.906 Q103.121 170.17 99.3021 170.17 L95.2743 170.17 L95.2743 166.327 L99.4872 166.327 Q102.936 166.327 104.765 164.961 Q106.594 163.573 106.594 160.98 Q106.594 158.318 104.696 156.906 Q102.821 155.471 99.3021 155.471 Q97.3808 155.471 95.1817 155.887 Q92.9826 156.304 90.3438 157.184 L90.3438 153.017 Q93.0058 152.276 95.3206 151.906 Q97.6585 151.536 99.7187 151.536 Q105.043 151.536 108.145 153.966 Q111.246 156.374 111.246 160.494 Q111.246 163.364 109.603 165.355 Q107.959 167.323 104.927 168.086 Z\" fill=\"#000000\" fill-rule=\"nonzero\" fill-opacity=\"1\" /><path clip-path=\"url(#clip070)\" d=\"M130.922 155.239 Q127.311 155.239 125.482 158.804 Q123.677 162.346 123.677 169.475 Q123.677 176.582 125.482 180.147 Q127.311 183.688 130.922 183.688 Q134.556 183.688 136.362 180.147 Q138.191 176.582 138.191 169.475 Q138.191 162.346 136.362 158.804 Q134.556 155.239 130.922 155.239 M130.922 151.536 Q136.732 151.536 139.788 156.142 Q142.867 160.725 142.867 169.475 Q142.867 178.202 139.788 182.809 Q136.732 187.392 130.922 187.392 Q125.112 187.392 122.033 182.809 Q118.978 178.202 118.978 169.475 Q118.978 160.725 122.033 156.142 Q125.112 151.536 130.922 151.536 Z\" fill=\"#000000\" fill-rule=\"nonzero\" fill-opacity=\"1\" /><polyline clip-path=\"url(#clip072)\" style=\"stroke:#009af9; stroke-linecap:round; stroke-linejoin:round; stroke-width:4; stroke-opacity:1; fill:none\" points=\"240.392,1445.72 253.744,1436.88 377.203,1355.14 451.397,1306.02 514.127,1264.49 582.269,1219.38 645.091,1177.79 712.442,1133.2 790.474,1081.54 859.821,1035.63 920.631,995.37 986.931,951.476 1053.62,907.322 1127.36,858.505 1197.52,812.056 1270.47,763.759 1331.88,723.104 1406.86,673.469 1475.54,628 1538.97,586.006 1603.22,543.467 1675.23,495.793 1740.48,452.593 1815.2,403.131 1884.37,357.334 1952.57,312.184 2018.78,268.347 2086.66,223.408 2161.03,174.172 2269.07,102.649 2291.23,87.9763 \"/>\n",
       "<path clip-path=\"url(#clip070)\" d=\"M251.33 198.898 L521.149 198.898 L521.149 95.2176 L251.33 95.2176  Z\" fill=\"#ffffff\" fill-rule=\"evenodd\" fill-opacity=\"1\"/>\n",
       "<polyline clip-path=\"url(#clip070)\" style=\"stroke:#000000; stroke-linecap:round; stroke-linejoin:round; stroke-width:4; stroke-opacity:1; fill:none\" points=\"251.33,198.898 521.149,198.898 521.149,95.2176 251.33,95.2176 251.33,198.898 \"/>\n",
       "<polyline clip-path=\"url(#clip070)\" style=\"stroke:#009af9; stroke-linecap:round; stroke-linejoin:round; stroke-width:4; stroke-opacity:1; fill:none\" points=\"275.484,147.058 420.41,147.058 \"/>\n",
       "<path clip-path=\"url(#clip070)\" d=\"M458.407 166.745 Q456.601 171.375 454.888 172.787 Q453.175 174.199 450.305 174.199 L446.902 174.199 L446.902 170.634 L449.402 170.634 Q451.161 170.634 452.134 169.8 Q453.106 168.967 454.286 165.865 L455.05 163.921 L444.564 138.412 L449.078 138.412 L457.18 158.689 L465.282 138.412 L469.796 138.412 L458.407 166.745 Z\" fill=\"#000000\" fill-rule=\"nonzero\" fill-opacity=\"1\" /><path clip-path=\"url(#clip070)\" d=\"M477.087 160.402 L484.726 160.402 L484.726 134.037 L476.416 135.703 L476.416 131.444 L484.68 129.778 L489.356 129.778 L489.356 160.402 L496.994 160.402 L496.994 164.338 L477.087 164.338 L477.087 160.402 Z\" fill=\"#000000\" fill-rule=\"nonzero\" fill-opacity=\"1\" /></svg>\n"
      ],
      "text/html": [
       "<?xml version=\"1.0\" encoding=\"utf-8\"?>\n",
       "<svg xmlns=\"http://www.w3.org/2000/svg\" xmlns:xlink=\"http://www.w3.org/1999/xlink\" width=\"600\" height=\"400\" viewBox=\"0 0 2400 1600\">\n",
       "<defs>\n",
       "  <clipPath id=\"clip120\">\n",
       "    <rect x=\"0\" y=\"0\" width=\"2400\" height=\"1600\"/>\n",
       "  </clipPath>\n",
       "</defs>\n",
       "<path clip-path=\"url(#clip120)\" d=\"M0 1600 L2400 1600 L2400 0 L0 0  Z\" fill=\"#ffffff\" fill-rule=\"evenodd\" fill-opacity=\"1\"/>\n",
       "<defs>\n",
       "  <clipPath id=\"clip121\">\n",
       "    <rect x=\"480\" y=\"0\" width=\"1681\" height=\"1600\"/>\n",
       "  </clipPath>\n",
       "</defs>\n",
       "<path clip-path=\"url(#clip120)\" d=\"M178.867 1486.45 L2352.76 1486.45 L2352.76 47.2441 L178.867 47.2441  Z\" fill=\"#ffffff\" fill-rule=\"evenodd\" fill-opacity=\"1\"/>\n",
       "<defs>\n",
       "  <clipPath id=\"clip122\">\n",
       "    <rect x=\"178\" y=\"47\" width=\"2175\" height=\"1440\"/>\n",
       "  </clipPath>\n",
       "</defs>\n",
       "<polyline clip-path=\"url(#clip122)\" style=\"stroke:#000000; stroke-linecap:round; stroke-linejoin:round; stroke-width:2; stroke-opacity:0.1; fill:none\" points=\"445.476,1486.45 445.476,47.2441 \"/>\n",
       "<polyline clip-path=\"url(#clip122)\" style=\"stroke:#000000; stroke-linecap:round; stroke-linejoin:round; stroke-width:2; stroke-opacity:0.1; fill:none\" points=\"855.643,1486.45 855.643,47.2441 \"/>\n",
       "<polyline clip-path=\"url(#clip122)\" style=\"stroke:#000000; stroke-linecap:round; stroke-linejoin:round; stroke-width:2; stroke-opacity:0.1; fill:none\" points=\"1265.81,1486.45 1265.81,47.2441 \"/>\n",
       "<polyline clip-path=\"url(#clip122)\" style=\"stroke:#000000; stroke-linecap:round; stroke-linejoin:round; stroke-width:2; stroke-opacity:0.1; fill:none\" points=\"1675.98,1486.45 1675.98,47.2441 \"/>\n",
       "<polyline clip-path=\"url(#clip122)\" style=\"stroke:#000000; stroke-linecap:round; stroke-linejoin:round; stroke-width:2; stroke-opacity:0.1; fill:none\" points=\"2086.15,1486.45 2086.15,47.2441 \"/>\n",
       "<polyline clip-path=\"url(#clip120)\" style=\"stroke:#000000; stroke-linecap:round; stroke-linejoin:round; stroke-width:4; stroke-opacity:1; fill:none\" points=\"178.867,1486.45 2352.76,1486.45 \"/>\n",
       "<polyline clip-path=\"url(#clip120)\" style=\"stroke:#000000; stroke-linecap:round; stroke-linejoin:round; stroke-width:4; stroke-opacity:1; fill:none\" points=\"445.476,1486.45 445.476,1467.55 \"/>\n",
       "<polyline clip-path=\"url(#clip120)\" style=\"stroke:#000000; stroke-linecap:round; stroke-linejoin:round; stroke-width:4; stroke-opacity:1; fill:none\" points=\"855.643,1486.45 855.643,1467.55 \"/>\n",
       "<polyline clip-path=\"url(#clip120)\" style=\"stroke:#000000; stroke-linecap:round; stroke-linejoin:round; stroke-width:4; stroke-opacity:1; fill:none\" points=\"1265.81,1486.45 1265.81,1467.55 \"/>\n",
       "<polyline clip-path=\"url(#clip120)\" style=\"stroke:#000000; stroke-linecap:round; stroke-linejoin:round; stroke-width:4; stroke-opacity:1; fill:none\" points=\"1675.98,1486.45 1675.98,1467.55 \"/>\n",
       "<polyline clip-path=\"url(#clip120)\" style=\"stroke:#000000; stroke-linecap:round; stroke-linejoin:round; stroke-width:4; stroke-opacity:1; fill:none\" points=\"2086.15,1486.45 2086.15,1467.55 \"/>\n",
       "<path clip-path=\"url(#clip120)\" d=\"M414.376 1532.02 L444.052 1532.02 L444.052 1535.95 L414.376 1535.95 L414.376 1532.02 Z\" fill=\"#000000\" fill-rule=\"nonzero\" fill-opacity=\"1\" /><path clip-path=\"url(#clip120)\" d=\"M466.992 1518.36 L455.186 1536.81 L466.992 1536.81 L466.992 1518.36 M465.765 1514.29 L471.645 1514.29 L471.645 1536.81 L476.575 1536.81 L476.575 1540.7 L471.645 1540.7 L471.645 1548.85 L466.992 1548.85 L466.992 1540.7 L451.39 1540.7 L451.39 1536.19 L465.765 1514.29 Z\" fill=\"#000000\" fill-rule=\"nonzero\" fill-opacity=\"1\" /><path clip-path=\"url(#clip120)\" d=\"M825.586 1532.02 L855.262 1532.02 L855.262 1535.95 L825.586 1535.95 L825.586 1532.02 Z\" fill=\"#000000\" fill-rule=\"nonzero\" fill-opacity=\"1\" /><path clip-path=\"url(#clip120)\" d=\"M869.382 1544.91 L885.701 1544.91 L885.701 1548.85 L863.757 1548.85 L863.757 1544.91 Q866.419 1542.16 871.002 1537.53 Q875.609 1532.88 876.789 1531.53 Q879.035 1529.01 879.914 1527.27 Q880.817 1525.51 880.817 1523.82 Q880.817 1521.07 878.873 1519.33 Q876.951 1517.6 873.849 1517.6 Q871.65 1517.6 869.197 1518.36 Q866.766 1519.13 863.988 1520.68 L863.988 1515.95 Q866.812 1514.82 869.266 1514.24 Q871.72 1513.66 873.757 1513.66 Q879.127 1513.66 882.322 1516.35 Q885.516 1519.03 885.516 1523.52 Q885.516 1525.65 884.706 1527.57 Q883.919 1529.47 881.812 1532.07 Q881.234 1532.74 878.132 1535.95 Q875.03 1539.15 869.382 1544.91 Z\" fill=\"#000000\" fill-rule=\"nonzero\" fill-opacity=\"1\" /><path clip-path=\"url(#clip120)\" d=\"M1265.81 1517.37 Q1262.2 1517.37 1260.37 1520.93 Q1258.57 1524.47 1258.57 1531.6 Q1258.57 1538.71 1260.37 1542.27 Q1262.2 1545.82 1265.81 1545.82 Q1269.45 1545.82 1271.25 1542.27 Q1273.08 1538.71 1273.08 1531.6 Q1273.08 1524.47 1271.25 1520.93 Q1269.45 1517.37 1265.81 1517.37 M1265.81 1513.66 Q1271.62 1513.66 1274.68 1518.27 Q1277.76 1522.85 1277.76 1531.6 Q1277.76 1540.33 1274.68 1544.94 Q1271.62 1549.52 1265.81 1549.52 Q1260 1549.52 1256.92 1544.94 Q1253.87 1540.33 1253.87 1531.6 Q1253.87 1522.85 1256.92 1518.27 Q1260 1513.66 1265.81 1513.66 Z\" fill=\"#000000\" fill-rule=\"nonzero\" fill-opacity=\"1\" /><path clip-path=\"url(#clip120)\" d=\"M1670.63 1544.91 L1686.95 1544.91 L1686.95 1548.85 L1665.01 1548.85 L1665.01 1544.91 Q1667.67 1542.16 1672.25 1537.53 Q1676.86 1532.88 1678.04 1531.53 Q1680.28 1529.01 1681.16 1527.27 Q1682.07 1525.51 1682.07 1523.82 Q1682.07 1521.07 1680.12 1519.33 Q1678.2 1517.6 1675.1 1517.6 Q1672.9 1517.6 1670.45 1518.36 Q1668.02 1519.13 1665.24 1520.68 L1665.24 1515.95 Q1668.06 1514.82 1670.52 1514.24 Q1672.97 1513.66 1675.01 1513.66 Q1680.38 1513.66 1683.57 1516.35 Q1686.77 1519.03 1686.77 1523.52 Q1686.77 1525.65 1685.96 1527.57 Q1685.17 1529.47 1683.06 1532.07 Q1682.48 1532.74 1679.38 1535.95 Q1676.28 1539.15 1670.63 1544.91 Z\" fill=\"#000000\" fill-rule=\"nonzero\" fill-opacity=\"1\" /><path clip-path=\"url(#clip120)\" d=\"M2089.16 1518.36 L2077.35 1536.81 L2089.16 1536.81 L2089.16 1518.36 M2087.93 1514.29 L2093.81 1514.29 L2093.81 1536.81 L2098.74 1536.81 L2098.74 1540.7 L2093.81 1540.7 L2093.81 1548.85 L2089.16 1548.85 L2089.16 1540.7 L2073.55 1540.7 L2073.55 1536.19 L2087.93 1514.29 Z\" fill=\"#000000\" fill-rule=\"nonzero\" fill-opacity=\"1\" /><polyline clip-path=\"url(#clip122)\" style=\"stroke:#000000; stroke-linecap:round; stroke-linejoin:round; stroke-width:2; stroke-opacity:0.1; fill:none\" points=\"178.867,1255.63 2352.76,1255.63 \"/>\n",
       "<polyline clip-path=\"url(#clip122)\" style=\"stroke:#000000; stroke-linecap:round; stroke-linejoin:round; stroke-width:2; stroke-opacity:0.1; fill:none\" points=\"178.867,984.084 2352.76,984.084 \"/>\n",
       "<polyline clip-path=\"url(#clip122)\" style=\"stroke:#000000; stroke-linecap:round; stroke-linejoin:round; stroke-width:2; stroke-opacity:0.1; fill:none\" points=\"178.867,712.536 2352.76,712.536 \"/>\n",
       "<polyline clip-path=\"url(#clip122)\" style=\"stroke:#000000; stroke-linecap:round; stroke-linejoin:round; stroke-width:2; stroke-opacity:0.1; fill:none\" points=\"178.867,440.989 2352.76,440.989 \"/>\n",
       "<polyline clip-path=\"url(#clip122)\" style=\"stroke:#000000; stroke-linecap:round; stroke-linejoin:round; stroke-width:2; stroke-opacity:0.1; fill:none\" points=\"178.867,169.441 2352.76,169.441 \"/>\n",
       "<polyline clip-path=\"url(#clip120)\" style=\"stroke:#000000; stroke-linecap:round; stroke-linejoin:round; stroke-width:4; stroke-opacity:1; fill:none\" points=\"178.867,1486.45 178.867,47.2441 \"/>\n",
       "<polyline clip-path=\"url(#clip120)\" style=\"stroke:#000000; stroke-linecap:round; stroke-linejoin:round; stroke-width:4; stroke-opacity:1; fill:none\" points=\"178.867,1255.63 197.764,1255.63 \"/>\n",
       "<polyline clip-path=\"url(#clip120)\" style=\"stroke:#000000; stroke-linecap:round; stroke-linejoin:round; stroke-width:4; stroke-opacity:1; fill:none\" points=\"178.867,984.084 197.764,984.084 \"/>\n",
       "<polyline clip-path=\"url(#clip120)\" style=\"stroke:#000000; stroke-linecap:round; stroke-linejoin:round; stroke-width:4; stroke-opacity:1; fill:none\" points=\"178.867,712.536 197.764,712.536 \"/>\n",
       "<polyline clip-path=\"url(#clip120)\" style=\"stroke:#000000; stroke-linecap:round; stroke-linejoin:round; stroke-width:4; stroke-opacity:1; fill:none\" points=\"178.867,440.989 197.764,440.989 \"/>\n",
       "<polyline clip-path=\"url(#clip120)\" style=\"stroke:#000000; stroke-linecap:round; stroke-linejoin:round; stroke-width:4; stroke-opacity:1; fill:none\" points=\"178.867,169.441 197.764,169.441 \"/>\n",
       "<path clip-path=\"url(#clip120)\" d=\"M50.9921 1256.08 L80.6679 1256.08 L80.6679 1260.02 L50.9921 1260.02 L50.9921 1256.08 Z\" fill=\"#000000\" fill-rule=\"nonzero\" fill-opacity=\"1\" /><path clip-path=\"url(#clip120)\" d=\"M91.5706 1268.98 L99.2095 1268.98 L99.2095 1242.61 L90.8993 1244.28 L90.8993 1240.02 L99.1632 1238.35 L103.839 1238.35 L103.839 1268.98 L111.478 1268.98 L111.478 1272.91 L91.5706 1272.91 L91.5706 1268.98 Z\" fill=\"#000000\" fill-rule=\"nonzero\" fill-opacity=\"1\" /><path clip-path=\"url(#clip120)\" d=\"M130.922 1241.43 Q127.311 1241.43 125.482 1245 Q123.677 1248.54 123.677 1255.67 Q123.677 1262.77 125.482 1266.34 Q127.311 1269.88 130.922 1269.88 Q134.556 1269.88 136.362 1266.34 Q138.191 1262.77 138.191 1255.67 Q138.191 1248.54 136.362 1245 Q134.556 1241.43 130.922 1241.43 M130.922 1237.73 Q136.732 1237.73 139.788 1242.33 Q142.867 1246.92 142.867 1255.67 Q142.867 1264.39 139.788 1269 Q136.732 1273.58 130.922 1273.58 Q125.112 1273.58 122.033 1269 Q118.978 1264.39 118.978 1255.67 Q118.978 1246.92 122.033 1242.33 Q125.112 1237.73 130.922 1237.73 Z\" fill=\"#000000\" fill-rule=\"nonzero\" fill-opacity=\"1\" /><path clip-path=\"url(#clip120)\" d=\"M130.922 969.883 Q127.311 969.883 125.482 973.448 Q123.677 976.989 123.677 984.119 Q123.677 991.225 125.482 994.79 Q127.311 998.332 130.922 998.332 Q134.556 998.332 136.362 994.79 Q138.191 991.225 138.191 984.119 Q138.191 976.989 136.362 973.448 Q134.556 969.883 130.922 969.883 M130.922 966.179 Q136.732 966.179 139.788 970.786 Q142.867 975.369 142.867 984.119 Q142.867 992.846 139.788 997.452 Q136.732 1002.04 130.922 1002.04 Q125.112 1002.04 122.033 997.452 Q118.978 992.846 118.978 984.119 Q118.978 975.369 122.033 970.786 Q125.112 966.179 130.922 966.179 Z\" fill=\"#000000\" fill-rule=\"nonzero\" fill-opacity=\"1\" /><path clip-path=\"url(#clip120)\" d=\"M91.5706 725.881 L99.2095 725.881 L99.2095 699.516 L90.8993 701.182 L90.8993 696.923 L99.1632 695.256 L103.839 695.256 L103.839 725.881 L111.478 725.881 L111.478 729.816 L91.5706 729.816 L91.5706 725.881 Z\" fill=\"#000000\" fill-rule=\"nonzero\" fill-opacity=\"1\" /><path clip-path=\"url(#clip120)\" d=\"M130.922 698.335 Q127.311 698.335 125.482 701.9 Q123.677 705.442 123.677 712.571 Q123.677 719.678 125.482 723.242 Q127.311 726.784 130.922 726.784 Q134.556 726.784 136.362 723.242 Q138.191 719.678 138.191 712.571 Q138.191 705.442 136.362 701.9 Q134.556 698.335 130.922 698.335 M130.922 694.631 Q136.732 694.631 139.788 699.238 Q142.867 703.821 142.867 712.571 Q142.867 721.298 139.788 725.904 Q136.732 730.488 130.922 730.488 Q125.112 730.488 122.033 725.904 Q118.978 721.298 118.978 712.571 Q118.978 703.821 122.033 699.238 Q125.112 694.631 130.922 694.631 Z\" fill=\"#000000\" fill-rule=\"nonzero\" fill-opacity=\"1\" /><path clip-path=\"url(#clip120)\" d=\"M94.7882 454.333 L111.108 454.333 L111.108 458.269 L89.1632 458.269 L89.1632 454.333 Q91.8252 451.579 96.4085 446.949 Q101.015 442.296 102.196 440.954 Q104.441 438.431 105.321 436.695 Q106.223 434.935 106.223 433.246 Q106.223 430.491 104.279 428.755 Q102.358 427.019 99.2558 427.019 Q97.0567 427.019 94.603 427.783 Q92.1725 428.546 89.3947 430.097 L89.3947 425.375 Q92.2188 424.241 94.6724 423.662 Q97.1261 423.084 99.1632 423.084 Q104.534 423.084 107.728 425.769 Q110.922 428.454 110.922 432.945 Q110.922 435.074 110.112 436.995 Q109.325 438.894 107.219 441.486 Q106.64 442.157 103.538 445.375 Q100.436 448.57 94.7882 454.333 Z\" fill=\"#000000\" fill-rule=\"nonzero\" fill-opacity=\"1\" /><path clip-path=\"url(#clip120)\" d=\"M130.922 426.787 Q127.311 426.787 125.482 430.352 Q123.677 433.894 123.677 441.023 Q123.677 448.13 125.482 451.694 Q127.311 455.236 130.922 455.236 Q134.556 455.236 136.362 451.694 Q138.191 448.13 138.191 441.023 Q138.191 433.894 136.362 430.352 Q134.556 426.787 130.922 426.787 M130.922 423.084 Q136.732 423.084 139.788 427.69 Q142.867 432.273 142.867 441.023 Q142.867 449.75 139.788 454.357 Q136.732 458.94 130.922 458.94 Q125.112 458.94 122.033 454.357 Q118.978 449.75 118.978 441.023 Q118.978 432.273 122.033 427.69 Q125.112 423.084 130.922 423.084 Z\" fill=\"#000000\" fill-rule=\"nonzero\" fill-opacity=\"1\" /><path clip-path=\"url(#clip120)\" d=\"M104.927 168.086 Q108.283 168.804 110.158 171.073 Q112.057 173.341 112.057 176.674 Q112.057 181.79 108.538 184.591 Q105.02 187.392 98.5382 187.392 Q96.3623 187.392 94.0475 186.952 Q91.7558 186.535 89.3021 185.679 L89.3021 181.165 Q91.2465 182.299 93.5613 182.878 Q95.8761 183.457 98.3993 183.457 Q102.797 183.457 105.089 181.721 Q107.404 179.985 107.404 176.674 Q107.404 173.619 105.251 171.906 Q103.121 170.17 99.3021 170.17 L95.2743 170.17 L95.2743 166.327 L99.4872 166.327 Q102.936 166.327 104.765 164.961 Q106.594 163.573 106.594 160.98 Q106.594 158.318 104.696 156.906 Q102.821 155.471 99.3021 155.471 Q97.3808 155.471 95.1817 155.887 Q92.9826 156.304 90.3438 157.184 L90.3438 153.017 Q93.0058 152.276 95.3206 151.906 Q97.6585 151.536 99.7187 151.536 Q105.043 151.536 108.145 153.966 Q111.246 156.374 111.246 160.494 Q111.246 163.364 109.603 165.355 Q107.959 167.323 104.927 168.086 Z\" fill=\"#000000\" fill-rule=\"nonzero\" fill-opacity=\"1\" /><path clip-path=\"url(#clip120)\" d=\"M130.922 155.239 Q127.311 155.239 125.482 158.804 Q123.677 162.346 123.677 169.475 Q123.677 176.582 125.482 180.147 Q127.311 183.688 130.922 183.688 Q134.556 183.688 136.362 180.147 Q138.191 176.582 138.191 169.475 Q138.191 162.346 136.362 158.804 Q134.556 155.239 130.922 155.239 M130.922 151.536 Q136.732 151.536 139.788 156.142 Q142.867 160.725 142.867 169.475 Q142.867 178.202 139.788 182.809 Q136.732 187.392 130.922 187.392 Q125.112 187.392 122.033 182.809 Q118.978 178.202 118.978 169.475 Q118.978 160.725 122.033 156.142 Q125.112 151.536 130.922 151.536 Z\" fill=\"#000000\" fill-rule=\"nonzero\" fill-opacity=\"1\" /><polyline clip-path=\"url(#clip122)\" style=\"stroke:#009af9; stroke-linecap:round; stroke-linejoin:round; stroke-width:4; stroke-opacity:1; fill:none\" points=\"240.392,1445.72 253.744,1436.88 377.203,1355.14 451.397,1306.02 514.127,1264.49 582.269,1219.38 645.091,1177.79 712.442,1133.2 790.474,1081.54 859.821,1035.63 920.631,995.37 986.931,951.476 1053.62,907.322 1127.36,858.505 1197.52,812.056 1270.47,763.759 1331.88,723.104 1406.86,673.469 1475.54,628 1538.97,586.006 1603.22,543.467 1675.23,495.793 1740.48,452.593 1815.2,403.131 1884.37,357.334 1952.57,312.184 2018.78,268.347 2086.66,223.408 2161.03,174.172 2269.07,102.649 2291.23,87.9763 \"/>\n",
       "<path clip-path=\"url(#clip120)\" d=\"M251.33 198.898 L521.149 198.898 L521.149 95.2176 L251.33 95.2176  Z\" fill=\"#ffffff\" fill-rule=\"evenodd\" fill-opacity=\"1\"/>\n",
       "<polyline clip-path=\"url(#clip120)\" style=\"stroke:#000000; stroke-linecap:round; stroke-linejoin:round; stroke-width:4; stroke-opacity:1; fill:none\" points=\"251.33,198.898 521.149,198.898 521.149,95.2176 251.33,95.2176 251.33,198.898 \"/>\n",
       "<polyline clip-path=\"url(#clip120)\" style=\"stroke:#009af9; stroke-linecap:round; stroke-linejoin:round; stroke-width:4; stroke-opacity:1; fill:none\" points=\"275.484,147.058 420.41,147.058 \"/>\n",
       "<path clip-path=\"url(#clip120)\" d=\"M458.407 166.745 Q456.601 171.375 454.888 172.787 Q453.175 174.199 450.305 174.199 L446.902 174.199 L446.902 170.634 L449.402 170.634 Q451.161 170.634 452.134 169.8 Q453.106 168.967 454.286 165.865 L455.05 163.921 L444.564 138.412 L449.078 138.412 L457.18 158.689 L465.282 138.412 L469.796 138.412 L458.407 166.745 Z\" fill=\"#000000\" fill-rule=\"nonzero\" fill-opacity=\"1\" /><path clip-path=\"url(#clip120)\" d=\"M477.087 160.402 L484.726 160.402 L484.726 134.037 L476.416 135.703 L476.416 131.444 L484.68 129.778 L489.356 129.778 L489.356 160.402 L496.994 160.402 L496.994 164.338 L477.087 164.338 L477.087 160.402 Z\" fill=\"#000000\" fill-rule=\"nonzero\" fill-opacity=\"1\" /></svg>\n"
      ]
     },
     "execution_count": 16,
     "metadata": {},
     "output_type": "execute_result"
    }
   ],
   "source": [
    "plot(f,-5,5)"
   ]
  },
  {
   "cell_type": "code",
   "execution_count": 20,
   "id": "7fc330f2-7927-431e-8693-f0c1d3e1f13b",
   "metadata": {},
   "outputs": [
    {
     "data": {
      "image/png": "[encoded data removed]",
      "image/svg+xml": [
       "<?xml version=\"1.0\" encoding=\"utf-8\"?>\n",
       "<svg xmlns=\"http://www.w3.org/2000/svg\" xmlns:xlink=\"http://www.w3.org/1999/xlink\" width=\"600\" height=\"400\" viewBox=\"0 0 2400 1600\">\n",
       "<defs>\n",
       "  <clipPath id=\"clip430\">\n",
       "    <rect x=\"0\" y=\"0\" width=\"2400\" height=\"1600\"/>\n",
       "  </clipPath>\n",
       "</defs>\n",
       "<path clip-path=\"url(#clip430)\" d=\"M0 1600 L2400 1600 L2400 0 L0 0  Z\" fill=\"#ffffff\" fill-rule=\"evenodd\" fill-opacity=\"1\"/>\n",
       "<defs>\n",
       "  <clipPath id=\"clip431\">\n",
       "    <rect x=\"480\" y=\"0\" width=\"1681\" height=\"1600\"/>\n",
       "  </clipPath>\n",
       "</defs>\n",
       "<path clip-path=\"url(#clip430)\" d=\"M178.867 1486.45 L2352.76 1486.45 L2352.76 47.2441 L178.867 47.2441  Z\" fill=\"#ffffff\" fill-rule=\"evenodd\" fill-opacity=\"1\"/>\n",
       "<defs>\n",
       "  <clipPath id=\"clip432\">\n",
       "    <rect x=\"178\" y=\"47\" width=\"2175\" height=\"1440\"/>\n",
       "  </clipPath>\n",
       "</defs>\n",
       "<polyline clip-path=\"url(#clip432)\" style=\"stroke:#000000; stroke-linecap:round; stroke-linejoin:round; stroke-width:2; stroke-opacity:0.1; fill:none\" points=\"240.392,1486.45 240.392,47.2441 \"/>\n",
       "<polyline clip-path=\"url(#clip432)\" style=\"stroke:#000000; stroke-linecap:round; stroke-linejoin:round; stroke-width:2; stroke-opacity:0.1; fill:none\" points=\"753.102,1486.45 753.102,47.2441 \"/>\n",
       "<polyline clip-path=\"url(#clip432)\" style=\"stroke:#000000; stroke-linecap:round; stroke-linejoin:round; stroke-width:2; stroke-opacity:0.1; fill:none\" points=\"1265.81,1486.45 1265.81,47.2441 \"/>\n",
       "<polyline clip-path=\"url(#clip432)\" style=\"stroke:#000000; stroke-linecap:round; stroke-linejoin:round; stroke-width:2; stroke-opacity:0.1; fill:none\" points=\"1778.52,1486.45 1778.52,47.2441 \"/>\n",
       "<polyline clip-path=\"url(#clip432)\" style=\"stroke:#000000; stroke-linecap:round; stroke-linejoin:round; stroke-width:2; stroke-opacity:0.1; fill:none\" points=\"2291.23,1486.45 2291.23,47.2441 \"/>\n",
       "<polyline clip-path=\"url(#clip430)\" style=\"stroke:#000000; stroke-linecap:round; stroke-linejoin:round; stroke-width:4; stroke-opacity:1; fill:none\" points=\"178.867,1486.45 2352.76,1486.45 \"/>\n",
       "<polyline clip-path=\"url(#clip430)\" style=\"stroke:#000000; stroke-linecap:round; stroke-linejoin:round; stroke-width:4; stroke-opacity:1; fill:none\" points=\"240.392,1486.45 240.392,1467.55 \"/>\n",
       "<polyline clip-path=\"url(#clip430)\" style=\"stroke:#000000; stroke-linecap:round; stroke-linejoin:round; stroke-width:4; stroke-opacity:1; fill:none\" points=\"753.102,1486.45 753.102,1467.55 \"/>\n",
       "<polyline clip-path=\"url(#clip430)\" style=\"stroke:#000000; stroke-linecap:round; stroke-linejoin:round; stroke-width:4; stroke-opacity:1; fill:none\" points=\"1265.81,1486.45 1265.81,1467.55 \"/>\n",
       "<polyline clip-path=\"url(#clip430)\" style=\"stroke:#000000; stroke-linecap:round; stroke-linejoin:round; stroke-width:4; stroke-opacity:1; fill:none\" points=\"1778.52,1486.45 1778.52,1467.55 \"/>\n",
       "<polyline clip-path=\"url(#clip430)\" style=\"stroke:#000000; stroke-linecap:round; stroke-linejoin:round; stroke-width:4; stroke-opacity:1; fill:none\" points=\"2291.23,1486.45 2291.23,1467.55 \"/>\n",
       "<path clip-path=\"url(#clip430)\" d=\"M194.455 1532.02 L224.13 1532.02 L224.13 1535.95 L194.455 1535.95 L194.455 1532.02 Z\" fill=\"#000000\" fill-rule=\"nonzero\" fill-opacity=\"1\" /><path clip-path=\"url(#clip430)\" d=\"M235.033 1544.91 L242.672 1544.91 L242.672 1518.55 L234.362 1520.21 L234.362 1515.95 L242.626 1514.29 L247.301 1514.29 L247.301 1544.91 L254.94 1544.91 L254.94 1548.85 L235.033 1548.85 L235.033 1544.91 Z\" fill=\"#000000\" fill-rule=\"nonzero\" fill-opacity=\"1\" /><path clip-path=\"url(#clip430)\" d=\"M274.385 1517.37 Q270.774 1517.37 268.945 1520.93 Q267.139 1524.47 267.139 1531.6 Q267.139 1538.71 268.945 1542.27 Q270.774 1545.82 274.385 1545.82 Q278.019 1545.82 279.824 1542.27 Q281.653 1538.71 281.653 1531.6 Q281.653 1524.47 279.824 1520.93 Q278.019 1517.37 274.385 1517.37 M274.385 1513.66 Q280.195 1513.66 283.25 1518.27 Q286.329 1522.85 286.329 1531.6 Q286.329 1540.33 283.25 1544.94 Q280.195 1549.52 274.385 1549.52 Q268.575 1549.52 265.496 1544.94 Q262.44 1540.33 262.44 1531.6 Q262.44 1522.85 265.496 1518.27 Q268.575 1513.66 274.385 1513.66 Z\" fill=\"#000000\" fill-rule=\"nonzero\" fill-opacity=\"1\" /><path clip-path=\"url(#clip430)\" d=\"M722.743 1532.02 L752.419 1532.02 L752.419 1535.95 L722.743 1535.95 L722.743 1532.02 Z\" fill=\"#000000\" fill-rule=\"nonzero\" fill-opacity=\"1\" /><path clip-path=\"url(#clip430)\" d=\"M762.558 1514.29 L780.914 1514.29 L780.914 1518.22 L766.84 1518.22 L766.84 1526.7 Q767.858 1526.35 768.877 1526.19 Q769.895 1526 770.914 1526 Q776.701 1526 780.081 1529.17 Q783.46 1532.34 783.46 1537.76 Q783.46 1543.34 779.988 1546.44 Q776.516 1549.52 770.196 1549.52 Q768.02 1549.52 765.752 1549.15 Q763.507 1548.78 761.099 1548.04 L761.099 1543.34 Q763.183 1544.47 765.405 1545.03 Q767.627 1545.58 770.104 1545.58 Q774.108 1545.58 776.446 1543.48 Q778.784 1541.37 778.784 1537.76 Q778.784 1534.15 776.446 1532.04 Q774.108 1529.94 770.104 1529.94 Q768.229 1529.94 766.354 1530.35 Q764.502 1530.77 762.558 1531.65 L762.558 1514.29 Z\" fill=\"#000000\" fill-rule=\"nonzero\" fill-opacity=\"1\" /><path clip-path=\"url(#clip430)\" d=\"M1265.81 1517.37 Q1262.2 1517.37 1260.37 1520.93 Q1258.57 1524.47 1258.57 1531.6 Q1258.57 1538.71 1260.37 1542.27 Q1262.2 1545.82 1265.81 1545.82 Q1269.45 1545.82 1271.25 1542.27 Q1273.08 1538.71 1273.08 1531.6 Q1273.08 1524.47 1271.25 1520.93 Q1269.45 1517.37 1265.81 1517.37 M1265.81 1513.66 Q1271.62 1513.66 1274.68 1518.27 Q1277.76 1522.85 1277.76 1531.6 Q1277.76 1540.33 1274.68 1544.94 Q1271.62 1549.52 1265.81 1549.52 Q1260 1549.52 1256.92 1544.94 Q1253.87 1540.33 1253.87 1531.6 Q1253.87 1522.85 1256.92 1518.27 Q1260 1513.66 1265.81 1513.66 Z\" fill=\"#000000\" fill-rule=\"nonzero\" fill-opacity=\"1\" /><path clip-path=\"url(#clip430)\" d=\"M1768.8 1514.29 L1787.16 1514.29 L1787.16 1518.22 L1773.08 1518.22 L1773.08 1526.7 Q1774.1 1526.35 1775.12 1526.19 Q1776.14 1526 1777.16 1526 Q1782.94 1526 1786.32 1529.17 Q1789.7 1532.34 1789.7 1537.76 Q1789.7 1543.34 1786.23 1546.44 Q1782.76 1549.52 1776.44 1549.52 Q1774.26 1549.52 1771.99 1549.15 Q1769.75 1548.78 1767.34 1548.04 L1767.34 1543.34 Q1769.42 1544.47 1771.65 1545.03 Q1773.87 1545.58 1776.35 1545.58 Q1780.35 1545.58 1782.69 1543.48 Q1785.03 1541.37 1785.03 1537.76 Q1785.03 1534.15 1782.69 1532.04 Q1780.35 1529.94 1776.35 1529.94 Q1774.47 1529.94 1772.6 1530.35 Q1770.74 1530.77 1768.8 1531.65 L1768.8 1514.29 Z\" fill=\"#000000\" fill-rule=\"nonzero\" fill-opacity=\"1\" /><path clip-path=\"url(#clip430)\" d=\"M2265.92 1544.91 L2273.56 1544.91 L2273.56 1518.55 L2265.25 1520.21 L2265.25 1515.95 L2273.51 1514.29 L2278.19 1514.29 L2278.19 1544.91 L2285.83 1544.91 L2285.83 1548.85 L2265.92 1548.85 L2265.92 1544.91 Z\" fill=\"#000000\" fill-rule=\"nonzero\" fill-opacity=\"1\" /><path clip-path=\"url(#clip430)\" d=\"M2305.27 1517.37 Q2301.66 1517.37 2299.83 1520.93 Q2298.02 1524.47 2298.02 1531.6 Q2298.02 1538.71 2299.83 1542.27 Q2301.66 1545.82 2305.27 1545.82 Q2308.9 1545.82 2310.71 1542.27 Q2312.54 1538.71 2312.54 1531.6 Q2312.54 1524.47 2310.71 1520.93 Q2308.9 1517.37 2305.27 1517.37 M2305.27 1513.66 Q2311.08 1513.66 2314.14 1518.27 Q2317.21 1522.85 2317.21 1531.6 Q2317.21 1540.33 2314.14 1544.94 Q2311.08 1549.52 2305.27 1549.52 Q2299.46 1549.52 2296.38 1544.94 Q2293.33 1540.33 2293.33 1531.6 Q2293.33 1522.85 2296.38 1518.27 Q2299.46 1513.66 2305.27 1513.66 Z\" fill=\"#000000\" fill-rule=\"nonzero\" fill-opacity=\"1\" /><polyline clip-path=\"url(#clip432)\" style=\"stroke:#000000; stroke-linecap:round; stroke-linejoin:round; stroke-width:2; stroke-opacity:0.1; fill:none\" points=\"178.867,1445.72 2352.76,1445.72 \"/>\n",
       "<polyline clip-path=\"url(#clip432)\" style=\"stroke:#000000; stroke-linecap:round; stroke-linejoin:round; stroke-width:2; stroke-opacity:0.1; fill:none\" points=\"178.867,1106.28 2352.76,1106.28 \"/>\n",
       "<polyline clip-path=\"url(#clip432)\" style=\"stroke:#000000; stroke-linecap:round; stroke-linejoin:round; stroke-width:2; stroke-opacity:0.1; fill:none\" points=\"178.867,766.846 2352.76,766.846 \"/>\n",
       "<polyline clip-path=\"url(#clip432)\" style=\"stroke:#000000; stroke-linecap:round; stroke-linejoin:round; stroke-width:2; stroke-opacity:0.1; fill:none\" points=\"178.867,427.411 2352.76,427.411 \"/>\n",
       "<polyline clip-path=\"url(#clip432)\" style=\"stroke:#000000; stroke-linecap:round; stroke-linejoin:round; stroke-width:2; stroke-opacity:0.1; fill:none\" points=\"178.867,87.9763 2352.76,87.9763 \"/>\n",
       "<polyline clip-path=\"url(#clip430)\" style=\"stroke:#000000; stroke-linecap:round; stroke-linejoin:round; stroke-width:4; stroke-opacity:1; fill:none\" points=\"178.867,1486.45 178.867,47.2441 \"/>\n",
       "<polyline clip-path=\"url(#clip430)\" style=\"stroke:#000000; stroke-linecap:round; stroke-linejoin:round; stroke-width:4; stroke-opacity:1; fill:none\" points=\"178.867,1445.72 197.764,1445.72 \"/>\n",
       "<polyline clip-path=\"url(#clip430)\" style=\"stroke:#000000; stroke-linecap:round; stroke-linejoin:round; stroke-width:4; stroke-opacity:1; fill:none\" points=\"178.867,1106.28 197.764,1106.28 \"/>\n",
       "<polyline clip-path=\"url(#clip430)\" style=\"stroke:#000000; stroke-linecap:round; stroke-linejoin:round; stroke-width:4; stroke-opacity:1; fill:none\" points=\"178.867,766.846 197.764,766.846 \"/>\n",
       "<polyline clip-path=\"url(#clip430)\" style=\"stroke:#000000; stroke-linecap:round; stroke-linejoin:round; stroke-width:4; stroke-opacity:1; fill:none\" points=\"178.867,427.411 197.764,427.411 \"/>\n",
       "<polyline clip-path=\"url(#clip430)\" style=\"stroke:#000000; stroke-linecap:round; stroke-linejoin:round; stroke-width:4; stroke-opacity:1; fill:none\" points=\"178.867,87.9763 197.764,87.9763 \"/>\n",
       "<path clip-path=\"url(#clip430)\" d=\"M50.9921 1446.17 L80.6679 1446.17 L80.6679 1450.1 L50.9921 1450.1 L50.9921 1446.17 Z\" fill=\"#000000\" fill-rule=\"nonzero\" fill-opacity=\"1\" /><path clip-path=\"url(#clip430)\" d=\"M91.5706 1459.06 L99.2095 1459.06 L99.2095 1432.69 L90.8993 1434.36 L90.8993 1430.1 L99.1632 1428.44 L103.839 1428.44 L103.839 1459.06 L111.478 1459.06 L111.478 1463 L91.5706 1463 L91.5706 1459.06 Z\" fill=\"#000000\" fill-rule=\"nonzero\" fill-opacity=\"1\" /><path clip-path=\"url(#clip430)\" d=\"M130.922 1431.51 Q127.311 1431.51 125.482 1435.08 Q123.677 1438.62 123.677 1445.75 Q123.677 1452.86 125.482 1456.42 Q127.311 1459.96 130.922 1459.96 Q134.556 1459.96 136.362 1456.42 Q138.191 1452.86 138.191 1445.75 Q138.191 1438.62 136.362 1435.08 Q134.556 1431.51 130.922 1431.51 M130.922 1427.81 Q136.732 1427.81 139.788 1432.42 Q142.867 1437 142.867 1445.75 Q142.867 1454.48 139.788 1459.08 Q136.732 1463.67 130.922 1463.67 Q125.112 1463.67 122.033 1459.08 Q118.978 1454.48 118.978 1445.75 Q118.978 1437 122.033 1432.42 Q125.112 1427.81 130.922 1427.81 Z\" fill=\"#000000\" fill-rule=\"nonzero\" fill-opacity=\"1\" /><path clip-path=\"url(#clip430)\" d=\"M82.1494 1106.73 L111.825 1106.73 L111.825 1110.67 L82.1494 1110.67 L82.1494 1106.73 Z\" fill=\"#000000\" fill-rule=\"nonzero\" fill-opacity=\"1\" /><path clip-path=\"url(#clip430)\" d=\"M121.964 1089 L140.32 1089 L140.32 1092.94 L126.246 1092.94 L126.246 1101.41 Q127.265 1101.06 128.283 1100.9 Q129.302 1100.71 130.32 1100.71 Q136.107 1100.71 139.487 1103.89 Q142.867 1107.06 142.867 1112.47 Q142.867 1118.05 139.394 1121.15 Q135.922 1124.23 129.603 1124.23 Q127.427 1124.23 125.158 1123.86 Q122.913 1123.49 120.506 1122.75 L120.506 1118.05 Q122.589 1119.19 124.811 1119.74 Q127.033 1120.3 129.51 1120.3 Q133.515 1120.3 135.853 1118.19 Q138.191 1116.08 138.191 1112.47 Q138.191 1108.86 135.853 1106.76 Q133.515 1104.65 129.51 1104.65 Q127.635 1104.65 125.76 1105.07 Q123.908 1105.48 121.964 1106.36 L121.964 1089 Z\" fill=\"#000000\" fill-rule=\"nonzero\" fill-opacity=\"1\" /><path clip-path=\"url(#clip430)\" d=\"M130.922 752.645 Q127.311 752.645 125.482 756.209 Q123.677 759.751 123.677 766.881 Q123.677 773.987 125.482 777.552 Q127.311 781.094 130.922 781.094 Q134.556 781.094 136.362 777.552 Q138.191 773.987 138.191 766.881 Q138.191 759.751 136.362 756.209 Q134.556 752.645 130.922 752.645 M130.922 748.941 Q136.732 748.941 139.788 753.547 Q142.867 758.131 142.867 766.881 Q142.867 775.608 139.788 780.214 Q136.732 784.797 130.922 784.797 Q125.112 784.797 122.033 780.214 Q118.978 775.608 118.978 766.881 Q118.978 758.131 122.033 753.547 Q125.112 748.941 130.922 748.941 Z\" fill=\"#000000\" fill-rule=\"nonzero\" fill-opacity=\"1\" /><path clip-path=\"url(#clip430)\" d=\"M121.964 410.131 L140.32 410.131 L140.32 414.066 L126.246 414.066 L126.246 422.538 Q127.265 422.191 128.283 422.029 Q129.302 421.844 130.32 421.844 Q136.107 421.844 139.487 425.015 Q142.867 428.187 142.867 433.603 Q142.867 439.182 139.394 442.284 Q135.922 445.362 129.603 445.362 Q127.427 445.362 125.158 444.992 Q122.913 444.622 120.506 443.881 L120.506 439.182 Q122.589 440.316 124.811 440.872 Q127.033 441.427 129.51 441.427 Q133.515 441.427 135.853 439.321 Q138.191 437.214 138.191 433.603 Q138.191 429.992 135.853 427.886 Q133.515 425.779 129.51 425.779 Q127.635 425.779 125.76 426.196 Q123.908 426.613 121.964 427.492 L121.964 410.131 Z\" fill=\"#000000\" fill-rule=\"nonzero\" fill-opacity=\"1\" /><path clip-path=\"url(#clip430)\" d=\"M91.5706 101.321 L99.2095 101.321 L99.2095 74.9555 L90.8993 76.6222 L90.8993 72.3629 L99.1632 70.6963 L103.839 70.6963 L103.839 101.321 L111.478 101.321 L111.478 105.256 L91.5706 105.256 L91.5706 101.321 Z\" fill=\"#000000\" fill-rule=\"nonzero\" fill-opacity=\"1\" /><path clip-path=\"url(#clip430)\" d=\"M130.922 73.775 Q127.311 73.775 125.482 77.3398 Q123.677 80.8814 123.677 88.011 Q123.677 95.1174 125.482 98.6822 Q127.311 102.224 130.922 102.224 Q134.556 102.224 136.362 98.6822 Q138.191 95.1174 138.191 88.011 Q138.191 80.8814 136.362 77.3398 Q134.556 73.775 130.922 73.775 M130.922 70.0713 Q136.732 70.0713 139.788 74.6777 Q142.867 79.261 142.867 88.011 Q142.867 96.7378 139.788 101.344 Q136.732 105.928 130.922 105.928 Q125.112 105.928 122.033 101.344 Q118.978 96.7378 118.978 88.011 Q118.978 79.261 122.033 74.6777 Q125.112 70.0713 130.922 70.0713 Z\" fill=\"#000000\" fill-rule=\"nonzero\" fill-opacity=\"1\" /><polyline clip-path=\"url(#clip432)\" style=\"stroke:#009af9; stroke-linecap:round; stroke-linejoin:round; stroke-width:4; stroke-opacity:1; fill:none\" points=\"240.392,1445.72 253.744,1436.88 377.203,1355.14 451.397,1306.02 514.127,1264.49 582.269,1219.38 645.091,1177.79 712.442,1133.2 790.474,1081.54 859.821,1035.63 920.631,995.37 986.931,951.476 1053.62,907.322 1127.36,858.505 1197.52,812.056 1270.47,763.759 1331.88,723.104 1406.86,673.469 1475.54,628 1538.97,586.006 1603.22,543.467 1675.23,495.793 1740.48,452.593 1815.2,403.131 1884.37,357.334 1952.57,312.184 2018.78,268.347 2086.66,223.408 2161.03,174.172 2269.07,102.649 2291.23,87.9763 \"/>\n",
       "<path clip-path=\"url(#clip430)\" d=\"M251.33 198.898 L521.149 198.898 L521.149 95.2176 L251.33 95.2176  Z\" fill=\"#ffffff\" fill-rule=\"evenodd\" fill-opacity=\"1\"/>\n",
       "<polyline clip-path=\"url(#clip430)\" style=\"stroke:#000000; stroke-linecap:round; stroke-linejoin:round; stroke-width:4; stroke-opacity:1; fill:none\" points=\"251.33,198.898 521.149,198.898 521.149,95.2176 251.33,95.2176 251.33,198.898 \"/>\n",
       "<polyline clip-path=\"url(#clip430)\" style=\"stroke:#009af9; stroke-linecap:round; stroke-linejoin:round; stroke-width:4; stroke-opacity:1; fill:none\" points=\"275.484,147.058 420.41,147.058 \"/>\n",
       "<path clip-path=\"url(#clip430)\" d=\"M458.407 166.745 Q456.601 171.375 454.888 172.787 Q453.175 174.199 450.305 174.199 L446.902 174.199 L446.902 170.634 L449.402 170.634 Q451.161 170.634 452.134 169.8 Q453.106 168.967 454.286 165.865 L455.05 163.921 L444.564 138.412 L449.078 138.412 L457.18 158.689 L465.282 138.412 L469.796 138.412 L458.407 166.745 Z\" fill=\"#000000\" fill-rule=\"nonzero\" fill-opacity=\"1\" /><path clip-path=\"url(#clip430)\" d=\"M477.087 160.402 L484.726 160.402 L484.726 134.037 L476.416 135.703 L476.416 131.444 L484.68 129.778 L489.356 129.778 L489.356 160.402 L496.994 160.402 L496.994 164.338 L477.087 164.338 L477.087 160.402 Z\" fill=\"#000000\" fill-rule=\"nonzero\" fill-opacity=\"1\" /></svg>\n"
      ],
      "text/html": [
       "<?xml version=\"1.0\" encoding=\"utf-8\"?>\n",
       "<svg xmlns=\"http://www.w3.org/2000/svg\" xmlns:xlink=\"http://www.w3.org/1999/xlink\" width=\"600\" height=\"400\" viewBox=\"0 0 2400 1600\">\n",
       "<defs>\n",
       "  <clipPath id=\"clip480\">\n",
       "    <rect x=\"0\" y=\"0\" width=\"2400\" height=\"1600\"/>\n",
       "  </clipPath>\n",
       "</defs>\n",
       "<path clip-path=\"url(#clip480)\" d=\"M0 1600 L2400 1600 L2400 0 L0 0  Z\" fill=\"#ffffff\" fill-rule=\"evenodd\" fill-opacity=\"1\"/>\n",
       "<defs>\n",
       "  <clipPath id=\"clip481\">\n",
       "    <rect x=\"480\" y=\"0\" width=\"1681\" height=\"1600\"/>\n",
       "  </clipPath>\n",
       "</defs>\n",
       "<path clip-path=\"url(#clip480)\" d=\"M178.867 1486.45 L2352.76 1486.45 L2352.76 47.2441 L178.867 47.2441  Z\" fill=\"#ffffff\" fill-rule=\"evenodd\" fill-opacity=\"1\"/>\n",
       "<defs>\n",
       "  <clipPath id=\"clip482\">\n",
       "    <rect x=\"178\" y=\"47\" width=\"2175\" height=\"1440\"/>\n",
       "  </clipPath>\n",
       "</defs>\n",
       "<polyline clip-path=\"url(#clip482)\" style=\"stroke:#000000; stroke-linecap:round; stroke-linejoin:round; stroke-width:2; stroke-opacity:0.1; fill:none\" points=\"240.392,1486.45 240.392,47.2441 \"/>\n",
       "<polyline clip-path=\"url(#clip482)\" style=\"stroke:#000000; stroke-linecap:round; stroke-linejoin:round; stroke-width:2; stroke-opacity:0.1; fill:none\" points=\"753.102,1486.45 753.102,47.2441 \"/>\n",
       "<polyline clip-path=\"url(#clip482)\" style=\"stroke:#000000; stroke-linecap:round; stroke-linejoin:round; stroke-width:2; stroke-opacity:0.1; fill:none\" points=\"1265.81,1486.45 1265.81,47.2441 \"/>\n",
       "<polyline clip-path=\"url(#clip482)\" style=\"stroke:#000000; stroke-linecap:round; stroke-linejoin:round; stroke-width:2; stroke-opacity:0.1; fill:none\" points=\"1778.52,1486.45 1778.52,47.2441 \"/>\n",
       "<polyline clip-path=\"url(#clip482)\" style=\"stroke:#000000; stroke-linecap:round; stroke-linejoin:round; stroke-width:2; stroke-opacity:0.1; fill:none\" points=\"2291.23,1486.45 2291.23,47.2441 \"/>\n",
       "<polyline clip-path=\"url(#clip480)\" style=\"stroke:#000000; stroke-linecap:round; stroke-linejoin:round; stroke-width:4; stroke-opacity:1; fill:none\" points=\"178.867,1486.45 2352.76,1486.45 \"/>\n",
       "<polyline clip-path=\"url(#clip480)\" style=\"stroke:#000000; stroke-linecap:round; stroke-linejoin:round; stroke-width:4; stroke-opacity:1; fill:none\" points=\"240.392,1486.45 240.392,1467.55 \"/>\n",
       "<polyline clip-path=\"url(#clip480)\" style=\"stroke:#000000; stroke-linecap:round; stroke-linejoin:round; stroke-width:4; stroke-opacity:1; fill:none\" points=\"753.102,1486.45 753.102,1467.55 \"/>\n",
       "<polyline clip-path=\"url(#clip480)\" style=\"stroke:#000000; stroke-linecap:round; stroke-linejoin:round; stroke-width:4; stroke-opacity:1; fill:none\" points=\"1265.81,1486.45 1265.81,1467.55 \"/>\n",
       "<polyline clip-path=\"url(#clip480)\" style=\"stroke:#000000; stroke-linecap:round; stroke-linejoin:round; stroke-width:4; stroke-opacity:1; fill:none\" points=\"1778.52,1486.45 1778.52,1467.55 \"/>\n",
       "<polyline clip-path=\"url(#clip480)\" style=\"stroke:#000000; stroke-linecap:round; stroke-linejoin:round; stroke-width:4; stroke-opacity:1; fill:none\" points=\"2291.23,1486.45 2291.23,1467.55 \"/>\n",
       "<path clip-path=\"url(#clip480)\" d=\"M194.455 1532.02 L224.13 1532.02 L224.13 1535.95 L194.455 1535.95 L194.455 1532.02 Z\" fill=\"#000000\" fill-rule=\"nonzero\" fill-opacity=\"1\" /><path clip-path=\"url(#clip480)\" d=\"M235.033 1544.91 L242.672 1544.91 L242.672 1518.55 L234.362 1520.21 L234.362 1515.95 L242.626 1514.29 L247.301 1514.29 L247.301 1544.91 L254.94 1544.91 L254.94 1548.85 L235.033 1548.85 L235.033 1544.91 Z\" fill=\"#000000\" fill-rule=\"nonzero\" fill-opacity=\"1\" /><path clip-path=\"url(#clip480)\" d=\"M274.385 1517.37 Q270.774 1517.37 268.945 1520.93 Q267.139 1524.47 267.139 1531.6 Q267.139 1538.71 268.945 1542.27 Q270.774 1545.82 274.385 1545.82 Q278.019 1545.82 279.824 1542.27 Q281.653 1538.71 281.653 1531.6 Q281.653 1524.47 279.824 1520.93 Q278.019 1517.37 274.385 1517.37 M274.385 1513.66 Q280.195 1513.66 283.25 1518.27 Q286.329 1522.85 286.329 1531.6 Q286.329 1540.33 283.25 1544.94 Q280.195 1549.52 274.385 1549.52 Q268.575 1549.52 265.496 1544.94 Q262.44 1540.33 262.44 1531.6 Q262.44 1522.85 265.496 1518.27 Q268.575 1513.66 274.385 1513.66 Z\" fill=\"#000000\" fill-rule=\"nonzero\" fill-opacity=\"1\" /><path clip-path=\"url(#clip480)\" d=\"M722.743 1532.02 L752.419 1532.02 L752.419 1535.95 L722.743 1535.95 L722.743 1532.02 Z\" fill=\"#000000\" fill-rule=\"nonzero\" fill-opacity=\"1\" /><path clip-path=\"url(#clip480)\" d=\"M762.558 1514.29 L780.914 1514.29 L780.914 1518.22 L766.84 1518.22 L766.84 1526.7 Q767.858 1526.35 768.877 1526.19 Q769.895 1526 770.914 1526 Q776.701 1526 780.081 1529.17 Q783.46 1532.34 783.46 1537.76 Q783.46 1543.34 779.988 1546.44 Q776.516 1549.52 770.196 1549.52 Q768.02 1549.52 765.752 1549.15 Q763.507 1548.78 761.099 1548.04 L761.099 1543.34 Q763.183 1544.47 765.405 1545.03 Q767.627 1545.58 770.104 1545.58 Q774.108 1545.58 776.446 1543.48 Q778.784 1541.37 778.784 1537.76 Q778.784 1534.15 776.446 1532.04 Q774.108 1529.94 770.104 1529.94 Q768.229 1529.94 766.354 1530.35 Q764.502 1530.77 762.558 1531.65 L762.558 1514.29 Z\" fill=\"#000000\" fill-rule=\"nonzero\" fill-opacity=\"1\" /><path clip-path=\"url(#clip480)\" d=\"M1265.81 1517.37 Q1262.2 1517.37 1260.37 1520.93 Q1258.57 1524.47 1258.57 1531.6 Q1258.57 1538.71 1260.37 1542.27 Q1262.2 1545.82 1265.81 1545.82 Q1269.45 1545.82 1271.25 1542.27 Q1273.08 1538.71 1273.08 1531.6 Q1273.08 1524.47 1271.25 1520.93 Q1269.45 1517.37 1265.81 1517.37 M1265.81 1513.66 Q1271.62 1513.66 1274.68 1518.27 Q1277.76 1522.85 1277.76 1531.6 Q1277.76 1540.33 1274.68 1544.94 Q1271.62 1549.52 1265.81 1549.52 Q1260 1549.52 1256.92 1544.94 Q1253.87 1540.33 1253.87 1531.6 Q1253.87 1522.85 1256.92 1518.27 Q1260 1513.66 1265.81 1513.66 Z\" fill=\"#000000\" fill-rule=\"nonzero\" fill-opacity=\"1\" /><path clip-path=\"url(#clip480)\" d=\"M1768.8 1514.29 L1787.16 1514.29 L1787.16 1518.22 L1773.08 1518.22 L1773.08 1526.7 Q1774.1 1526.35 1775.12 1526.19 Q1776.14 1526 1777.16 1526 Q1782.94 1526 1786.32 1529.17 Q1789.7 1532.34 1789.7 1537.76 Q1789.7 1543.34 1786.23 1546.44 Q1782.76 1549.52 1776.44 1549.52 Q1774.26 1549.52 1771.99 1549.15 Q1769.75 1548.78 1767.34 1548.04 L1767.34 1543.34 Q1769.42 1544.47 1771.65 1545.03 Q1773.87 1545.58 1776.35 1545.58 Q1780.35 1545.58 1782.69 1543.48 Q1785.03 1541.37 1785.03 1537.76 Q1785.03 1534.15 1782.69 1532.04 Q1780.35 1529.94 1776.35 1529.94 Q1774.47 1529.94 1772.6 1530.35 Q1770.74 1530.77 1768.8 1531.65 L1768.8 1514.29 Z\" fill=\"#000000\" fill-rule=\"nonzero\" fill-opacity=\"1\" /><path clip-path=\"url(#clip480)\" d=\"M2265.92 1544.91 L2273.56 1544.91 L2273.56 1518.55 L2265.25 1520.21 L2265.25 1515.95 L2273.51 1514.29 L2278.19 1514.29 L2278.19 1544.91 L2285.83 1544.91 L2285.83 1548.85 L2265.92 1548.85 L2265.92 1544.91 Z\" fill=\"#000000\" fill-rule=\"nonzero\" fill-opacity=\"1\" /><path clip-path=\"url(#clip480)\" d=\"M2305.27 1517.37 Q2301.66 1517.37 2299.83 1520.93 Q2298.02 1524.47 2298.02 1531.6 Q2298.02 1538.71 2299.83 1542.27 Q2301.66 1545.82 2305.27 1545.82 Q2308.9 1545.82 2310.71 1542.27 Q2312.54 1538.71 2312.54 1531.6 Q2312.54 1524.47 2310.71 1520.93 Q2308.9 1517.37 2305.27 1517.37 M2305.27 1513.66 Q2311.08 1513.66 2314.14 1518.27 Q2317.21 1522.85 2317.21 1531.6 Q2317.21 1540.33 2314.14 1544.94 Q2311.08 1549.52 2305.27 1549.52 Q2299.46 1549.52 2296.38 1544.94 Q2293.33 1540.33 2293.33 1531.6 Q2293.33 1522.85 2296.38 1518.27 Q2299.46 1513.66 2305.27 1513.66 Z\" fill=\"#000000\" fill-rule=\"nonzero\" fill-opacity=\"1\" /><polyline clip-path=\"url(#clip482)\" style=\"stroke:#000000; stroke-linecap:round; stroke-linejoin:round; stroke-width:2; stroke-opacity:0.1; fill:none\" points=\"178.867,1445.72 2352.76,1445.72 \"/>\n",
       "<polyline clip-path=\"url(#clip482)\" style=\"stroke:#000000; stroke-linecap:round; stroke-linejoin:round; stroke-width:2; stroke-opacity:0.1; fill:none\" points=\"178.867,1106.28 2352.76,1106.28 \"/>\n",
       "<polyline clip-path=\"url(#clip482)\" style=\"stroke:#000000; stroke-linecap:round; stroke-linejoin:round; stroke-width:2; stroke-opacity:0.1; fill:none\" points=\"178.867,766.846 2352.76,766.846 \"/>\n",
       "<polyline clip-path=\"url(#clip482)\" style=\"stroke:#000000; stroke-linecap:round; stroke-linejoin:round; stroke-width:2; stroke-opacity:0.1; fill:none\" points=\"178.867,427.411 2352.76,427.411 \"/>\n",
       "<polyline clip-path=\"url(#clip482)\" style=\"stroke:#000000; stroke-linecap:round; stroke-linejoin:round; stroke-width:2; stroke-opacity:0.1; fill:none\" points=\"178.867,87.9763 2352.76,87.9763 \"/>\n",
       "<polyline clip-path=\"url(#clip480)\" style=\"stroke:#000000; stroke-linecap:round; stroke-linejoin:round; stroke-width:4; stroke-opacity:1; fill:none\" points=\"178.867,1486.45 178.867,47.2441 \"/>\n",
       "<polyline clip-path=\"url(#clip480)\" style=\"stroke:#000000; stroke-linecap:round; stroke-linejoin:round; stroke-width:4; stroke-opacity:1; fill:none\" points=\"178.867,1445.72 197.764,1445.72 \"/>\n",
       "<polyline clip-path=\"url(#clip480)\" style=\"stroke:#000000; stroke-linecap:round; stroke-linejoin:round; stroke-width:4; stroke-opacity:1; fill:none\" points=\"178.867,1106.28 197.764,1106.28 \"/>\n",
       "<polyline clip-path=\"url(#clip480)\" style=\"stroke:#000000; stroke-linecap:round; stroke-linejoin:round; stroke-width:4; stroke-opacity:1; fill:none\" points=\"178.867,766.846 197.764,766.846 \"/>\n",
       "<polyline clip-path=\"url(#clip480)\" style=\"stroke:#000000; stroke-linecap:round; stroke-linejoin:round; stroke-width:4; stroke-opacity:1; fill:none\" points=\"178.867,427.411 197.764,427.411 \"/>\n",
       "<polyline clip-path=\"url(#clip480)\" style=\"stroke:#000000; stroke-linecap:round; stroke-linejoin:round; stroke-width:4; stroke-opacity:1; fill:none\" points=\"178.867,87.9763 197.764,87.9763 \"/>\n",
       "<path clip-path=\"url(#clip480)\" d=\"M50.9921 1446.17 L80.6679 1446.17 L80.6679 1450.1 L50.9921 1450.1 L50.9921 1446.17 Z\" fill=\"#000000\" fill-rule=\"nonzero\" fill-opacity=\"1\" /><path clip-path=\"url(#clip480)\" d=\"M91.5706 1459.06 L99.2095 1459.06 L99.2095 1432.69 L90.8993 1434.36 L90.8993 1430.1 L99.1632 1428.44 L103.839 1428.44 L103.839 1459.06 L111.478 1459.06 L111.478 1463 L91.5706 1463 L91.5706 1459.06 Z\" fill=\"#000000\" fill-rule=\"nonzero\" fill-opacity=\"1\" /><path clip-path=\"url(#clip480)\" d=\"M130.922 1431.51 Q127.311 1431.51 125.482 1435.08 Q123.677 1438.62 123.677 1445.75 Q123.677 1452.86 125.482 1456.42 Q127.311 1459.96 130.922 1459.96 Q134.556 1459.96 136.362 1456.42 Q138.191 1452.86 138.191 1445.75 Q138.191 1438.62 136.362 1435.08 Q134.556 1431.51 130.922 1431.51 M130.922 1427.81 Q136.732 1427.81 139.788 1432.42 Q142.867 1437 142.867 1445.75 Q142.867 1454.48 139.788 1459.08 Q136.732 1463.67 130.922 1463.67 Q125.112 1463.67 122.033 1459.08 Q118.978 1454.48 118.978 1445.75 Q118.978 1437 122.033 1432.42 Q125.112 1427.81 130.922 1427.81 Z\" fill=\"#000000\" fill-rule=\"nonzero\" fill-opacity=\"1\" /><path clip-path=\"url(#clip480)\" d=\"M82.1494 1106.73 L111.825 1106.73 L111.825 1110.67 L82.1494 1110.67 L82.1494 1106.73 Z\" fill=\"#000000\" fill-rule=\"nonzero\" fill-opacity=\"1\" /><path clip-path=\"url(#clip480)\" d=\"M121.964 1089 L140.32 1089 L140.32 1092.94 L126.246 1092.94 L126.246 1101.41 Q127.265 1101.06 128.283 1100.9 Q129.302 1100.71 130.32 1100.71 Q136.107 1100.71 139.487 1103.89 Q142.867 1107.06 142.867 1112.47 Q142.867 1118.05 139.394 1121.15 Q135.922 1124.23 129.603 1124.23 Q127.427 1124.23 125.158 1123.86 Q122.913 1123.49 120.506 1122.75 L120.506 1118.05 Q122.589 1119.19 124.811 1119.74 Q127.033 1120.3 129.51 1120.3 Q133.515 1120.3 135.853 1118.19 Q138.191 1116.08 138.191 1112.47 Q138.191 1108.86 135.853 1106.76 Q133.515 1104.65 129.51 1104.65 Q127.635 1104.65 125.76 1105.07 Q123.908 1105.48 121.964 1106.36 L121.964 1089 Z\" fill=\"#000000\" fill-rule=\"nonzero\" fill-opacity=\"1\" /><path clip-path=\"url(#clip480)\" d=\"M130.922 752.645 Q127.311 752.645 125.482 756.209 Q123.677 759.751 123.677 766.881 Q123.677 773.987 125.482 777.552 Q127.311 781.094 130.922 781.094 Q134.556 781.094 136.362 777.552 Q138.191 773.987 138.191 766.881 Q138.191 759.751 136.362 756.209 Q134.556 752.645 130.922 752.645 M130.922 748.941 Q136.732 748.941 139.788 753.547 Q142.867 758.131 142.867 766.881 Q142.867 775.608 139.788 780.214 Q136.732 784.797 130.922 784.797 Q125.112 784.797 122.033 780.214 Q118.978 775.608 118.978 766.881 Q118.978 758.131 122.033 753.547 Q125.112 748.941 130.922 748.941 Z\" fill=\"#000000\" fill-rule=\"nonzero\" fill-opacity=\"1\" /><path clip-path=\"url(#clip480)\" d=\"M121.964 410.131 L140.32 410.131 L140.32 414.066 L126.246 414.066 L126.246 422.538 Q127.265 422.191 128.283 422.029 Q129.302 421.844 130.32 421.844 Q136.107 421.844 139.487 425.015 Q142.867 428.187 142.867 433.603 Q142.867 439.182 139.394 442.284 Q135.922 445.362 129.603 445.362 Q127.427 445.362 125.158 444.992 Q122.913 444.622 120.506 443.881 L120.506 439.182 Q122.589 440.316 124.811 440.872 Q127.033 441.427 129.51 441.427 Q133.515 441.427 135.853 439.321 Q138.191 437.214 138.191 433.603 Q138.191 429.992 135.853 427.886 Q133.515 425.779 129.51 425.779 Q127.635 425.779 125.76 426.196 Q123.908 426.613 121.964 427.492 L121.964 410.131 Z\" fill=\"#000000\" fill-rule=\"nonzero\" fill-opacity=\"1\" /><path clip-path=\"url(#clip480)\" d=\"M91.5706 101.321 L99.2095 101.321 L99.2095 74.9555 L90.8993 76.6222 L90.8993 72.3629 L99.1632 70.6963 L103.839 70.6963 L103.839 101.321 L111.478 101.321 L111.478 105.256 L91.5706 105.256 L91.5706 101.321 Z\" fill=\"#000000\" fill-rule=\"nonzero\" fill-opacity=\"1\" /><path clip-path=\"url(#clip480)\" d=\"M130.922 73.775 Q127.311 73.775 125.482 77.3398 Q123.677 80.8814 123.677 88.011 Q123.677 95.1174 125.482 98.6822 Q127.311 102.224 130.922 102.224 Q134.556 102.224 136.362 98.6822 Q138.191 95.1174 138.191 88.011 Q138.191 80.8814 136.362 77.3398 Q134.556 73.775 130.922 73.775 M130.922 70.0713 Q136.732 70.0713 139.788 74.6777 Q142.867 79.261 142.867 88.011 Q142.867 96.7378 139.788 101.344 Q136.732 105.928 130.922 105.928 Q125.112 105.928 122.033 101.344 Q118.978 96.7378 118.978 88.011 Q118.978 79.261 122.033 74.6777 Q125.112 70.0713 130.922 70.0713 Z\" fill=\"#000000\" fill-rule=\"nonzero\" fill-opacity=\"1\" /><polyline clip-path=\"url(#clip482)\" style=\"stroke:#009af9; stroke-linecap:round; stroke-linejoin:round; stroke-width:4; stroke-opacity:1; fill:none\" points=\"240.392,1445.72 253.744,1436.88 377.203,1355.14 451.397,1306.02 514.127,1264.49 582.269,1219.38 645.091,1177.79 712.442,1133.2 790.474,1081.54 859.821,1035.63 920.631,995.37 986.931,951.476 1053.62,907.322 1127.36,858.505 1197.52,812.056 1270.47,763.759 1331.88,723.104 1406.86,673.469 1475.54,628 1538.97,586.006 1603.22,543.467 1675.23,495.793 1740.48,452.593 1815.2,403.131 1884.37,357.334 1952.57,312.184 2018.78,268.347 2086.66,223.408 2161.03,174.172 2269.07,102.649 2291.23,87.9763 \"/>\n",
       "<path clip-path=\"url(#clip480)\" d=\"M251.33 198.898 L521.149 198.898 L521.149 95.2176 L251.33 95.2176  Z\" fill=\"#ffffff\" fill-rule=\"evenodd\" fill-opacity=\"1\"/>\n",
       "<polyline clip-path=\"url(#clip480)\" style=\"stroke:#000000; stroke-linecap:round; stroke-linejoin:round; stroke-width:4; stroke-opacity:1; fill:none\" points=\"251.33,198.898 521.149,198.898 521.149,95.2176 251.33,95.2176 251.33,198.898 \"/>\n",
       "<polyline clip-path=\"url(#clip480)\" style=\"stroke:#009af9; stroke-linecap:round; stroke-linejoin:round; stroke-width:4; stroke-opacity:1; fill:none\" points=\"275.484,147.058 420.41,147.058 \"/>\n",
       "<path clip-path=\"url(#clip480)\" d=\"M458.407 166.745 Q456.601 171.375 454.888 172.787 Q453.175 174.199 450.305 174.199 L446.902 174.199 L446.902 170.634 L449.402 170.634 Q451.161 170.634 452.134 169.8 Q453.106 168.967 454.286 165.865 L455.05 163.921 L444.564 138.412 L449.078 138.412 L457.18 158.689 L465.282 138.412 L469.796 138.412 L458.407 166.745 Z\" fill=\"#000000\" fill-rule=\"nonzero\" fill-opacity=\"1\" /><path clip-path=\"url(#clip480)\" d=\"M477.087 160.402 L484.726 160.402 L484.726 134.037 L476.416 135.703 L476.416 131.444 L484.68 129.778 L489.356 129.778 L489.356 160.402 L496.994 160.402 L496.994 164.338 L477.087 164.338 L477.087 160.402 Z\" fill=\"#000000\" fill-rule=\"nonzero\" fill-opacity=\"1\" /></svg>\n"
      ]
     },
     "execution_count": 20,
     "metadata": {},
     "output_type": "execute_result"
    }
   ],
   "source": [
    "plot(aspect_ratio = 1, xlabel = \"X\", ylabel = \"Y\")\n",
    "g(x) = x \n",
    "plot(g, -10, 10)"
   ]
  },
  {
   "cell_type": "code",
   "execution_count": 21,
   "id": "878ba547-8530-43e0-a165-c3ff2c328af3",
   "metadata": {},
   "outputs": [
    {
     "data": {
      "image/png": "[encoded data removed]",
      "image/svg+xml": [
       "<?xml version=\"1.0\" encoding=\"utf-8\"?>\n",
       "<svg xmlns=\"http://www.w3.org/2000/svg\" xmlns:xlink=\"http://www.w3.org/1999/xlink\" width=\"600\" height=\"400\" viewBox=\"0 0 2400 1600\">\n",
       "<defs>\n",
       "  <clipPath id=\"clip520\">\n",
       "    <rect x=\"0\" y=\"0\" width=\"2400\" height=\"1600\"/>\n",
       "  </clipPath>\n",
       "</defs>\n",
       "<path clip-path=\"url(#clip520)\" d=\"M0 1600 L2400 1600 L2400 0 L0 0  Z\" fill=\"#ffffff\" fill-rule=\"evenodd\" fill-opacity=\"1\"/>\n",
       "<defs>\n",
       "  <clipPath id=\"clip521\">\n",
       "    <rect x=\"480\" y=\"0\" width=\"1681\" height=\"1600\"/>\n",
       "  </clipPath>\n",
       "</defs>\n",
       "<path clip-path=\"url(#clip520)\" d=\"M178.867 1486.45 L2352.76 1486.45 L2352.76 47.2441 L178.867 47.2441  Z\" fill=\"#ffffff\" fill-rule=\"evenodd\" fill-opacity=\"1\"/>\n",
       "<defs>\n",
       "  <clipPath id=\"clip522\">\n",
       "    <rect x=\"178\" y=\"47\" width=\"2175\" height=\"1440\"/>\n",
       "  </clipPath>\n",
       "</defs>\n",
       "<polyline clip-path=\"url(#clip522)\" style=\"stroke:#000000; stroke-linecap:round; stroke-linejoin:round; stroke-width:2; stroke-opacity:0.1; fill:none\" points=\"240.392,1486.45 240.392,47.2441 \"/>\n",
       "<polyline clip-path=\"url(#clip522)\" style=\"stroke:#000000; stroke-linecap:round; stroke-linejoin:round; stroke-width:2; stroke-opacity:0.1; fill:none\" points=\"753.102,1486.45 753.102,47.2441 \"/>\n",
       "<polyline clip-path=\"url(#clip522)\" style=\"stroke:#000000; stroke-linecap:round; stroke-linejoin:round; stroke-width:2; stroke-opacity:0.1; fill:none\" points=\"1265.81,1486.45 1265.81,47.2441 \"/>\n",
       "<polyline clip-path=\"url(#clip522)\" style=\"stroke:#000000; stroke-linecap:round; stroke-linejoin:round; stroke-width:2; stroke-opacity:0.1; fill:none\" points=\"1778.52,1486.45 1778.52,47.2441 \"/>\n",
       "<polyline clip-path=\"url(#clip522)\" style=\"stroke:#000000; stroke-linecap:round; stroke-linejoin:round; stroke-width:2; stroke-opacity:0.1; fill:none\" points=\"2291.23,1486.45 2291.23,47.2441 \"/>\n",
       "<polyline clip-path=\"url(#clip520)\" style=\"stroke:#000000; stroke-linecap:round; stroke-linejoin:round; stroke-width:4; stroke-opacity:1; fill:none\" points=\"178.867,1486.45 2352.76,1486.45 \"/>\n",
       "<polyline clip-path=\"url(#clip520)\" style=\"stroke:#000000; stroke-linecap:round; stroke-linejoin:round; stroke-width:4; stroke-opacity:1; fill:none\" points=\"240.392,1486.45 240.392,1467.55 \"/>\n",
       "<polyline clip-path=\"url(#clip520)\" style=\"stroke:#000000; stroke-linecap:round; stroke-linejoin:round; stroke-width:4; stroke-opacity:1; fill:none\" points=\"753.102,1486.45 753.102,1467.55 \"/>\n",
       "<polyline clip-path=\"url(#clip520)\" style=\"stroke:#000000; stroke-linecap:round; stroke-linejoin:round; stroke-width:4; stroke-opacity:1; fill:none\" points=\"1265.81,1486.45 1265.81,1467.55 \"/>\n",
       "<polyline clip-path=\"url(#clip520)\" style=\"stroke:#000000; stroke-linecap:round; stroke-linejoin:round; stroke-width:4; stroke-opacity:1; fill:none\" points=\"1778.52,1486.45 1778.52,1467.55 \"/>\n",
       "<polyline clip-path=\"url(#clip520)\" style=\"stroke:#000000; stroke-linecap:round; stroke-linejoin:round; stroke-width:4; stroke-opacity:1; fill:none\" points=\"2291.23,1486.45 2291.23,1467.55 \"/>\n",
       "<path clip-path=\"url(#clip520)\" d=\"M194.455 1532.02 L224.13 1532.02 L224.13 1535.95 L194.455 1535.95 L194.455 1532.02 Z\" fill=\"#000000\" fill-rule=\"nonzero\" fill-opacity=\"1\" /><path clip-path=\"url(#clip520)\" d=\"M235.033 1544.91 L242.672 1544.91 L242.672 1518.55 L234.362 1520.21 L234.362 1515.95 L242.626 1514.29 L247.301 1514.29 L247.301 1544.91 L254.94 1544.91 L254.94 1548.85 L235.033 1548.85 L235.033 1544.91 Z\" fill=\"#000000\" fill-rule=\"nonzero\" fill-opacity=\"1\" /><path clip-path=\"url(#clip520)\" d=\"M274.385 1517.37 Q270.774 1517.37 268.945 1520.93 Q267.139 1524.47 267.139 1531.6 Q267.139 1538.71 268.945 1542.27 Q270.774 1545.82 274.385 1545.82 Q278.019 1545.82 279.824 1542.27 Q281.653 1538.71 281.653 1531.6 Q281.653 1524.47 279.824 1520.93 Q278.019 1517.37 274.385 1517.37 M274.385 1513.66 Q280.195 1513.66 283.25 1518.27 Q286.329 1522.85 286.329 1531.6 Q286.329 1540.33 283.25 1544.94 Q280.195 1549.52 274.385 1549.52 Q268.575 1549.52 265.496 1544.94 Q262.44 1540.33 262.44 1531.6 Q262.44 1522.85 265.496 1518.27 Q268.575 1513.66 274.385 1513.66 Z\" fill=\"#000000\" fill-rule=\"nonzero\" fill-opacity=\"1\" /><path clip-path=\"url(#clip520)\" d=\"M722.743 1532.02 L752.419 1532.02 L752.419 1535.95 L722.743 1535.95 L722.743 1532.02 Z\" fill=\"#000000\" fill-rule=\"nonzero\" fill-opacity=\"1\" /><path clip-path=\"url(#clip520)\" d=\"M762.558 1514.29 L780.914 1514.29 L780.914 1518.22 L766.84 1518.22 L766.84 1526.7 Q767.858 1526.35 768.877 1526.19 Q769.895 1526 770.914 1526 Q776.701 1526 780.081 1529.17 Q783.46 1532.34 783.46 1537.76 Q783.46 1543.34 779.988 1546.44 Q776.516 1549.52 770.196 1549.52 Q768.02 1549.52 765.752 1549.15 Q763.507 1548.78 761.099 1548.04 L761.099 1543.34 Q763.183 1544.47 765.405 1545.03 Q767.627 1545.58 770.104 1545.58 Q774.108 1545.58 776.446 1543.48 Q778.784 1541.37 778.784 1537.76 Q778.784 1534.15 776.446 1532.04 Q774.108 1529.94 770.104 1529.94 Q768.229 1529.94 766.354 1530.35 Q764.502 1530.77 762.558 1531.65 L762.558 1514.29 Z\" fill=\"#000000\" fill-rule=\"nonzero\" fill-opacity=\"1\" /><path clip-path=\"url(#clip520)\" d=\"M1265.81 1517.37 Q1262.2 1517.37 1260.37 1520.93 Q1258.57 1524.47 1258.57 1531.6 Q1258.57 1538.71 1260.37 1542.27 Q1262.2 1545.82 1265.81 1545.82 Q1269.45 1545.82 1271.25 1542.27 Q1273.08 1538.71 1273.08 1531.6 Q1273.08 1524.47 1271.25 1520.93 Q1269.45 1517.37 1265.81 1517.37 M1265.81 1513.66 Q1271.62 1513.66 1274.68 1518.27 Q1277.76 1522.85 1277.76 1531.6 Q1277.76 1540.33 1274.68 1544.94 Q1271.62 1549.52 1265.81 1549.52 Q1260 1549.52 1256.92 1544.94 Q1253.87 1540.33 1253.87 1531.6 Q1253.87 1522.85 1256.92 1518.27 Q1260 1513.66 1265.81 1513.66 Z\" fill=\"#000000\" fill-rule=\"nonzero\" fill-opacity=\"1\" /><path clip-path=\"url(#clip520)\" d=\"M1768.8 1514.29 L1787.16 1514.29 L1787.16 1518.22 L1773.08 1518.22 L1773.08 1526.7 Q1774.1 1526.35 1775.12 1526.19 Q1776.14 1526 1777.16 1526 Q1782.94 1526 1786.32 1529.17 Q1789.7 1532.34 1789.7 1537.76 Q1789.7 1543.34 1786.23 1546.44 Q1782.76 1549.52 1776.44 1549.52 Q1774.26 1549.52 1771.99 1549.15 Q1769.75 1548.78 1767.34 1548.04 L1767.34 1543.34 Q1769.42 1544.47 1771.65 1545.03 Q1773.87 1545.58 1776.35 1545.58 Q1780.35 1545.58 1782.69 1543.48 Q1785.03 1541.37 1785.03 1537.76 Q1785.03 1534.15 1782.69 1532.04 Q1780.35 1529.94 1776.35 1529.94 Q1774.47 1529.94 1772.6 1530.35 Q1770.74 1530.77 1768.8 1531.65 L1768.8 1514.29 Z\" fill=\"#000000\" fill-rule=\"nonzero\" fill-opacity=\"1\" /><path clip-path=\"url(#clip520)\" d=\"M2265.92 1544.91 L2273.56 1544.91 L2273.56 1518.55 L2265.25 1520.21 L2265.25 1515.95 L2273.51 1514.29 L2278.19 1514.29 L2278.19 1544.91 L2285.83 1544.91 L2285.83 1548.85 L2265.92 1548.85 L2265.92 1544.91 Z\" fill=\"#000000\" fill-rule=\"nonzero\" fill-opacity=\"1\" /><path clip-path=\"url(#clip520)\" d=\"M2305.27 1517.37 Q2301.66 1517.37 2299.83 1520.93 Q2298.02 1524.47 2298.02 1531.6 Q2298.02 1538.71 2299.83 1542.27 Q2301.66 1545.82 2305.27 1545.82 Q2308.9 1545.82 2310.71 1542.27 Q2312.54 1538.71 2312.54 1531.6 Q2312.54 1524.47 2310.71 1520.93 Q2308.9 1517.37 2305.27 1517.37 M2305.27 1513.66 Q2311.08 1513.66 2314.14 1518.27 Q2317.21 1522.85 2317.21 1531.6 Q2317.21 1540.33 2314.14 1544.94 Q2311.08 1549.52 2305.27 1549.52 Q2299.46 1549.52 2296.38 1544.94 Q2293.33 1540.33 2293.33 1531.6 Q2293.33 1522.85 2296.38 1518.27 Q2299.46 1513.66 2305.27 1513.66 Z\" fill=\"#000000\" fill-rule=\"nonzero\" fill-opacity=\"1\" /><polyline clip-path=\"url(#clip522)\" style=\"stroke:#000000; stroke-linecap:round; stroke-linejoin:round; stroke-width:2; stroke-opacity:0.1; fill:none\" points=\"178.867,1255.63 2352.76,1255.63 \"/>\n",
       "<polyline clip-path=\"url(#clip522)\" style=\"stroke:#000000; stroke-linecap:round; stroke-linejoin:round; stroke-width:2; stroke-opacity:0.1; fill:none\" points=\"178.867,984.084 2352.76,984.084 \"/>\n",
       "<polyline clip-path=\"url(#clip522)\" style=\"stroke:#000000; stroke-linecap:round; stroke-linejoin:round; stroke-width:2; stroke-opacity:0.1; fill:none\" points=\"178.867,712.536 2352.76,712.536 \"/>\n",
       "<polyline clip-path=\"url(#clip522)\" style=\"stroke:#000000; stroke-linecap:round; stroke-linejoin:round; stroke-width:2; stroke-opacity:0.1; fill:none\" points=\"178.867,440.989 2352.76,440.989 \"/>\n",
       "<polyline clip-path=\"url(#clip522)\" style=\"stroke:#000000; stroke-linecap:round; stroke-linejoin:round; stroke-width:2; stroke-opacity:0.1; fill:none\" points=\"178.867,169.441 2352.76,169.441 \"/>\n",
       "<polyline clip-path=\"url(#clip520)\" style=\"stroke:#000000; stroke-linecap:round; stroke-linejoin:round; stroke-width:4; stroke-opacity:1; fill:none\" points=\"178.867,1486.45 178.867,47.2441 \"/>\n",
       "<polyline clip-path=\"url(#clip520)\" style=\"stroke:#000000; stroke-linecap:round; stroke-linejoin:round; stroke-width:4; stroke-opacity:1; fill:none\" points=\"178.867,1255.63 197.764,1255.63 \"/>\n",
       "<polyline clip-path=\"url(#clip520)\" style=\"stroke:#000000; stroke-linecap:round; stroke-linejoin:round; stroke-width:4; stroke-opacity:1; fill:none\" points=\"178.867,984.084 197.764,984.084 \"/>\n",
       "<polyline clip-path=\"url(#clip520)\" style=\"stroke:#000000; stroke-linecap:round; stroke-linejoin:round; stroke-width:4; stroke-opacity:1; fill:none\" points=\"178.867,712.536 197.764,712.536 \"/>\n",
       "<polyline clip-path=\"url(#clip520)\" style=\"stroke:#000000; stroke-linecap:round; stroke-linejoin:round; stroke-width:4; stroke-opacity:1; fill:none\" points=\"178.867,440.989 197.764,440.989 \"/>\n",
       "<polyline clip-path=\"url(#clip520)\" style=\"stroke:#000000; stroke-linecap:round; stroke-linejoin:round; stroke-width:4; stroke-opacity:1; fill:none\" points=\"178.867,169.441 197.764,169.441 \"/>\n",
       "<path clip-path=\"url(#clip520)\" d=\"M50.9921 1256.08 L80.6679 1256.08 L80.6679 1260.02 L50.9921 1260.02 L50.9921 1256.08 Z\" fill=\"#000000\" fill-rule=\"nonzero\" fill-opacity=\"1\" /><path clip-path=\"url(#clip520)\" d=\"M91.5706 1268.98 L99.2095 1268.98 L99.2095 1242.61 L90.8993 1244.28 L90.8993 1240.02 L99.1632 1238.35 L103.839 1238.35 L103.839 1268.98 L111.478 1268.98 L111.478 1272.91 L91.5706 1272.91 L91.5706 1268.98 Z\" fill=\"#000000\" fill-rule=\"nonzero\" fill-opacity=\"1\" /><path clip-path=\"url(#clip520)\" d=\"M130.922 1241.43 Q127.311 1241.43 125.482 1245 Q123.677 1248.54 123.677 1255.67 Q123.677 1262.77 125.482 1266.34 Q127.311 1269.88 130.922 1269.88 Q134.556 1269.88 136.362 1266.34 Q138.191 1262.77 138.191 1255.67 Q138.191 1248.54 136.362 1245 Q134.556 1241.43 130.922 1241.43 M130.922 1237.73 Q136.732 1237.73 139.788 1242.33 Q142.867 1246.92 142.867 1255.67 Q142.867 1264.39 139.788 1269 Q136.732 1273.58 130.922 1273.58 Q125.112 1273.58 122.033 1269 Q118.978 1264.39 118.978 1255.67 Q118.978 1246.92 122.033 1242.33 Q125.112 1237.73 130.922 1237.73 Z\" fill=\"#000000\" fill-rule=\"nonzero\" fill-opacity=\"1\" /><path clip-path=\"url(#clip520)\" d=\"M130.922 969.883 Q127.311 969.883 125.482 973.448 Q123.677 976.989 123.677 984.119 Q123.677 991.225 125.482 994.79 Q127.311 998.332 130.922 998.332 Q134.556 998.332 136.362 994.79 Q138.191 991.225 138.191 984.119 Q138.191 976.989 136.362 973.448 Q134.556 969.883 130.922 969.883 M130.922 966.179 Q136.732 966.179 139.788 970.786 Q142.867 975.369 142.867 984.119 Q142.867 992.846 139.788 997.452 Q136.732 1002.04 130.922 1002.04 Q125.112 1002.04 122.033 997.452 Q118.978 992.846 118.978 984.119 Q118.978 975.369 122.033 970.786 Q125.112 966.179 130.922 966.179 Z\" fill=\"#000000\" fill-rule=\"nonzero\" fill-opacity=\"1\" /><path clip-path=\"url(#clip520)\" d=\"M91.5706 725.881 L99.2095 725.881 L99.2095 699.516 L90.8993 701.182 L90.8993 696.923 L99.1632 695.256 L103.839 695.256 L103.839 725.881 L111.478 725.881 L111.478 729.816 L91.5706 729.816 L91.5706 725.881 Z\" fill=\"#000000\" fill-rule=\"nonzero\" fill-opacity=\"1\" /><path clip-path=\"url(#clip520)\" d=\"M130.922 698.335 Q127.311 698.335 125.482 701.9 Q123.677 705.442 123.677 712.571 Q123.677 719.678 125.482 723.242 Q127.311 726.784 130.922 726.784 Q134.556 726.784 136.362 723.242 Q138.191 719.678 138.191 712.571 Q138.191 705.442 136.362 701.9 Q134.556 698.335 130.922 698.335 M130.922 694.631 Q136.732 694.631 139.788 699.238 Q142.867 703.821 142.867 712.571 Q142.867 721.298 139.788 725.904 Q136.732 730.488 130.922 730.488 Q125.112 730.488 122.033 725.904 Q118.978 721.298 118.978 712.571 Q118.978 703.821 122.033 699.238 Q125.112 694.631 130.922 694.631 Z\" fill=\"#000000\" fill-rule=\"nonzero\" fill-opacity=\"1\" /><path clip-path=\"url(#clip520)\" d=\"M94.7882 454.333 L111.108 454.333 L111.108 458.269 L89.1632 458.269 L89.1632 454.333 Q91.8252 451.579 96.4085 446.949 Q101.015 442.296 102.196 440.954 Q104.441 438.431 105.321 436.695 Q106.223 434.935 106.223 433.246 Q106.223 430.491 104.279 428.755 Q102.358 427.019 99.2558 427.019 Q97.0567 427.019 94.603 427.783 Q92.1725 428.546 89.3947 430.097 L89.3947 425.375 Q92.2188 424.241 94.6724 423.662 Q97.1261 423.084 99.1632 423.084 Q104.534 423.084 107.728 425.769 Q110.922 428.454 110.922 432.945 Q110.922 435.074 110.112 436.995 Q109.325 438.894 107.219 441.486 Q106.64 442.157 103.538 445.375 Q100.436 448.57 94.7882 454.333 Z\" fill=\"#000000\" fill-rule=\"nonzero\" fill-opacity=\"1\" /><path clip-path=\"url(#clip520)\" d=\"M130.922 426.787 Q127.311 426.787 125.482 430.352 Q123.677 433.894 123.677 441.023 Q123.677 448.13 125.482 451.694 Q127.311 455.236 130.922 455.236 Q134.556 455.236 136.362 451.694 Q138.191 448.13 138.191 441.023 Q138.191 433.894 136.362 430.352 Q134.556 426.787 130.922 426.787 M130.922 423.084 Q136.732 423.084 139.788 427.69 Q142.867 432.273 142.867 441.023 Q142.867 449.75 139.788 454.357 Q136.732 458.94 130.922 458.94 Q125.112 458.94 122.033 454.357 Q118.978 449.75 118.978 441.023 Q118.978 432.273 122.033 427.69 Q125.112 423.084 130.922 423.084 Z\" fill=\"#000000\" fill-rule=\"nonzero\" fill-opacity=\"1\" /><path clip-path=\"url(#clip520)\" d=\"M104.927 168.086 Q108.283 168.804 110.158 171.073 Q112.057 173.341 112.057 176.674 Q112.057 181.79 108.538 184.591 Q105.02 187.392 98.5382 187.392 Q96.3623 187.392 94.0475 186.952 Q91.7558 186.535 89.3021 185.679 L89.3021 181.165 Q91.2465 182.299 93.5613 182.878 Q95.8761 183.457 98.3993 183.457 Q102.797 183.457 105.089 181.721 Q107.404 179.985 107.404 176.674 Q107.404 173.619 105.251 171.906 Q103.121 170.17 99.3021 170.17 L95.2743 170.17 L95.2743 166.327 L99.4872 166.327 Q102.936 166.327 104.765 164.961 Q106.594 163.573 106.594 160.98 Q106.594 158.318 104.696 156.906 Q102.821 155.471 99.3021 155.471 Q97.3808 155.471 95.1817 155.887 Q92.9826 156.304 90.3438 157.184 L90.3438 153.017 Q93.0058 152.276 95.3206 151.906 Q97.6585 151.536 99.7187 151.536 Q105.043 151.536 108.145 153.966 Q111.246 156.374 111.246 160.494 Q111.246 163.364 109.603 165.355 Q107.959 167.323 104.927 168.086 Z\" fill=\"#000000\" fill-rule=\"nonzero\" fill-opacity=\"1\" /><path clip-path=\"url(#clip520)\" d=\"M130.922 155.239 Q127.311 155.239 125.482 158.804 Q123.677 162.346 123.677 169.475 Q123.677 176.582 125.482 180.147 Q127.311 183.688 130.922 183.688 Q134.556 183.688 136.362 180.147 Q138.191 176.582 138.191 169.475 Q138.191 162.346 136.362 158.804 Q134.556 155.239 130.922 155.239 M130.922 151.536 Q136.732 151.536 139.788 156.142 Q142.867 160.725 142.867 169.475 Q142.867 178.202 139.788 182.809 Q136.732 187.392 130.922 187.392 Q125.112 187.392 122.033 182.809 Q118.978 178.202 118.978 169.475 Q118.978 160.725 122.033 156.142 Q125.112 151.536 130.922 151.536 Z\" fill=\"#000000\" fill-rule=\"nonzero\" fill-opacity=\"1\" /><polyline clip-path=\"url(#clip522)\" style=\"stroke:#009af9; stroke-linecap:round; stroke-linejoin:round; stroke-width:4; stroke-opacity:1; fill:none\" points=\"240.392,1255.63 253.744,1252.1 377.203,1219.4 451.397,1199.75 514.127,1183.14 582.269,1165.1 645.091,1148.46 712.442,1130.63 790.474,1109.96 859.821,1091.6 920.631,1075.49 986.931,1057.94 1053.62,1040.27 1127.36,1020.75 1197.52,1002.17 1270.47,982.85 1331.88,966.588 1406.86,946.734 1475.54,928.546 1538.97,911.748 1603.22,894.733 1675.23,875.663 1740.48,858.383 1815.2,838.598 1884.37,820.28 1952.57,802.22 2018.78,784.685 2086.66,766.709 2161.03,747.015 2269.07,718.406 2291.23,712.536 \"/>\n",
       "<polyline clip-path=\"url(#clip522)\" style=\"stroke:#e26f46; stroke-linecap:round; stroke-linejoin:round; stroke-width:4; stroke-opacity:1; fill:none\" points=\"753.102,1445.72 759.778,1436.88 821.507,1355.14 858.604,1306.02 889.969,1264.49 924.04,1219.38 955.451,1177.79 989.126,1133.2 1028.14,1081.54 1062.82,1035.63 1093.22,995.37 1126.37,951.476 1159.72,907.322 1196.59,858.505 1231.67,812.056 1268.14,763.759 1298.85,723.104 1336.33,673.469 1370.67,628 1402.39,586.006 1434.52,543.467 1470.52,495.793 1503.15,452.593 1540.5,403.131 1575.09,357.334 1609.19,312.184 1642.3,268.347 1676.24,223.408 1713.42,174.172 1767.44,102.649 1778.52,87.9763 \"/>\n",
       "<polyline clip-path=\"url(#clip522)\" style=\"stroke:#3da44d; stroke-linecap:round; stroke-linejoin:round; stroke-width:4; stroke-opacity:1; fill:none\" points=\"240.392,1255.63 253.744,1252.1 377.203,1219.4 451.397,1199.75 514.127,1183.14 582.269,1165.1 645.091,1148.46 712.442,1130.63 790.474,1109.96 859.821,1091.6 920.631,1075.49 986.931,1057.94 1053.62,1040.27 1127.36,1020.75 1197.52,1002.17 1270.47,982.85 1331.88,966.588 1406.86,946.734 1475.54,928.546 1538.97,911.748 1603.22,894.733 1675.23,875.663 1740.48,858.383 1815.2,838.598 1884.37,820.28 1952.57,802.22 2018.78,784.685 2086.66,766.709 2161.03,747.015 2269.07,718.406 2291.23,712.536 \"/>\n",
       "<path clip-path=\"url(#clip520)\" d=\"M2009.9 302.578 L2280.29 302.578 L2280.29 95.2176 L2009.9 95.2176  Z\" fill=\"#ffffff\" fill-rule=\"evenodd\" fill-opacity=\"1\"/>\n",
       "<polyline clip-path=\"url(#clip520)\" style=\"stroke:#000000; stroke-linecap:round; stroke-linejoin:round; stroke-width:4; stroke-opacity:1; fill:none\" points=\"2009.9,302.578 2280.29,302.578 2280.29,95.2176 2009.9,95.2176 2009.9,302.578 \"/>\n",
       "<polyline clip-path=\"url(#clip520)\" style=\"stroke:#009af9; stroke-linecap:round; stroke-linejoin:round; stroke-width:4; stroke-opacity:1; fill:none\" points=\"2034.05,147.058 2178.98,147.058 \"/>\n",
       "<path clip-path=\"url(#clip520)\" d=\"M2216.97 166.745 Q2215.17 171.375 2213.45 172.787 Q2211.74 174.199 2208.87 174.199 L2205.47 174.199 L2205.47 170.634 L2207.97 170.634 Q2209.73 170.634 2210.7 169.8 Q2211.67 168.967 2212.85 165.865 L2213.62 163.921 L2203.13 138.412 L2207.64 138.412 L2215.75 158.689 L2223.85 138.412 L2228.36 138.412 L2216.97 166.745 Z\" fill=\"#000000\" fill-rule=\"nonzero\" fill-opacity=\"1\" /><path clip-path=\"url(#clip520)\" d=\"M2235.65 160.402 L2243.29 160.402 L2243.29 134.037 L2234.98 135.703 L2234.98 131.444 L2243.25 129.778 L2247.92 129.778 L2247.92 160.402 L2255.56 160.402 L2255.56 164.338 L2235.65 164.338 L2235.65 160.402 Z\" fill=\"#000000\" fill-rule=\"nonzero\" fill-opacity=\"1\" /><polyline clip-path=\"url(#clip520)\" style=\"stroke:#e26f46; stroke-linecap:round; stroke-linejoin:round; stroke-width:4; stroke-opacity:1; fill:none\" points=\"2034.05,198.898 2178.98,198.898 \"/>\n",
       "<path clip-path=\"url(#clip520)\" d=\"M2216.97 218.585 Q2215.17 223.215 2213.45 224.627 Q2211.74 226.039 2208.87 226.039 L2205.47 226.039 L2205.47 222.474 L2207.97 222.474 Q2209.73 222.474 2210.7 221.64 Q2211.67 220.807 2212.85 217.705 L2213.62 215.761 L2203.13 190.252 L2207.64 190.252 L2215.75 210.529 L2223.85 190.252 L2228.36 190.252 L2216.97 218.585 Z\" fill=\"#000000\" fill-rule=\"nonzero\" fill-opacity=\"1\" /><path clip-path=\"url(#clip520)\" d=\"M2238.87 212.242 L2255.19 212.242 L2255.19 216.178 L2233.25 216.178 L2233.25 212.242 Q2235.91 209.488 2240.49 204.858 Q2245.1 200.205 2246.28 198.863 Q2248.52 196.34 2249.4 194.604 Q2250.31 192.844 2250.31 191.155 Q2250.31 188.4 2248.36 186.664 Q2246.44 184.928 2243.34 184.928 Q2241.14 184.928 2238.68 185.692 Q2236.25 186.455 2233.48 188.006 L2233.48 183.284 Q2236.3 182.15 2238.75 181.571 Q2241.21 180.993 2243.25 180.993 Q2248.62 180.993 2251.81 183.678 Q2255 186.363 2255 190.854 Q2255 192.983 2254.19 194.905 Q2253.41 196.803 2251.3 199.395 Q2250.72 200.067 2247.62 203.284 Q2244.52 206.479 2238.87 212.242 Z\" fill=\"#000000\" fill-rule=\"nonzero\" fill-opacity=\"1\" /><polyline clip-path=\"url(#clip520)\" style=\"stroke:#3da44d; stroke-linecap:round; stroke-linejoin:round; stroke-width:4; stroke-opacity:1; fill:none\" points=\"2034.05,250.738 2178.98,250.738 \"/>\n",
       "<path clip-path=\"url(#clip520)\" d=\"M2216.97 270.425 Q2215.17 275.055 2213.45 276.467 Q2211.74 277.879 2208.87 277.879 L2205.47 277.879 L2205.47 274.314 L2207.97 274.314 Q2209.73 274.314 2210.7 273.48 Q2211.67 272.647 2212.85 269.545 L2213.62 267.601 L2203.13 242.092 L2207.64 242.092 L2215.75 262.369 L2223.85 242.092 L2228.36 242.092 L2216.97 270.425 Z\" fill=\"#000000\" fill-rule=\"nonzero\" fill-opacity=\"1\" /><path clip-path=\"url(#clip520)\" d=\"M2249.01 249.383 Q2252.37 250.101 2254.24 252.369 Q2256.14 254.638 2256.14 257.971 Q2256.14 263.087 2252.62 265.888 Q2249.1 268.689 2242.62 268.689 Q2240.44 268.689 2238.13 268.249 Q2235.84 267.832 2233.38 266.976 L2233.38 262.462 Q2235.33 263.596 2237.64 264.175 Q2239.96 264.754 2242.48 264.754 Q2246.88 264.754 2249.17 263.018 Q2251.49 261.281 2251.49 257.971 Q2251.49 254.916 2249.33 253.203 Q2247.2 251.467 2243.38 251.467 L2239.36 251.467 L2239.36 247.624 L2243.57 247.624 Q2247.02 247.624 2248.85 246.258 Q2250.68 244.87 2250.68 242.277 Q2250.68 239.615 2248.78 238.203 Q2246.9 236.768 2243.38 236.768 Q2241.46 236.768 2239.26 237.184 Q2237.06 237.601 2234.43 238.481 L2234.43 234.314 Q2237.09 233.573 2239.4 233.203 Q2241.74 232.833 2243.8 232.833 Q2249.12 232.833 2252.23 235.263 Q2255.33 237.67 2255.33 241.791 Q2255.33 244.661 2253.68 246.652 Q2252.04 248.62 2249.01 249.383 Z\" fill=\"#000000\" fill-rule=\"nonzero\" fill-opacity=\"1\" /></svg>\n"
      ],
      "text/html": [
       "<?xml version=\"1.0\" encoding=\"utf-8\"?>\n",
       "<svg xmlns=\"http://www.w3.org/2000/svg\" xmlns:xlink=\"http://www.w3.org/1999/xlink\" width=\"600\" height=\"400\" viewBox=\"0 0 2400 1600\">\n",
       "<defs>\n",
       "  <clipPath id=\"clip570\">\n",
       "    <rect x=\"0\" y=\"0\" width=\"2400\" height=\"1600\"/>\n",
       "  </clipPath>\n",
       "</defs>\n",
       "<path clip-path=\"url(#clip570)\" d=\"M0 1600 L2400 1600 L2400 0 L0 0  Z\" fill=\"#ffffff\" fill-rule=\"evenodd\" fill-opacity=\"1\"/>\n",
       "<defs>\n",
       "  <clipPath id=\"clip571\">\n",
       "    <rect x=\"480\" y=\"0\" width=\"1681\" height=\"1600\"/>\n",
       "  </clipPath>\n",
       "</defs>\n",
       "<path clip-path=\"url(#clip570)\" d=\"M178.867 1486.45 L2352.76 1486.45 L2352.76 47.2441 L178.867 47.2441  Z\" fill=\"#ffffff\" fill-rule=\"evenodd\" fill-opacity=\"1\"/>\n",
       "<defs>\n",
       "  <clipPath id=\"clip572\">\n",
       "    <rect x=\"178\" y=\"47\" width=\"2175\" height=\"1440\"/>\n",
       "  </clipPath>\n",
       "</defs>\n",
       "<polyline clip-path=\"url(#clip572)\" style=\"stroke:#000000; stroke-linecap:round; stroke-linejoin:round; stroke-width:2; stroke-opacity:0.1; fill:none\" points=\"240.392,1486.45 240.392,47.2441 \"/>\n",
       "<polyline clip-path=\"url(#clip572)\" style=\"stroke:#000000; stroke-linecap:round; stroke-linejoin:round; stroke-width:2; stroke-opacity:0.1; fill:none\" points=\"753.102,1486.45 753.102,47.2441 \"/>\n",
       "<polyline clip-path=\"url(#clip572)\" style=\"stroke:#000000; stroke-linecap:round; stroke-linejoin:round; stroke-width:2; stroke-opacity:0.1; fill:none\" points=\"1265.81,1486.45 1265.81,47.2441 \"/>\n",
       "<polyline clip-path=\"url(#clip572)\" style=\"stroke:#000000; stroke-linecap:round; stroke-linejoin:round; stroke-width:2; stroke-opacity:0.1; fill:none\" points=\"1778.52,1486.45 1778.52,47.2441 \"/>\n",
       "<polyline clip-path=\"url(#clip572)\" style=\"stroke:#000000; stroke-linecap:round; stroke-linejoin:round; stroke-width:2; stroke-opacity:0.1; fill:none\" points=\"2291.23,1486.45 2291.23,47.2441 \"/>\n",
       "<polyline clip-path=\"url(#clip570)\" style=\"stroke:#000000; stroke-linecap:round; stroke-linejoin:round; stroke-width:4; stroke-opacity:1; fill:none\" points=\"178.867,1486.45 2352.76,1486.45 \"/>\n",
       "<polyline clip-path=\"url(#clip570)\" style=\"stroke:#000000; stroke-linecap:round; stroke-linejoin:round; stroke-width:4; stroke-opacity:1; fill:none\" points=\"240.392,1486.45 240.392,1467.55 \"/>\n",
       "<polyline clip-path=\"url(#clip570)\" style=\"stroke:#000000; stroke-linecap:round; stroke-linejoin:round; stroke-width:4; stroke-opacity:1; fill:none\" points=\"753.102,1486.45 753.102,1467.55 \"/>\n",
       "<polyline clip-path=\"url(#clip570)\" style=\"stroke:#000000; stroke-linecap:round; stroke-linejoin:round; stroke-width:4; stroke-opacity:1; fill:none\" points=\"1265.81,1486.45 1265.81,1467.55 \"/>\n",
       "<polyline clip-path=\"url(#clip570)\" style=\"stroke:#000000; stroke-linecap:round; stroke-linejoin:round; stroke-width:4; stroke-opacity:1; fill:none\" points=\"1778.52,1486.45 1778.52,1467.55 \"/>\n",
       "<polyline clip-path=\"url(#clip570)\" style=\"stroke:#000000; stroke-linecap:round; stroke-linejoin:round; stroke-width:4; stroke-opacity:1; fill:none\" points=\"2291.23,1486.45 2291.23,1467.55 \"/>\n",
       "<path clip-path=\"url(#clip570)\" d=\"M194.455 1532.02 L224.13 1532.02 L224.13 1535.95 L194.455 1535.95 L194.455 1532.02 Z\" fill=\"#000000\" fill-rule=\"nonzero\" fill-opacity=\"1\" /><path clip-path=\"url(#clip570)\" d=\"M235.033 1544.91 L242.672 1544.91 L242.672 1518.55 L234.362 1520.21 L234.362 1515.95 L242.626 1514.29 L247.301 1514.29 L247.301 1544.91 L254.94 1544.91 L254.94 1548.85 L235.033 1548.85 L235.033 1544.91 Z\" fill=\"#000000\" fill-rule=\"nonzero\" fill-opacity=\"1\" /><path clip-path=\"url(#clip570)\" d=\"M274.385 1517.37 Q270.774 1517.37 268.945 1520.93 Q267.139 1524.47 267.139 1531.6 Q267.139 1538.71 268.945 1542.27 Q270.774 1545.82 274.385 1545.82 Q278.019 1545.82 279.824 1542.27 Q281.653 1538.71 281.653 1531.6 Q281.653 1524.47 279.824 1520.93 Q278.019 1517.37 274.385 1517.37 M274.385 1513.66 Q280.195 1513.66 283.25 1518.27 Q286.329 1522.85 286.329 1531.6 Q286.329 1540.33 283.25 1544.94 Q280.195 1549.52 274.385 1549.52 Q268.575 1549.52 265.496 1544.94 Q262.44 1540.33 262.44 1531.6 Q262.44 1522.85 265.496 1518.27 Q268.575 1513.66 274.385 1513.66 Z\" fill=\"#000000\" fill-rule=\"nonzero\" fill-opacity=\"1\" /><path clip-path=\"url(#clip570)\" d=\"M722.743 1532.02 L752.419 1532.02 L752.419 1535.95 L722.743 1535.95 L722.743 1532.02 Z\" fill=\"#000000\" fill-rule=\"nonzero\" fill-opacity=\"1\" /><path clip-path=\"url(#clip570)\" d=\"M762.558 1514.29 L780.914 1514.29 L780.914 1518.22 L766.84 1518.22 L766.84 1526.7 Q767.858 1526.35 768.877 1526.19 Q769.895 1526 770.914 1526 Q776.701 1526 780.081 1529.17 Q783.46 1532.34 783.46 1537.76 Q783.46 1543.34 779.988 1546.44 Q776.516 1549.52 770.196 1549.52 Q768.02 1549.52 765.752 1549.15 Q763.507 1548.78 761.099 1548.04 L761.099 1543.34 Q763.183 1544.47 765.405 1545.03 Q767.627 1545.58 770.104 1545.58 Q774.108 1545.58 776.446 1543.48 Q778.784 1541.37 778.784 1537.76 Q778.784 1534.15 776.446 1532.04 Q774.108 1529.94 770.104 1529.94 Q768.229 1529.94 766.354 1530.35 Q764.502 1530.77 762.558 1531.65 L762.558 1514.29 Z\" fill=\"#000000\" fill-rule=\"nonzero\" fill-opacity=\"1\" /><path clip-path=\"url(#clip570)\" d=\"M1265.81 1517.37 Q1262.2 1517.37 1260.37 1520.93 Q1258.57 1524.47 1258.57 1531.6 Q1258.57 1538.71 1260.37 1542.27 Q1262.2 1545.82 1265.81 1545.82 Q1269.45 1545.82 1271.25 1542.27 Q1273.08 1538.71 1273.08 1531.6 Q1273.08 1524.47 1271.25 1520.93 Q1269.45 1517.37 1265.81 1517.37 M1265.81 1513.66 Q1271.62 1513.66 1274.68 1518.27 Q1277.76 1522.85 1277.76 1531.6 Q1277.76 1540.33 1274.68 1544.94 Q1271.62 1549.52 1265.81 1549.52 Q1260 1549.52 1256.92 1544.94 Q1253.87 1540.33 1253.87 1531.6 Q1253.87 1522.85 1256.92 1518.27 Q1260 1513.66 1265.81 1513.66 Z\" fill=\"#000000\" fill-rule=\"nonzero\" fill-opacity=\"1\" /><path clip-path=\"url(#clip570)\" d=\"M1768.8 1514.29 L1787.16 1514.29 L1787.16 1518.22 L1773.08 1518.22 L1773.08 1526.7 Q1774.1 1526.35 1775.12 1526.19 Q1776.14 1526 1777.16 1526 Q1782.94 1526 1786.32 1529.17 Q1789.7 1532.34 1789.7 1537.76 Q1789.7 1543.34 1786.23 1546.44 Q1782.76 1549.52 1776.44 1549.52 Q1774.26 1549.52 1771.99 1549.15 Q1769.75 1548.78 1767.34 1548.04 L1767.34 1543.34 Q1769.42 1544.47 1771.65 1545.03 Q1773.87 1545.58 1776.35 1545.58 Q1780.35 1545.58 1782.69 1543.48 Q1785.03 1541.37 1785.03 1537.76 Q1785.03 1534.15 1782.69 1532.04 Q1780.35 1529.94 1776.35 1529.94 Q1774.47 1529.94 1772.6 1530.35 Q1770.74 1530.77 1768.8 1531.65 L1768.8 1514.29 Z\" fill=\"#000000\" fill-rule=\"nonzero\" fill-opacity=\"1\" /><path clip-path=\"url(#clip570)\" d=\"M2265.92 1544.91 L2273.56 1544.91 L2273.56 1518.55 L2265.25 1520.21 L2265.25 1515.95 L2273.51 1514.29 L2278.19 1514.29 L2278.19 1544.91 L2285.83 1544.91 L2285.83 1548.85 L2265.92 1548.85 L2265.92 1544.91 Z\" fill=\"#000000\" fill-rule=\"nonzero\" fill-opacity=\"1\" /><path clip-path=\"url(#clip570)\" d=\"M2305.27 1517.37 Q2301.66 1517.37 2299.83 1520.93 Q2298.02 1524.47 2298.02 1531.6 Q2298.02 1538.71 2299.83 1542.27 Q2301.66 1545.82 2305.27 1545.82 Q2308.9 1545.82 2310.71 1542.27 Q2312.54 1538.71 2312.54 1531.6 Q2312.54 1524.47 2310.71 1520.93 Q2308.9 1517.37 2305.27 1517.37 M2305.27 1513.66 Q2311.08 1513.66 2314.14 1518.27 Q2317.21 1522.85 2317.21 1531.6 Q2317.21 1540.33 2314.14 1544.94 Q2311.08 1549.52 2305.27 1549.52 Q2299.46 1549.52 2296.38 1544.94 Q2293.33 1540.33 2293.33 1531.6 Q2293.33 1522.85 2296.38 1518.27 Q2299.46 1513.66 2305.27 1513.66 Z\" fill=\"#000000\" fill-rule=\"nonzero\" fill-opacity=\"1\" /><polyline clip-path=\"url(#clip572)\" style=\"stroke:#000000; stroke-linecap:round; stroke-linejoin:round; stroke-width:2; stroke-opacity:0.1; fill:none\" points=\"178.867,1255.63 2352.76,1255.63 \"/>\n",
       "<polyline clip-path=\"url(#clip572)\" style=\"stroke:#000000; stroke-linecap:round; stroke-linejoin:round; stroke-width:2; stroke-opacity:0.1; fill:none\" points=\"178.867,984.084 2352.76,984.084 \"/>\n",
       "<polyline clip-path=\"url(#clip572)\" style=\"stroke:#000000; stroke-linecap:round; stroke-linejoin:round; stroke-width:2; stroke-opacity:0.1; fill:none\" points=\"178.867,712.536 2352.76,712.536 \"/>\n",
       "<polyline clip-path=\"url(#clip572)\" style=\"stroke:#000000; stroke-linecap:round; stroke-linejoin:round; stroke-width:2; stroke-opacity:0.1; fill:none\" points=\"178.867,440.989 2352.76,440.989 \"/>\n",
       "<polyline clip-path=\"url(#clip572)\" style=\"stroke:#000000; stroke-linecap:round; stroke-linejoin:round; stroke-width:2; stroke-opacity:0.1; fill:none\" points=\"178.867,169.441 2352.76,169.441 \"/>\n",
       "<polyline clip-path=\"url(#clip570)\" style=\"stroke:#000000; stroke-linecap:round; stroke-linejoin:round; stroke-width:4; stroke-opacity:1; fill:none\" points=\"178.867,1486.45 178.867,47.2441 \"/>\n",
       "<polyline clip-path=\"url(#clip570)\" style=\"stroke:#000000; stroke-linecap:round; stroke-linejoin:round; stroke-width:4; stroke-opacity:1; fill:none\" points=\"178.867,1255.63 197.764,1255.63 \"/>\n",
       "<polyline clip-path=\"url(#clip570)\" style=\"stroke:#000000; stroke-linecap:round; stroke-linejoin:round; stroke-width:4; stroke-opacity:1; fill:none\" points=\"178.867,984.084 197.764,984.084 \"/>\n",
       "<polyline clip-path=\"url(#clip570)\" style=\"stroke:#000000; stroke-linecap:round; stroke-linejoin:round; stroke-width:4; stroke-opacity:1; fill:none\" points=\"178.867,712.536 197.764,712.536 \"/>\n",
       "<polyline clip-path=\"url(#clip570)\" style=\"stroke:#000000; stroke-linecap:round; stroke-linejoin:round; stroke-width:4; stroke-opacity:1; fill:none\" points=\"178.867,440.989 197.764,440.989 \"/>\n",
       "<polyline clip-path=\"url(#clip570)\" style=\"stroke:#000000; stroke-linecap:round; stroke-linejoin:round; stroke-width:4; stroke-opacity:1; fill:none\" points=\"178.867,169.441 197.764,169.441 \"/>\n",
       "<path clip-path=\"url(#clip570)\" d=\"M50.9921 1256.08 L80.6679 1256.08 L80.6679 1260.02 L50.9921 1260.02 L50.9921 1256.08 Z\" fill=\"#000000\" fill-rule=\"nonzero\" fill-opacity=\"1\" /><path clip-path=\"url(#clip570)\" d=\"M91.5706 1268.98 L99.2095 1268.98 L99.2095 1242.61 L90.8993 1244.28 L90.8993 1240.02 L99.1632 1238.35 L103.839 1238.35 L103.839 1268.98 L111.478 1268.98 L111.478 1272.91 L91.5706 1272.91 L91.5706 1268.98 Z\" fill=\"#000000\" fill-rule=\"nonzero\" fill-opacity=\"1\" /><path clip-path=\"url(#clip570)\" d=\"M130.922 1241.43 Q127.311 1241.43 125.482 1245 Q123.677 1248.54 123.677 1255.67 Q123.677 1262.77 125.482 1266.34 Q127.311 1269.88 130.922 1269.88 Q134.556 1269.88 136.362 1266.34 Q138.191 1262.77 138.191 1255.67 Q138.191 1248.54 136.362 1245 Q134.556 1241.43 130.922 1241.43 M130.922 1237.73 Q136.732 1237.73 139.788 1242.33 Q142.867 1246.92 142.867 1255.67 Q142.867 1264.39 139.788 1269 Q136.732 1273.58 130.922 1273.58 Q125.112 1273.58 122.033 1269 Q118.978 1264.39 118.978 1255.67 Q118.978 1246.92 122.033 1242.33 Q125.112 1237.73 130.922 1237.73 Z\" fill=\"#000000\" fill-rule=\"nonzero\" fill-opacity=\"1\" /><path clip-path=\"url(#clip570)\" d=\"M130.922 969.883 Q127.311 969.883 125.482 973.448 Q123.677 976.989 123.677 984.119 Q123.677 991.225 125.482 994.79 Q127.311 998.332 130.922 998.332 Q134.556 998.332 136.362 994.79 Q138.191 991.225 138.191 984.119 Q138.191 976.989 136.362 973.448 Q134.556 969.883 130.922 969.883 M130.922 966.179 Q136.732 966.179 139.788 970.786 Q142.867 975.369 142.867 984.119 Q142.867 992.846 139.788 997.452 Q136.732 1002.04 130.922 1002.04 Q125.112 1002.04 122.033 997.452 Q118.978 992.846 118.978 984.119 Q118.978 975.369 122.033 970.786 Q125.112 966.179 130.922 966.179 Z\" fill=\"#000000\" fill-rule=\"nonzero\" fill-opacity=\"1\" /><path clip-path=\"url(#clip570)\" d=\"M91.5706 725.881 L99.2095 725.881 L99.2095 699.516 L90.8993 701.182 L90.8993 696.923 L99.1632 695.256 L103.839 695.256 L103.839 725.881 L111.478 725.881 L111.478 729.816 L91.5706 729.816 L91.5706 725.881 Z\" fill=\"#000000\" fill-rule=\"nonzero\" fill-opacity=\"1\" /><path clip-path=\"url(#clip570)\" d=\"M130.922 698.335 Q127.311 698.335 125.482 701.9 Q123.677 705.442 123.677 712.571 Q123.677 719.678 125.482 723.242 Q127.311 726.784 130.922 726.784 Q134.556 726.784 136.362 723.242 Q138.191 719.678 138.191 712.571 Q138.191 705.442 136.362 701.9 Q134.556 698.335 130.922 698.335 M130.922 694.631 Q136.732 694.631 139.788 699.238 Q142.867 703.821 142.867 712.571 Q142.867 721.298 139.788 725.904 Q136.732 730.488 130.922 730.488 Q125.112 730.488 122.033 725.904 Q118.978 721.298 118.978 712.571 Q118.978 703.821 122.033 699.238 Q125.112 694.631 130.922 694.631 Z\" fill=\"#000000\" fill-rule=\"nonzero\" fill-opacity=\"1\" /><path clip-path=\"url(#clip570)\" d=\"M94.7882 454.333 L111.108 454.333 L111.108 458.269 L89.1632 458.269 L89.1632 454.333 Q91.8252 451.579 96.4085 446.949 Q101.015 442.296 102.196 440.954 Q104.441 438.431 105.321 436.695 Q106.223 434.935 106.223 433.246 Q106.223 430.491 104.279 428.755 Q102.358 427.019 99.2558 427.019 Q97.0567 427.019 94.603 427.783 Q92.1725 428.546 89.3947 430.097 L89.3947 425.375 Q92.2188 424.241 94.6724 423.662 Q97.1261 423.084 99.1632 423.084 Q104.534 423.084 107.728 425.769 Q110.922 428.454 110.922 432.945 Q110.922 435.074 110.112 436.995 Q109.325 438.894 107.219 441.486 Q106.64 442.157 103.538 445.375 Q100.436 448.57 94.7882 454.333 Z\" fill=\"#000000\" fill-rule=\"nonzero\" fill-opacity=\"1\" /><path clip-path=\"url(#clip570)\" d=\"M130.922 426.787 Q127.311 426.787 125.482 430.352 Q123.677 433.894 123.677 441.023 Q123.677 448.13 125.482 451.694 Q127.311 455.236 130.922 455.236 Q134.556 455.236 136.362 451.694 Q138.191 448.13 138.191 441.023 Q138.191 433.894 136.362 430.352 Q134.556 426.787 130.922 426.787 M130.922 423.084 Q136.732 423.084 139.788 427.69 Q142.867 432.273 142.867 441.023 Q142.867 449.75 139.788 454.357 Q136.732 458.94 130.922 458.94 Q125.112 458.94 122.033 454.357 Q118.978 449.75 118.978 441.023 Q118.978 432.273 122.033 427.69 Q125.112 423.084 130.922 423.084 Z\" fill=\"#000000\" fill-rule=\"nonzero\" fill-opacity=\"1\" /><path clip-path=\"url(#clip570)\" d=\"M104.927 168.086 Q108.283 168.804 110.158 171.073 Q112.057 173.341 112.057 176.674 Q112.057 181.79 108.538 184.591 Q105.02 187.392 98.5382 187.392 Q96.3623 187.392 94.0475 186.952 Q91.7558 186.535 89.3021 185.679 L89.3021 181.165 Q91.2465 182.299 93.5613 182.878 Q95.8761 183.457 98.3993 183.457 Q102.797 183.457 105.089 181.721 Q107.404 179.985 107.404 176.674 Q107.404 173.619 105.251 171.906 Q103.121 170.17 99.3021 170.17 L95.2743 170.17 L95.2743 166.327 L99.4872 166.327 Q102.936 166.327 104.765 164.961 Q106.594 163.573 106.594 160.98 Q106.594 158.318 104.696 156.906 Q102.821 155.471 99.3021 155.471 Q97.3808 155.471 95.1817 155.887 Q92.9826 156.304 90.3438 157.184 L90.3438 153.017 Q93.0058 152.276 95.3206 151.906 Q97.6585 151.536 99.7187 151.536 Q105.043 151.536 108.145 153.966 Q111.246 156.374 111.246 160.494 Q111.246 163.364 109.603 165.355 Q107.959 167.323 104.927 168.086 Z\" fill=\"#000000\" fill-rule=\"nonzero\" fill-opacity=\"1\" /><path clip-path=\"url(#clip570)\" d=\"M130.922 155.239 Q127.311 155.239 125.482 158.804 Q123.677 162.346 123.677 169.475 Q123.677 176.582 125.482 180.147 Q127.311 183.688 130.922 183.688 Q134.556 183.688 136.362 180.147 Q138.191 176.582 138.191 169.475 Q138.191 162.346 136.362 158.804 Q134.556 155.239 130.922 155.239 M130.922 151.536 Q136.732 151.536 139.788 156.142 Q142.867 160.725 142.867 169.475 Q142.867 178.202 139.788 182.809 Q136.732 187.392 130.922 187.392 Q125.112 187.392 122.033 182.809 Q118.978 178.202 118.978 169.475 Q118.978 160.725 122.033 156.142 Q125.112 151.536 130.922 151.536 Z\" fill=\"#000000\" fill-rule=\"nonzero\" fill-opacity=\"1\" /><polyline clip-path=\"url(#clip572)\" style=\"stroke:#009af9; stroke-linecap:round; stroke-linejoin:round; stroke-width:4; stroke-opacity:1; fill:none\" points=\"240.392,1255.63 253.744,1252.1 377.203,1219.4 451.397,1199.75 514.127,1183.14 582.269,1165.1 645.091,1148.46 712.442,1130.63 790.474,1109.96 859.821,1091.6 920.631,1075.49 986.931,1057.94 1053.62,1040.27 1127.36,1020.75 1197.52,1002.17 1270.47,982.85 1331.88,966.588 1406.86,946.734 1475.54,928.546 1538.97,911.748 1603.22,894.733 1675.23,875.663 1740.48,858.383 1815.2,838.598 1884.37,820.28 1952.57,802.22 2018.78,784.685 2086.66,766.709 2161.03,747.015 2269.07,718.406 2291.23,712.536 \"/>\n",
       "<polyline clip-path=\"url(#clip572)\" style=\"stroke:#e26f46; stroke-linecap:round; stroke-linejoin:round; stroke-width:4; stroke-opacity:1; fill:none\" points=\"753.102,1445.72 759.778,1436.88 821.507,1355.14 858.604,1306.02 889.969,1264.49 924.04,1219.38 955.451,1177.79 989.126,1133.2 1028.14,1081.54 1062.82,1035.63 1093.22,995.37 1126.37,951.476 1159.72,907.322 1196.59,858.505 1231.67,812.056 1268.14,763.759 1298.85,723.104 1336.33,673.469 1370.67,628 1402.39,586.006 1434.52,543.467 1470.52,495.793 1503.15,452.593 1540.5,403.131 1575.09,357.334 1609.19,312.184 1642.3,268.347 1676.24,223.408 1713.42,174.172 1767.44,102.649 1778.52,87.9763 \"/>\n",
       "<polyline clip-path=\"url(#clip572)\" style=\"stroke:#3da44d; stroke-linecap:round; stroke-linejoin:round; stroke-width:4; stroke-opacity:1; fill:none\" points=\"240.392,1255.63 253.744,1252.1 377.203,1219.4 451.397,1199.75 514.127,1183.14 582.269,1165.1 645.091,1148.46 712.442,1130.63 790.474,1109.96 859.821,1091.6 920.631,1075.49 986.931,1057.94 1053.62,1040.27 1127.36,1020.75 1197.52,1002.17 1270.47,982.85 1331.88,966.588 1406.86,946.734 1475.54,928.546 1538.97,911.748 1603.22,894.733 1675.23,875.663 1740.48,858.383 1815.2,838.598 1884.37,820.28 1952.57,802.22 2018.78,784.685 2086.66,766.709 2161.03,747.015 2269.07,718.406 2291.23,712.536 \"/>\n",
       "<path clip-path=\"url(#clip570)\" d=\"M2009.9 302.578 L2280.29 302.578 L2280.29 95.2176 L2009.9 95.2176  Z\" fill=\"#ffffff\" fill-rule=\"evenodd\" fill-opacity=\"1\"/>\n",
       "<polyline clip-path=\"url(#clip570)\" style=\"stroke:#000000; stroke-linecap:round; stroke-linejoin:round; stroke-width:4; stroke-opacity:1; fill:none\" points=\"2009.9,302.578 2280.29,302.578 2280.29,95.2176 2009.9,95.2176 2009.9,302.578 \"/>\n",
       "<polyline clip-path=\"url(#clip570)\" style=\"stroke:#009af9; stroke-linecap:round; stroke-linejoin:round; stroke-width:4; stroke-opacity:1; fill:none\" points=\"2034.05,147.058 2178.98,147.058 \"/>\n",
       "<path clip-path=\"url(#clip570)\" d=\"M2216.97 166.745 Q2215.17 171.375 2213.45 172.787 Q2211.74 174.199 2208.87 174.199 L2205.47 174.199 L2205.47 170.634 L2207.97 170.634 Q2209.73 170.634 2210.7 169.8 Q2211.67 168.967 2212.85 165.865 L2213.62 163.921 L2203.13 138.412 L2207.64 138.412 L2215.75 158.689 L2223.85 138.412 L2228.36 138.412 L2216.97 166.745 Z\" fill=\"#000000\" fill-rule=\"nonzero\" fill-opacity=\"1\" /><path clip-path=\"url(#clip570)\" d=\"M2235.65 160.402 L2243.29 160.402 L2243.29 134.037 L2234.98 135.703 L2234.98 131.444 L2243.25 129.778 L2247.92 129.778 L2247.92 160.402 L2255.56 160.402 L2255.56 164.338 L2235.65 164.338 L2235.65 160.402 Z\" fill=\"#000000\" fill-rule=\"nonzero\" fill-opacity=\"1\" /><polyline clip-path=\"url(#clip570)\" style=\"stroke:#e26f46; stroke-linecap:round; stroke-linejoin:round; stroke-width:4; stroke-opacity:1; fill:none\" points=\"2034.05,198.898 2178.98,198.898 \"/>\n",
       "<path clip-path=\"url(#clip570)\" d=\"M2216.97 218.585 Q2215.17 223.215 2213.45 224.627 Q2211.74 226.039 2208.87 226.039 L2205.47 226.039 L2205.47 222.474 L2207.97 222.474 Q2209.73 222.474 2210.7 221.64 Q2211.67 220.807 2212.85 217.705 L2213.62 215.761 L2203.13 190.252 L2207.64 190.252 L2215.75 210.529 L2223.85 190.252 L2228.36 190.252 L2216.97 218.585 Z\" fill=\"#000000\" fill-rule=\"nonzero\" fill-opacity=\"1\" /><path clip-path=\"url(#clip570)\" d=\"M2238.87 212.242 L2255.19 212.242 L2255.19 216.178 L2233.25 216.178 L2233.25 212.242 Q2235.91 209.488 2240.49 204.858 Q2245.1 200.205 2246.28 198.863 Q2248.52 196.34 2249.4 194.604 Q2250.31 192.844 2250.31 191.155 Q2250.31 188.4 2248.36 186.664 Q2246.44 184.928 2243.34 184.928 Q2241.14 184.928 2238.68 185.692 Q2236.25 186.455 2233.48 188.006 L2233.48 183.284 Q2236.3 182.15 2238.75 181.571 Q2241.21 180.993 2243.25 180.993 Q2248.62 180.993 2251.81 183.678 Q2255 186.363 2255 190.854 Q2255 192.983 2254.19 194.905 Q2253.41 196.803 2251.3 199.395 Q2250.72 200.067 2247.62 203.284 Q2244.52 206.479 2238.87 212.242 Z\" fill=\"#000000\" fill-rule=\"nonzero\" fill-opacity=\"1\" /><polyline clip-path=\"url(#clip570)\" style=\"stroke:#3da44d; stroke-linecap:round; stroke-linejoin:round; stroke-width:4; stroke-opacity:1; fill:none\" points=\"2034.05,250.738 2178.98,250.738 \"/>\n",
       "<path clip-path=\"url(#clip570)\" d=\"M2216.97 270.425 Q2215.17 275.055 2213.45 276.467 Q2211.74 277.879 2208.87 277.879 L2205.47 277.879 L2205.47 274.314 L2207.97 274.314 Q2209.73 274.314 2210.7 273.48 Q2211.67 272.647 2212.85 269.545 L2213.62 267.601 L2203.13 242.092 L2207.64 242.092 L2215.75 262.369 L2223.85 242.092 L2228.36 242.092 L2216.97 270.425 Z\" fill=\"#000000\" fill-rule=\"nonzero\" fill-opacity=\"1\" /><path clip-path=\"url(#clip570)\" d=\"M2249.01 249.383 Q2252.37 250.101 2254.24 252.369 Q2256.14 254.638 2256.14 257.971 Q2256.14 263.087 2252.62 265.888 Q2249.1 268.689 2242.62 268.689 Q2240.44 268.689 2238.13 268.249 Q2235.84 267.832 2233.38 266.976 L2233.38 262.462 Q2235.33 263.596 2237.64 264.175 Q2239.96 264.754 2242.48 264.754 Q2246.88 264.754 2249.17 263.018 Q2251.49 261.281 2251.49 257.971 Q2251.49 254.916 2249.33 253.203 Q2247.2 251.467 2243.38 251.467 L2239.36 251.467 L2239.36 247.624 L2243.57 247.624 Q2247.02 247.624 2248.85 246.258 Q2250.68 244.87 2250.68 242.277 Q2250.68 239.615 2248.78 238.203 Q2246.9 236.768 2243.38 236.768 Q2241.46 236.768 2239.26 237.184 Q2237.06 237.601 2234.43 238.481 L2234.43 234.314 Q2237.09 233.573 2239.4 233.203 Q2241.74 232.833 2243.8 232.833 Q2249.12 232.833 2252.23 235.263 Q2255.33 237.67 2255.33 241.791 Q2255.33 244.661 2253.68 246.652 Q2252.04 248.62 2249.01 249.383 Z\" fill=\"#000000\" fill-rule=\"nonzero\" fill-opacity=\"1\" /></svg>\n"
      ]
     },
     "execution_count": 21,
     "metadata": {},
     "output_type": "execute_result"
    }
   ],
   "source": [
    "plot!(f,-5,5)\n",
    "plot!(g, -10, 10)"
   ]
  },
  {
   "cell_type": "markdown",
   "id": "5d16a745-e638-4b80-a2ac-bc1929f5fee5",
   "metadata": {},
   "source": [
    "plot gives a fresh plot  \n",
    "plot! overlays on previous plot . "
   ]
  },
  {
   "cell_type": "markdown",
   "id": "c6716bb7-1636-49ec-8e6f-c416dc61695f",
   "metadata": {},
   "source": [
    "### Solving Two Linear Equations \n",
    "2x - y = -1  \n",
    "4x + y = 4 "
   ]
  },
  {
   "cell_type": "code",
   "execution_count": 24,
   "id": "b40cd4fb-9c46-47a8-adb0-88b43d7de83c",
   "metadata": {},
   "outputs": [
    {
     "data": {
      "image/png": "[encoded data removed]",
      "image/svg+xml": [
       "<?xml version=\"1.0\" encoding=\"utf-8\"?>\n",
       "<svg xmlns=\"http://www.w3.org/2000/svg\" xmlns:xlink=\"http://www.w3.org/1999/xlink\" width=\"600\" height=\"400\" viewBox=\"0 0 2400 1600\">\n",
       "<defs>\n",
       "  <clipPath id=\"clip700\">\n",
       "    <rect x=\"0\" y=\"0\" width=\"2400\" height=\"1600\"/>\n",
       "  </clipPath>\n",
       "</defs>\n",
       "<path clip-path=\"url(#clip700)\" d=\"M0 1600 L2400 1600 L2400 0 L0 0  Z\" fill=\"#ffffff\" fill-rule=\"evenodd\" fill-opacity=\"1\"/>\n",
       "<defs>\n",
       "  <clipPath id=\"clip701\">\n",
       "    <rect x=\"480\" y=\"0\" width=\"1681\" height=\"1600\"/>\n",
       "  </clipPath>\n",
       "</defs>\n",
       "<path clip-path=\"url(#clip700)\" d=\"M178.867 1486.45 L2352.76 1486.45 L2352.76 47.2441 L178.867 47.2441  Z\" fill=\"#ffffff\" fill-rule=\"evenodd\" fill-opacity=\"1\"/>\n",
       "<defs>\n",
       "  <clipPath id=\"clip702\">\n",
       "    <rect x=\"178\" y=\"47\" width=\"2175\" height=\"1440\"/>\n",
       "  </clipPath>\n",
       "</defs>\n",
       "<polyline clip-path=\"url(#clip702)\" style=\"stroke:#000000; stroke-linecap:round; stroke-linejoin:round; stroke-width:2; stroke-opacity:0.1; fill:none\" points=\"445.476,1486.45 445.476,47.2441 \"/>\n",
       "<polyline clip-path=\"url(#clip702)\" style=\"stroke:#000000; stroke-linecap:round; stroke-linejoin:round; stroke-width:2; stroke-opacity:0.1; fill:none\" points=\"855.643,1486.45 855.643,47.2441 \"/>\n",
       "<polyline clip-path=\"url(#clip702)\" style=\"stroke:#000000; stroke-linecap:round; stroke-linejoin:round; stroke-width:2; stroke-opacity:0.1; fill:none\" points=\"1265.81,1486.45 1265.81,47.2441 \"/>\n",
       "<polyline clip-path=\"url(#clip702)\" style=\"stroke:#000000; stroke-linecap:round; stroke-linejoin:round; stroke-width:2; stroke-opacity:0.1; fill:none\" points=\"1675.98,1486.45 1675.98,47.2441 \"/>\n",
       "<polyline clip-path=\"url(#clip702)\" style=\"stroke:#000000; stroke-linecap:round; stroke-linejoin:round; stroke-width:2; stroke-opacity:0.1; fill:none\" points=\"2086.15,1486.45 2086.15,47.2441 \"/>\n",
       "<polyline clip-path=\"url(#clip700)\" style=\"stroke:#000000; stroke-linecap:round; stroke-linejoin:round; stroke-width:4; stroke-opacity:1; fill:none\" points=\"178.867,1486.45 2352.76,1486.45 \"/>\n",
       "<polyline clip-path=\"url(#clip700)\" style=\"stroke:#000000; stroke-linecap:round; stroke-linejoin:round; stroke-width:4; stroke-opacity:1; fill:none\" points=\"445.476,1486.45 445.476,1467.55 \"/>\n",
       "<polyline clip-path=\"url(#clip700)\" style=\"stroke:#000000; stroke-linecap:round; stroke-linejoin:round; stroke-width:4; stroke-opacity:1; fill:none\" points=\"855.643,1486.45 855.643,1467.55 \"/>\n",
       "<polyline clip-path=\"url(#clip700)\" style=\"stroke:#000000; stroke-linecap:round; stroke-linejoin:round; stroke-width:4; stroke-opacity:1; fill:none\" points=\"1265.81,1486.45 1265.81,1467.55 \"/>\n",
       "<polyline clip-path=\"url(#clip700)\" style=\"stroke:#000000; stroke-linecap:round; stroke-linejoin:round; stroke-width:4; stroke-opacity:1; fill:none\" points=\"1675.98,1486.45 1675.98,1467.55 \"/>\n",
       "<polyline clip-path=\"url(#clip700)\" style=\"stroke:#000000; stroke-linecap:round; stroke-linejoin:round; stroke-width:4; stroke-opacity:1; fill:none\" points=\"2086.15,1486.45 2086.15,1467.55 \"/>\n",
       "<path clip-path=\"url(#clip700)\" d=\"M414.376 1532.02 L444.052 1532.02 L444.052 1535.95 L414.376 1535.95 L414.376 1532.02 Z\" fill=\"#000000\" fill-rule=\"nonzero\" fill-opacity=\"1\" /><path clip-path=\"url(#clip700)\" d=\"M466.992 1518.36 L455.186 1536.81 L466.992 1536.81 L466.992 1518.36 M465.765 1514.29 L471.645 1514.29 L471.645 1536.81 L476.575 1536.81 L476.575 1540.7 L471.645 1540.7 L471.645 1548.85 L466.992 1548.85 L466.992 1540.7 L451.39 1540.7 L451.39 1536.19 L465.765 1514.29 Z\" fill=\"#000000\" fill-rule=\"nonzero\" fill-opacity=\"1\" /><path clip-path=\"url(#clip700)\" d=\"M825.586 1532.02 L855.262 1532.02 L855.262 1535.95 L825.586 1535.95 L825.586 1532.02 Z\" fill=\"#000000\" fill-rule=\"nonzero\" fill-opacity=\"1\" /><path clip-path=\"url(#clip700)\" d=\"M869.382 1544.91 L885.701 1544.91 L885.701 1548.85 L863.757 1548.85 L863.757 1544.91 Q866.419 1542.16 871.002 1537.53 Q875.609 1532.88 876.789 1531.53 Q879.035 1529.01 879.914 1527.27 Q880.817 1525.51 880.817 1523.82 Q880.817 1521.07 878.873 1519.33 Q876.951 1517.6 873.849 1517.6 Q871.65 1517.6 869.197 1518.36 Q866.766 1519.13 863.988 1520.68 L863.988 1515.95 Q866.812 1514.82 869.266 1514.24 Q871.72 1513.66 873.757 1513.66 Q879.127 1513.66 882.322 1516.35 Q885.516 1519.03 885.516 1523.52 Q885.516 1525.65 884.706 1527.57 Q883.919 1529.47 881.812 1532.07 Q881.234 1532.74 878.132 1535.95 Q875.03 1539.15 869.382 1544.91 Z\" fill=\"#000000\" fill-rule=\"nonzero\" fill-opacity=\"1\" /><path clip-path=\"url(#clip700)\" d=\"M1265.81 1517.37 Q1262.2 1517.37 1260.37 1520.93 Q1258.57 1524.47 1258.57 1531.6 Q1258.57 1538.71 1260.37 1542.27 Q1262.2 1545.82 1265.81 1545.82 Q1269.45 1545.82 1271.25 1542.27 Q1273.08 1538.71 1273.08 1531.6 Q1273.08 1524.47 1271.25 1520.93 Q1269.45 1517.37 1265.81 1517.37 M1265.81 1513.66 Q1271.62 1513.66 1274.68 1518.27 Q1277.76 1522.85 1277.76 1531.6 Q1277.76 1540.33 1274.68 1544.94 Q1271.62 1549.52 1265.81 1549.52 Q1260 1549.52 1256.92 1544.94 Q1253.87 1540.33 1253.87 1531.6 Q1253.87 1522.85 1256.92 1518.27 Q1260 1513.66 1265.81 1513.66 Z\" fill=\"#000000\" fill-rule=\"nonzero\" fill-opacity=\"1\" /><path clip-path=\"url(#clip700)\" d=\"M1670.63 1544.91 L1686.95 1544.91 L1686.95 1548.85 L1665.01 1548.85 L1665.01 1544.91 Q1667.67 1542.16 1672.25 1537.53 Q1676.86 1532.88 1678.04 1531.53 Q1680.28 1529.01 1681.16 1527.27 Q1682.07 1525.51 1682.07 1523.82 Q1682.07 1521.07 1680.12 1519.33 Q1678.2 1517.6 1675.1 1517.6 Q1672.9 1517.6 1670.45 1518.36 Q1668.02 1519.13 1665.24 1520.68 L1665.24 1515.95 Q1668.06 1514.82 1670.52 1514.24 Q1672.97 1513.66 1675.01 1513.66 Q1680.38 1513.66 1683.57 1516.35 Q1686.77 1519.03 1686.77 1523.52 Q1686.77 1525.65 1685.96 1527.57 Q1685.17 1529.47 1683.06 1532.07 Q1682.48 1532.74 1679.38 1535.95 Q1676.28 1539.15 1670.63 1544.91 Z\" fill=\"#000000\" fill-rule=\"nonzero\" fill-opacity=\"1\" /><path clip-path=\"url(#clip700)\" d=\"M2089.16 1518.36 L2077.35 1536.81 L2089.16 1536.81 L2089.16 1518.36 M2087.93 1514.29 L2093.81 1514.29 L2093.81 1536.81 L2098.74 1536.81 L2098.74 1540.7 L2093.81 1540.7 L2093.81 1548.85 L2089.16 1548.85 L2089.16 1540.7 L2073.55 1540.7 L2073.55 1536.19 L2087.93 1514.29 Z\" fill=\"#000000\" fill-rule=\"nonzero\" fill-opacity=\"1\" /><polyline clip-path=\"url(#clip702)\" style=\"stroke:#000000; stroke-linecap:round; stroke-linejoin:round; stroke-width:2; stroke-opacity:0.1; fill:none\" points=\"178.867,1242.05 2352.76,1242.05 \"/>\n",
       "<polyline clip-path=\"url(#clip702)\" style=\"stroke:#000000; stroke-linecap:round; stroke-linejoin:round; stroke-width:2; stroke-opacity:0.1; fill:none\" points=\"178.867,902.62 2352.76,902.62 \"/>\n",
       "<polyline clip-path=\"url(#clip702)\" style=\"stroke:#000000; stroke-linecap:round; stroke-linejoin:round; stroke-width:2; stroke-opacity:0.1; fill:none\" points=\"178.867,563.185 2352.76,563.185 \"/>\n",
       "<polyline clip-path=\"url(#clip702)\" style=\"stroke:#000000; stroke-linecap:round; stroke-linejoin:round; stroke-width:2; stroke-opacity:0.1; fill:none\" points=\"178.867,223.75 2352.76,223.75 \"/>\n",
       "<polyline clip-path=\"url(#clip700)\" style=\"stroke:#000000; stroke-linecap:round; stroke-linejoin:round; stroke-width:4; stroke-opacity:1; fill:none\" points=\"178.867,1486.45 178.867,47.2441 \"/>\n",
       "<polyline clip-path=\"url(#clip700)\" style=\"stroke:#000000; stroke-linecap:round; stroke-linejoin:round; stroke-width:4; stroke-opacity:1; fill:none\" points=\"178.867,1242.05 197.764,1242.05 \"/>\n",
       "<polyline clip-path=\"url(#clip700)\" style=\"stroke:#000000; stroke-linecap:round; stroke-linejoin:round; stroke-width:4; stroke-opacity:1; fill:none\" points=\"178.867,902.62 197.764,902.62 \"/>\n",
       "<polyline clip-path=\"url(#clip700)\" style=\"stroke:#000000; stroke-linecap:round; stroke-linejoin:round; stroke-width:4; stroke-opacity:1; fill:none\" points=\"178.867,563.185 197.764,563.185 \"/>\n",
       "<polyline clip-path=\"url(#clip700)\" style=\"stroke:#000000; stroke-linecap:round; stroke-linejoin:round; stroke-width:4; stroke-opacity:1; fill:none\" points=\"178.867,223.75 197.764,223.75 \"/>\n",
       "<path clip-path=\"url(#clip700)\" d=\"M50.9921 1242.51 L80.6679 1242.51 L80.6679 1246.44 L50.9921 1246.44 L50.9921 1242.51 Z\" fill=\"#000000\" fill-rule=\"nonzero\" fill-opacity=\"1\" /><path clip-path=\"url(#clip700)\" d=\"M91.5706 1255.4 L99.2095 1255.4 L99.2095 1229.03 L90.8993 1230.7 L90.8993 1226.44 L99.1632 1224.77 L103.839 1224.77 L103.839 1255.4 L111.478 1255.4 L111.478 1259.33 L91.5706 1259.33 L91.5706 1255.4 Z\" fill=\"#000000\" fill-rule=\"nonzero\" fill-opacity=\"1\" /><path clip-path=\"url(#clip700)\" d=\"M130.922 1227.85 Q127.311 1227.85 125.482 1231.42 Q123.677 1234.96 123.677 1242.09 Q123.677 1249.2 125.482 1252.76 Q127.311 1256.3 130.922 1256.3 Q134.556 1256.3 136.362 1252.76 Q138.191 1249.2 138.191 1242.09 Q138.191 1234.96 136.362 1231.42 Q134.556 1227.85 130.922 1227.85 M130.922 1224.15 Q136.732 1224.15 139.788 1228.76 Q142.867 1233.34 142.867 1242.09 Q142.867 1250.82 139.788 1255.42 Q136.732 1260.01 130.922 1260.01 Q125.112 1260.01 122.033 1255.42 Q118.978 1250.82 118.978 1242.09 Q118.978 1233.34 122.033 1228.76 Q125.112 1224.15 130.922 1224.15 Z\" fill=\"#000000\" fill-rule=\"nonzero\" fill-opacity=\"1\" /><path clip-path=\"url(#clip700)\" d=\"M130.922 888.419 Q127.311 888.419 125.482 891.983 Q123.677 895.525 123.677 902.655 Q123.677 909.761 125.482 913.326 Q127.311 916.868 130.922 916.868 Q134.556 916.868 136.362 913.326 Q138.191 909.761 138.191 902.655 Q138.191 895.525 136.362 891.983 Q134.556 888.419 130.922 888.419 M130.922 884.715 Q136.732 884.715 139.788 889.321 Q142.867 893.905 142.867 902.655 Q142.867 911.381 139.788 915.988 Q136.732 920.571 130.922 920.571 Q125.112 920.571 122.033 915.988 Q118.978 911.381 118.978 902.655 Q118.978 893.905 122.033 889.321 Q125.112 884.715 130.922 884.715 Z\" fill=\"#000000\" fill-rule=\"nonzero\" fill-opacity=\"1\" /><path clip-path=\"url(#clip700)\" d=\"M91.5706 576.53 L99.2095 576.53 L99.2095 550.164 L90.8993 551.831 L90.8993 547.572 L99.1632 545.905 L103.839 545.905 L103.839 576.53 L111.478 576.53 L111.478 580.465 L91.5706 580.465 L91.5706 576.53 Z\" fill=\"#000000\" fill-rule=\"nonzero\" fill-opacity=\"1\" /><path clip-path=\"url(#clip700)\" d=\"M130.922 548.984 Q127.311 548.984 125.482 552.549 Q123.677 556.09 123.677 563.22 Q123.677 570.326 125.482 573.891 Q127.311 577.433 130.922 577.433 Q134.556 577.433 136.362 573.891 Q138.191 570.326 138.191 563.22 Q138.191 556.09 136.362 552.549 Q134.556 548.984 130.922 548.984 M130.922 545.28 Q136.732 545.28 139.788 549.887 Q142.867 554.47 142.867 563.22 Q142.867 571.947 139.788 576.553 Q136.732 581.136 130.922 581.136 Q125.112 581.136 122.033 576.553 Q118.978 571.947 118.978 563.22 Q118.978 554.47 122.033 549.887 Q125.112 545.28 130.922 545.28 Z\" fill=\"#000000\" fill-rule=\"nonzero\" fill-opacity=\"1\" /><path clip-path=\"url(#clip700)\" d=\"M94.7882 237.095 L111.108 237.095 L111.108 241.03 L89.1632 241.03 L89.1632 237.095 Q91.8252 234.34 96.4085 229.711 Q101.015 225.058 102.196 223.715 Q104.441 221.192 105.321 219.456 Q106.223 217.697 106.223 216.007 Q106.223 213.253 104.279 211.516 Q102.358 209.78 99.2558 209.78 Q97.0567 209.78 94.603 210.544 Q92.1725 211.308 89.3947 212.859 L89.3947 208.137 Q92.2188 207.003 94.6724 206.424 Q97.1261 205.845 99.1632 205.845 Q104.534 205.845 107.728 208.53 Q110.922 211.216 110.922 215.706 Q110.922 217.836 110.112 219.757 Q109.325 221.655 107.219 224.248 Q106.64 224.919 103.538 228.137 Q100.436 231.331 94.7882 237.095 Z\" fill=\"#000000\" fill-rule=\"nonzero\" fill-opacity=\"1\" /><path clip-path=\"url(#clip700)\" d=\"M130.922 209.549 Q127.311 209.549 125.482 213.114 Q123.677 216.655 123.677 223.785 Q123.677 230.891 125.482 234.456 Q127.311 237.998 130.922 237.998 Q134.556 237.998 136.362 234.456 Q138.191 230.891 138.191 223.785 Q138.191 216.655 136.362 213.114 Q134.556 209.549 130.922 209.549 M130.922 205.845 Q136.732 205.845 139.788 210.452 Q142.867 215.035 142.867 223.785 Q142.867 232.512 139.788 237.118 Q136.732 241.702 130.922 241.702 Q125.112 241.702 122.033 237.118 Q118.978 232.512 118.978 223.785 Q118.978 215.035 122.033 210.452 Q125.112 205.845 130.922 205.845 Z\" fill=\"#000000\" fill-rule=\"nonzero\" fill-opacity=\"1\" /><polyline clip-path=\"url(#clip702)\" style=\"stroke:#009af9; stroke-linecap:round; stroke-linejoin:round; stroke-width:4; stroke-opacity:1; fill:none\" points=\"240.392,1208.11 253.744,1203.69 377.203,1162.82 451.397,1138.26 514.127,1117.5 582.269,1094.94 645.091,1074.15 712.442,1051.85 790.474,1026.02 859.821,1003.07 920.631,982.938 986.931,960.992 1053.62,938.915 1127.36,914.506 1197.52,891.281 1270.47,867.133 1331.88,846.806 1406.86,821.988 1475.54,799.254 1538.97,778.256 1603.22,756.987 1675.23,733.15 1740.48,711.55 1815.2,686.819 1884.37,663.921 1952.57,641.345 2018.78,619.427 2086.66,596.957 2161.03,572.34 2269.07,536.578 2291.23,529.242 \"/>\n",
       "<polyline clip-path=\"url(#clip702)\" style=\"stroke:#e26f46; stroke-linecap:round; stroke-linejoin:round; stroke-width:4; stroke-opacity:1; fill:none\" points=\"240.392,87.9763 253.744,96.8159 377.203,178.551 451.397,227.67 514.127,269.2 582.269,314.313 645.091,355.903 712.442,400.493 790.474,452.153 859.821,498.063 920.631,538.322 986.931,582.216 1053.62,626.37 1127.36,675.187 1197.52,721.636 1270.47,769.933 1331.88,810.588 1406.86,860.223 1475.54,905.692 1538.97,947.686 1603.22,990.225 1675.23,1037.9 1740.48,1081.1 1815.2,1130.56 1884.37,1176.36 1952.57,1221.51 2018.78,1265.35 2086.66,1310.28 2161.03,1359.52 2269.07,1431.04 2291.23,1445.72 \"/>\n",
       "</svg>\n"
      ],
      "text/html": [
       "<?xml version=\"1.0\" encoding=\"utf-8\"?>\n",
       "<svg xmlns=\"http://www.w3.org/2000/svg\" xmlns:xlink=\"http://www.w3.org/1999/xlink\" width=\"600\" height=\"400\" viewBox=\"0 0 2400 1600\">\n",
       "<defs>\n",
       "  <clipPath id=\"clip750\">\n",
       "    <rect x=\"0\" y=\"0\" width=\"2400\" height=\"1600\"/>\n",
       "  </clipPath>\n",
       "</defs>\n",
       "<path clip-path=\"url(#clip750)\" d=\"M0 1600 L2400 1600 L2400 0 L0 0  Z\" fill=\"#ffffff\" fill-rule=\"evenodd\" fill-opacity=\"1\"/>\n",
       "<defs>\n",
       "  <clipPath id=\"clip751\">\n",
       "    <rect x=\"480\" y=\"0\" width=\"1681\" height=\"1600\"/>\n",
       "  </clipPath>\n",
       "</defs>\n",
       "<path clip-path=\"url(#clip750)\" d=\"M178.867 1486.45 L2352.76 1486.45 L2352.76 47.2441 L178.867 47.2441  Z\" fill=\"#ffffff\" fill-rule=\"evenodd\" fill-opacity=\"1\"/>\n",
       "<defs>\n",
       "  <clipPath id=\"clip752\">\n",
       "    <rect x=\"178\" y=\"47\" width=\"2175\" height=\"1440\"/>\n",
       "  </clipPath>\n",
       "</defs>\n",
       "<polyline clip-path=\"url(#clip752)\" style=\"stroke:#000000; stroke-linecap:round; stroke-linejoin:round; stroke-width:2; stroke-opacity:0.1; fill:none\" points=\"445.476,1486.45 445.476,47.2441 \"/>\n",
       "<polyline clip-path=\"url(#clip752)\" style=\"stroke:#000000; stroke-linecap:round; stroke-linejoin:round; stroke-width:2; stroke-opacity:0.1; fill:none\" points=\"855.643,1486.45 855.643,47.2441 \"/>\n",
       "<polyline clip-path=\"url(#clip752)\" style=\"stroke:#000000; stroke-linecap:round; stroke-linejoin:round; stroke-width:2; stroke-opacity:0.1; fill:none\" points=\"1265.81,1486.45 1265.81,47.2441 \"/>\n",
       "<polyline clip-path=\"url(#clip752)\" style=\"stroke:#000000; stroke-linecap:round; stroke-linejoin:round; stroke-width:2; stroke-opacity:0.1; fill:none\" points=\"1675.98,1486.45 1675.98,47.2441 \"/>\n",
       "<polyline clip-path=\"url(#clip752)\" style=\"stroke:#000000; stroke-linecap:round; stroke-linejoin:round; stroke-width:2; stroke-opacity:0.1; fill:none\" points=\"2086.15,1486.45 2086.15,47.2441 \"/>\n",
       "<polyline clip-path=\"url(#clip750)\" style=\"stroke:#000000; stroke-linecap:round; stroke-linejoin:round; stroke-width:4; stroke-opacity:1; fill:none\" points=\"178.867,1486.45 2352.76,1486.45 \"/>\n",
       "<polyline clip-path=\"url(#clip750)\" style=\"stroke:#000000; stroke-linecap:round; stroke-linejoin:round; stroke-width:4; stroke-opacity:1; fill:none\" points=\"445.476,1486.45 445.476,1467.55 \"/>\n",
       "<polyline clip-path=\"url(#clip750)\" style=\"stroke:#000000; stroke-linecap:round; stroke-linejoin:round; stroke-width:4; stroke-opacity:1; fill:none\" points=\"855.643,1486.45 855.643,1467.55 \"/>\n",
       "<polyline clip-path=\"url(#clip750)\" style=\"stroke:#000000; stroke-linecap:round; stroke-linejoin:round; stroke-width:4; stroke-opacity:1; fill:none\" points=\"1265.81,1486.45 1265.81,1467.55 \"/>\n",
       "<polyline clip-path=\"url(#clip750)\" style=\"stroke:#000000; stroke-linecap:round; stroke-linejoin:round; stroke-width:4; stroke-opacity:1; fill:none\" points=\"1675.98,1486.45 1675.98,1467.55 \"/>\n",
       "<polyline clip-path=\"url(#clip750)\" style=\"stroke:#000000; stroke-linecap:round; stroke-linejoin:round; stroke-width:4; stroke-opacity:1; fill:none\" points=\"2086.15,1486.45 2086.15,1467.55 \"/>\n",
       "<path clip-path=\"url(#clip750)\" d=\"M414.376 1532.02 L444.052 1532.02 L444.052 1535.95 L414.376 1535.95 L414.376 1532.02 Z\" fill=\"#000000\" fill-rule=\"nonzero\" fill-opacity=\"1\" /><path clip-path=\"url(#clip750)\" d=\"M466.992 1518.36 L455.186 1536.81 L466.992 1536.81 L466.992 1518.36 M465.765 1514.29 L471.645 1514.29 L471.645 1536.81 L476.575 1536.81 L476.575 1540.7 L471.645 1540.7 L471.645 1548.85 L466.992 1548.85 L466.992 1540.7 L451.39 1540.7 L451.39 1536.19 L465.765 1514.29 Z\" fill=\"#000000\" fill-rule=\"nonzero\" fill-opacity=\"1\" /><path clip-path=\"url(#clip750)\" d=\"M825.586 1532.02 L855.262 1532.02 L855.262 1535.95 L825.586 1535.95 L825.586 1532.02 Z\" fill=\"#000000\" fill-rule=\"nonzero\" fill-opacity=\"1\" /><path clip-path=\"url(#clip750)\" d=\"M869.382 1544.91 L885.701 1544.91 L885.701 1548.85 L863.757 1548.85 L863.757 1544.91 Q866.419 1542.16 871.002 1537.53 Q875.609 1532.88 876.789 1531.53 Q879.035 1529.01 879.914 1527.27 Q880.817 1525.51 880.817 1523.82 Q880.817 1521.07 878.873 1519.33 Q876.951 1517.6 873.849 1517.6 Q871.65 1517.6 869.197 1518.36 Q866.766 1519.13 863.988 1520.68 L863.988 1515.95 Q866.812 1514.82 869.266 1514.24 Q871.72 1513.66 873.757 1513.66 Q879.127 1513.66 882.322 1516.35 Q885.516 1519.03 885.516 1523.52 Q885.516 1525.65 884.706 1527.57 Q883.919 1529.47 881.812 1532.07 Q881.234 1532.74 878.132 1535.95 Q875.03 1539.15 869.382 1544.91 Z\" fill=\"#000000\" fill-rule=\"nonzero\" fill-opacity=\"1\" /><path clip-path=\"url(#clip750)\" d=\"M1265.81 1517.37 Q1262.2 1517.37 1260.37 1520.93 Q1258.57 1524.47 1258.57 1531.6 Q1258.57 1538.71 1260.37 1542.27 Q1262.2 1545.82 1265.81 1545.82 Q1269.45 1545.82 1271.25 1542.27 Q1273.08 1538.71 1273.08 1531.6 Q1273.08 1524.47 1271.25 1520.93 Q1269.45 1517.37 1265.81 1517.37 M1265.81 1513.66 Q1271.62 1513.66 1274.68 1518.27 Q1277.76 1522.85 1277.76 1531.6 Q1277.76 1540.33 1274.68 1544.94 Q1271.62 1549.52 1265.81 1549.52 Q1260 1549.52 1256.92 1544.94 Q1253.87 1540.33 1253.87 1531.6 Q1253.87 1522.85 1256.92 1518.27 Q1260 1513.66 1265.81 1513.66 Z\" fill=\"#000000\" fill-rule=\"nonzero\" fill-opacity=\"1\" /><path clip-path=\"url(#clip750)\" d=\"M1670.63 1544.91 L1686.95 1544.91 L1686.95 1548.85 L1665.01 1548.85 L1665.01 1544.91 Q1667.67 1542.16 1672.25 1537.53 Q1676.86 1532.88 1678.04 1531.53 Q1680.28 1529.01 1681.16 1527.27 Q1682.07 1525.51 1682.07 1523.82 Q1682.07 1521.07 1680.12 1519.33 Q1678.2 1517.6 1675.1 1517.6 Q1672.9 1517.6 1670.45 1518.36 Q1668.02 1519.13 1665.24 1520.68 L1665.24 1515.95 Q1668.06 1514.82 1670.52 1514.24 Q1672.97 1513.66 1675.01 1513.66 Q1680.38 1513.66 1683.57 1516.35 Q1686.77 1519.03 1686.77 1523.52 Q1686.77 1525.65 1685.96 1527.57 Q1685.17 1529.47 1683.06 1532.07 Q1682.48 1532.74 1679.38 1535.95 Q1676.28 1539.15 1670.63 1544.91 Z\" fill=\"#000000\" fill-rule=\"nonzero\" fill-opacity=\"1\" /><path clip-path=\"url(#clip750)\" d=\"M2089.16 1518.36 L2077.35 1536.81 L2089.16 1536.81 L2089.16 1518.36 M2087.93 1514.29 L2093.81 1514.29 L2093.81 1536.81 L2098.74 1536.81 L2098.74 1540.7 L2093.81 1540.7 L2093.81 1548.85 L2089.16 1548.85 L2089.16 1540.7 L2073.55 1540.7 L2073.55 1536.19 L2087.93 1514.29 Z\" fill=\"#000000\" fill-rule=\"nonzero\" fill-opacity=\"1\" /><polyline clip-path=\"url(#clip752)\" style=\"stroke:#000000; stroke-linecap:round; stroke-linejoin:round; stroke-width:2; stroke-opacity:0.1; fill:none\" points=\"178.867,1242.05 2352.76,1242.05 \"/>\n",
       "<polyline clip-path=\"url(#clip752)\" style=\"stroke:#000000; stroke-linecap:round; stroke-linejoin:round; stroke-width:2; stroke-opacity:0.1; fill:none\" points=\"178.867,902.62 2352.76,902.62 \"/>\n",
       "<polyline clip-path=\"url(#clip752)\" style=\"stroke:#000000; stroke-linecap:round; stroke-linejoin:round; stroke-width:2; stroke-opacity:0.1; fill:none\" points=\"178.867,563.185 2352.76,563.185 \"/>\n",
       "<polyline clip-path=\"url(#clip752)\" style=\"stroke:#000000; stroke-linecap:round; stroke-linejoin:round; stroke-width:2; stroke-opacity:0.1; fill:none\" points=\"178.867,223.75 2352.76,223.75 \"/>\n",
       "<polyline clip-path=\"url(#clip750)\" style=\"stroke:#000000; stroke-linecap:round; stroke-linejoin:round; stroke-width:4; stroke-opacity:1; fill:none\" points=\"178.867,1486.45 178.867,47.2441 \"/>\n",
       "<polyline clip-path=\"url(#clip750)\" style=\"stroke:#000000; stroke-linecap:round; stroke-linejoin:round; stroke-width:4; stroke-opacity:1; fill:none\" points=\"178.867,1242.05 197.764,1242.05 \"/>\n",
       "<polyline clip-path=\"url(#clip750)\" style=\"stroke:#000000; stroke-linecap:round; stroke-linejoin:round; stroke-width:4; stroke-opacity:1; fill:none\" points=\"178.867,902.62 197.764,902.62 \"/>\n",
       "<polyline clip-path=\"url(#clip750)\" style=\"stroke:#000000; stroke-linecap:round; stroke-linejoin:round; stroke-width:4; stroke-opacity:1; fill:none\" points=\"178.867,563.185 197.764,563.185 \"/>\n",
       "<polyline clip-path=\"url(#clip750)\" style=\"stroke:#000000; stroke-linecap:round; stroke-linejoin:round; stroke-width:4; stroke-opacity:1; fill:none\" points=\"178.867,223.75 197.764,223.75 \"/>\n",
       "<path clip-path=\"url(#clip750)\" d=\"M50.9921 1242.51 L80.6679 1242.51 L80.6679 1246.44 L50.9921 1246.44 L50.9921 1242.51 Z\" fill=\"#000000\" fill-rule=\"nonzero\" fill-opacity=\"1\" /><path clip-path=\"url(#clip750)\" d=\"M91.5706 1255.4 L99.2095 1255.4 L99.2095 1229.03 L90.8993 1230.7 L90.8993 1226.44 L99.1632 1224.77 L103.839 1224.77 L103.839 1255.4 L111.478 1255.4 L111.478 1259.33 L91.5706 1259.33 L91.5706 1255.4 Z\" fill=\"#000000\" fill-rule=\"nonzero\" fill-opacity=\"1\" /><path clip-path=\"url(#clip750)\" d=\"M130.922 1227.85 Q127.311 1227.85 125.482 1231.42 Q123.677 1234.96 123.677 1242.09 Q123.677 1249.2 125.482 1252.76 Q127.311 1256.3 130.922 1256.3 Q134.556 1256.3 136.362 1252.76 Q138.191 1249.2 138.191 1242.09 Q138.191 1234.96 136.362 1231.42 Q134.556 1227.85 130.922 1227.85 M130.922 1224.15 Q136.732 1224.15 139.788 1228.76 Q142.867 1233.34 142.867 1242.09 Q142.867 1250.82 139.788 1255.42 Q136.732 1260.01 130.922 1260.01 Q125.112 1260.01 122.033 1255.42 Q118.978 1250.82 118.978 1242.09 Q118.978 1233.34 122.033 1228.76 Q125.112 1224.15 130.922 1224.15 Z\" fill=\"#000000\" fill-rule=\"nonzero\" fill-opacity=\"1\" /><path clip-path=\"url(#clip750)\" d=\"M130.922 888.419 Q127.311 888.419 125.482 891.983 Q123.677 895.525 123.677 902.655 Q123.677 909.761 125.482 913.326 Q127.311 916.868 130.922 916.868 Q134.556 916.868 136.362 913.326 Q138.191 909.761 138.191 902.655 Q138.191 895.525 136.362 891.983 Q134.556 888.419 130.922 888.419 M130.922 884.715 Q136.732 884.715 139.788 889.321 Q142.867 893.905 142.867 902.655 Q142.867 911.381 139.788 915.988 Q136.732 920.571 130.922 920.571 Q125.112 920.571 122.033 915.988 Q118.978 911.381 118.978 902.655 Q118.978 893.905 122.033 889.321 Q125.112 884.715 130.922 884.715 Z\" fill=\"#000000\" fill-rule=\"nonzero\" fill-opacity=\"1\" /><path clip-path=\"url(#clip750)\" d=\"M91.5706 576.53 L99.2095 576.53 L99.2095 550.164 L90.8993 551.831 L90.8993 547.572 L99.1632 545.905 L103.839 545.905 L103.839 576.53 L111.478 576.53 L111.478 580.465 L91.5706 580.465 L91.5706 576.53 Z\" fill=\"#000000\" fill-rule=\"nonzero\" fill-opacity=\"1\" /><path clip-path=\"url(#clip750)\" d=\"M130.922 548.984 Q127.311 548.984 125.482 552.549 Q123.677 556.09 123.677 563.22 Q123.677 570.326 125.482 573.891 Q127.311 577.433 130.922 577.433 Q134.556 577.433 136.362 573.891 Q138.191 570.326 138.191 563.22 Q138.191 556.09 136.362 552.549 Q134.556 548.984 130.922 548.984 M130.922 545.28 Q136.732 545.28 139.788 549.887 Q142.867 554.47 142.867 563.22 Q142.867 571.947 139.788 576.553 Q136.732 581.136 130.922 581.136 Q125.112 581.136 122.033 576.553 Q118.978 571.947 118.978 563.22 Q118.978 554.47 122.033 549.887 Q125.112 545.28 130.922 545.28 Z\" fill=\"#000000\" fill-rule=\"nonzero\" fill-opacity=\"1\" /><path clip-path=\"url(#clip750)\" d=\"M94.7882 237.095 L111.108 237.095 L111.108 241.03 L89.1632 241.03 L89.1632 237.095 Q91.8252 234.34 96.4085 229.711 Q101.015 225.058 102.196 223.715 Q104.441 221.192 105.321 219.456 Q106.223 217.697 106.223 216.007 Q106.223 213.253 104.279 211.516 Q102.358 209.78 99.2558 209.78 Q97.0567 209.78 94.603 210.544 Q92.1725 211.308 89.3947 212.859 L89.3947 208.137 Q92.2188 207.003 94.6724 206.424 Q97.1261 205.845 99.1632 205.845 Q104.534 205.845 107.728 208.53 Q110.922 211.216 110.922 215.706 Q110.922 217.836 110.112 219.757 Q109.325 221.655 107.219 224.248 Q106.64 224.919 103.538 228.137 Q100.436 231.331 94.7882 237.095 Z\" fill=\"#000000\" fill-rule=\"nonzero\" fill-opacity=\"1\" /><path clip-path=\"url(#clip750)\" d=\"M130.922 209.549 Q127.311 209.549 125.482 213.114 Q123.677 216.655 123.677 223.785 Q123.677 230.891 125.482 234.456 Q127.311 237.998 130.922 237.998 Q134.556 237.998 136.362 234.456 Q138.191 230.891 138.191 223.785 Q138.191 216.655 136.362 213.114 Q134.556 209.549 130.922 209.549 M130.922 205.845 Q136.732 205.845 139.788 210.452 Q142.867 215.035 142.867 223.785 Q142.867 232.512 139.788 237.118 Q136.732 241.702 130.922 241.702 Q125.112 241.702 122.033 237.118 Q118.978 232.512 118.978 223.785 Q118.978 215.035 122.033 210.452 Q125.112 205.845 130.922 205.845 Z\" fill=\"#000000\" fill-rule=\"nonzero\" fill-opacity=\"1\" /><polyline clip-path=\"url(#clip752)\" style=\"stroke:#009af9; stroke-linecap:round; stroke-linejoin:round; stroke-width:4; stroke-opacity:1; fill:none\" points=\"240.392,1208.11 253.744,1203.69 377.203,1162.82 451.397,1138.26 514.127,1117.5 582.269,1094.94 645.091,1074.15 712.442,1051.85 790.474,1026.02 859.821,1003.07 920.631,982.938 986.931,960.992 1053.62,938.915 1127.36,914.506 1197.52,891.281 1270.47,867.133 1331.88,846.806 1406.86,821.988 1475.54,799.254 1538.97,778.256 1603.22,756.987 1675.23,733.15 1740.48,711.55 1815.2,686.819 1884.37,663.921 1952.57,641.345 2018.78,619.427 2086.66,596.957 2161.03,572.34 2269.07,536.578 2291.23,529.242 \"/>\n",
       "<polyline clip-path=\"url(#clip752)\" style=\"stroke:#e26f46; stroke-linecap:round; stroke-linejoin:round; stroke-width:4; stroke-opacity:1; fill:none\" points=\"240.392,87.9763 253.744,96.8159 377.203,178.551 451.397,227.67 514.127,269.2 582.269,314.313 645.091,355.903 712.442,400.493 790.474,452.153 859.821,498.063 920.631,538.322 986.931,582.216 1053.62,626.37 1127.36,675.187 1197.52,721.636 1270.47,769.933 1331.88,810.588 1406.86,860.223 1475.54,905.692 1538.97,947.686 1603.22,990.225 1675.23,1037.9 1740.48,1081.1 1815.2,1130.56 1884.37,1176.36 1952.57,1221.51 2018.78,1265.35 2086.66,1310.28 2161.03,1359.52 2269.07,1431.04 2291.23,1445.72 \"/>\n",
       "</svg>\n"
      ]
     },
     "execution_count": 24,
     "metadata": {},
     "output_type": "execute_result"
    }
   ],
   "source": [
    "# Rearranging the equations\n",
    "y1(x) = 2*x + 1 \n",
    "y2(x) = 4 - 4*x \n",
    "\n",
    "plot([y1, y2], -5,5)\n",
    "plot(y1, -5, 5, legend = false)\n",
    "plot!(y2, -5, 5)"
   ]
  },
  {
   "cell_type": "markdown",
   "id": "64da5e8d-f60c-4348-9171-00d878421207",
   "metadata": {},
   "source": [
    "There are two or more ways to get a thing done "
   ]
  },
  {
   "cell_type": "markdown",
   "id": "eba435d7-93d9-4731-a88d-35f40f795b32",
   "metadata": {},
   "source": [
    "Autograder will have test cases and on the basis of that you will be graded.  \n",
    "Some of the test cases will be available to the user to help him play and most will be hidden \n"
   ]
  },
  {
   "cell_type": "markdown",
   "id": "07f2e83e-9525-4823-b669-73eaa1f6faa7",
   "metadata": {},
   "source": [
    "### Creating Arrays \n",
    "Julia likes column vectors "
   ]
  },
  {
   "cell_type": "code",
   "execution_count": 30,
   "id": "4fe3a1dd-d1c8-472d-a26b-41de309db970",
   "metadata": {},
   "outputs": [
    {
     "data": {
      "text/plain": [
       "1×10 transpose(::Vector{Int64}) with eltype Int64:\n",
       " 1  2  3  4  5  6  7  8  9  10"
      ]
     },
     "execution_count": 30,
     "metadata": {},
     "output_type": "execute_result"
    }
   ],
   "source": [
    "# Creating a row vector of number from 1 to 10 \n",
    "rowVect = transpose(collect(1:10))"
   ]
  },
  {
   "cell_type": "code",
   "execution_count": 31,
   "id": "a983103c-d67b-490a-8b0b-8040452fbe1f",
   "metadata": {},
   "outputs": [
    {
     "data": {
      "text/plain": [
       "1×10 adjoint(::Vector{Int64}) with eltype Int64:\n",
       " 1  2  3  4  5  6  7  8  9  10"
      ]
     },
     "execution_count": 31,
     "metadata": {},
     "output_type": "execute_result"
    }
   ],
   "source": [
    "rowVect = collect(1:10)'"
   ]
  },
  {
   "cell_type": "markdown",
   "id": "2d63308b-58a6-4984-91f3-16b192aa7fc7",
   "metadata": {},
   "source": [
    "# Column Vecotr 11 13 .... 19 \n",
    "colVect = collect(11:2:20)  \n",
    "# 2 is increment here "
   ]
  },
  {
   "cell_type": "markdown",
   "id": "93bf6e01-cd2c-431c-a63e-0f9c1db0a016",
   "metadata": {},
   "source": [
    "Adjoint is more of a graduate level concept "
   ]
  },
  {
   "cell_type": "markdown",
   "id": "1189c127-dd9c-43e9-bdb8-7c9f69162880",
   "metadata": {},
   "source": [
    "**Julia and Matlab are 1 indexed languages**   \n",
    "**Python and C++ are 0 indexed** "
   ]
  },
  {
   "cell_type": "code",
   "execution_count": 34,
   "id": "14f2b320-472d-4370-b3ee-c024e7679935",
   "metadata": {},
   "outputs": [
    {
     "data": {
      "text/plain": [
       "6-element Vector{String}:\n",
       " \"Cat\"\n",
       " \"Dog\"\n",
       " \"Fish\"\n",
       " \"Lion\"\n",
       " \"Ox\"\n",
       " \"Whale\""
      ]
     },
     "execution_count": 34,
     "metadata": {},
     "output_type": "execute_result"
    }
   ],
   "source": [
    "## Array of strings \n",
    "\n",
    "animalVect = [\"Cat\", \"Dog\", \"Fish\", \"Lion\", \"Ox\", \"Whale\"] "
   ]
  },
  {
   "cell_type": "code",
   "execution_count": 35,
   "id": "c2fc6a90-dbd3-40c4-ae91-f90169c7a8df",
   "metadata": {},
   "outputs": [
    {
     "data": {
      "text/plain": [
       "\"Ox\""
      ]
     },
     "execution_count": 35,
     "metadata": {},
     "output_type": "execute_result"
    }
   ],
   "source": [
    "animalVect[5]"
   ]
  },
  {
   "cell_type": "code",
   "execution_count": 36,
   "id": "ba0f3178-ea1b-48b4-accd-546233040e23",
   "metadata": {},
   "outputs": [
    {
     "data": {
      "text/plain": [
       "\"Whale\""
      ]
     },
     "execution_count": 36,
     "metadata": {},
     "output_type": "execute_result"
    }
   ],
   "source": [
    "animalVect[6] "
   ]
  },
  {
   "cell_type": "markdown",
   "id": "97aa5cc5-e478-467b-be43-d55508dd9596",
   "metadata": {},
   "source": [
    "### Special Matrix Commands "
   ]
  },
  {
   "cell_type": "code",
   "execution_count": 37,
   "id": "1c4c4abc-6128-46b0-84d1-37f9ff21c650",
   "metadata": {},
   "outputs": [
    {
     "data": {
      "text/plain": [
       "3×4 Matrix{Float64}:\n",
       " 1.0  1.0  1.0  1.0\n",
       " 1.0  1.0  1.0  1.0\n",
       " 1.0  1.0  1.0  1.0"
      ]
     },
     "execution_count": 37,
     "metadata": {},
     "output_type": "execute_result"
    }
   ],
   "source": [
    "onesMat = ones(3,4) "
   ]
  },
  {
   "cell_type": "code",
   "execution_count": 40,
   "id": "9ebf0097-d22b-4110-9508-177bc0da1c8a",
   "metadata": {},
   "outputs": [
    {
     "data": {
      "text/plain": [
       "(3, 4)"
      ]
     },
     "execution_count": 40,
     "metadata": {},
     "output_type": "execute_result"
    }
   ],
   "source": [
    "size(onesMat)"
   ]
  },
  {
   "cell_type": "markdown",
   "id": "c7869d59-177e-4643-95fe-a70d702e2be5",
   "metadata": {},
   "source": [
    "Use this knowledge to solve Homework 1. Sir is helping us to get to level where we can comfortably solve Homework 1 "
   ]
  },
  {
   "cell_type": "code",
   "execution_count": 41,
   "id": "27aa5e32-d05d-422a-95b9-b4e52e4fef10",
   "metadata": {},
   "outputs": [
    {
     "ename": "LoadError",
     "evalue": "MethodError: no method matching +(::Matrix{Float64}, ::Int64)\nFor element-wise addition, use broadcasting with dot syntax: array .+ scalar\n\n\u001b[0mClosest candidates are:\n\u001b[0m  +(::Any, ::Any, \u001b[91m::Any\u001b[39m, \u001b[91m::Any...\u001b[39m)\n\u001b[0m\u001b[90m   @\u001b[39m \u001b[90mBase\u001b[39m \u001b[90m\u001b[4moperators.jl:587\u001b[24m\u001b[39m\n\u001b[0m  +(\u001b[91m::Complex{Bool}\u001b[39m, ::Real)\n\u001b[0m\u001b[90m   @\u001b[39m \u001b[90mBase\u001b[39m \u001b[90m\u001b[4mcomplex.jl:320\u001b[24m\u001b[39m\n\u001b[0m  +(\u001b[91m::Missing\u001b[39m, ::Number)\n\u001b[0m\u001b[90m   @\u001b[39m \u001b[90mBase\u001b[39m \u001b[90m\u001b[4mmissing.jl:123\u001b[24m\u001b[39m\n\u001b[0m  ...\n",
     "output_type": "error",
     "traceback": [
      "MethodError: no method matching +(::Matrix{Float64}, ::Int64)\nFor element-wise addition, use broadcasting with dot syntax: array .+ scalar\n\n\u001b[0mClosest candidates are:\n\u001b[0m  +(::Any, ::Any, \u001b[91m::Any\u001b[39m, \u001b[91m::Any...\u001b[39m)\n\u001b[0m\u001b[90m   @\u001b[39m \u001b[90mBase\u001b[39m \u001b[90m\u001b[4moperators.jl:587\u001b[24m\u001b[39m\n\u001b[0m  +(\u001b[91m::Complex{Bool}\u001b[39m, ::Real)\n\u001b[0m\u001b[90m   @\u001b[39m \u001b[90mBase\u001b[39m \u001b[90m\u001b[4mcomplex.jl:320\u001b[24m\u001b[39m\n\u001b[0m  +(\u001b[91m::Missing\u001b[39m, ::Number)\n\u001b[0m\u001b[90m   @\u001b[39m \u001b[90mBase\u001b[39m \u001b[90m\u001b[4mmissing.jl:123\u001b[24m\u001b[39m\n\u001b[0m  ...\n",
      "",
      "Stacktrace:",
      " [1] top-level scope",
      "   @ In[41]:1"
     ]
    }
   ],
   "source": [
    "onesMat = onesMat + 76"
   ]
  },
  {
   "cell_type": "code",
   "execution_count": 42,
   "id": "25881ca0-ba54-4a02-b5d9-d1b5e24ca212",
   "metadata": {},
   "outputs": [
    {
     "data": {
      "text/plain": [
       "3×4 Matrix{Float64}:\n",
       " 76.0  76.0  76.0  76.0\n",
       " 76.0  76.0  76.0  76.0\n",
       " 76.0  76.0  76.0  76.0"
      ]
     },
     "execution_count": 42,
     "metadata": {},
     "output_type": "execute_result"
    }
   ],
   "source": [
    "onesMat = onesMat .+ 75 "
   ]
  },
  {
   "cell_type": "code",
   "execution_count": 44,
   "id": "0a7be5e4-3406-4297-8e01-4790b0833c26",
   "metadata": {},
   "outputs": [],
   "source": [
    "# Creating a matrix of dimension 10,9 with random numbers from st5andard normnal distribution "
   ]
  },
  {
   "cell_type": "code",
   "execution_count": 45,
   "id": "7fa5eb0b-6237-4955-8163-567e58647c51",
   "metadata": {},
   "outputs": [
    {
     "data": {
      "text/plain": [
       "10×9 Matrix{Float64}:\n",
       "  0.754201  -0.117835   0.441491  …   0.0785102  -0.229657   -0.0749344\n",
       "  1.04663   -0.25898    0.193392      1.85724    -0.0364512   0.0379025\n",
       " -2.29958   -0.735088   0.532406     -0.866922   -1.59748     0.416343\n",
       " -0.842883   2.24306   -0.754897     -0.470231    1.57317     0.74672\n",
       "  0.061726  -0.226735   0.324471     -0.232884    2.00101    -0.0463162\n",
       "  0.522707   0.687293   0.478914  …   0.204095    1.73354    -0.744578\n",
       "  1.56457   -2.13545    1.94844      -0.888154    0.244351   -1.38792\n",
       " -2.0524    -0.960979   1.83237      -1.5769     -0.999605    0.0187505\n",
       " -0.272621  -0.968068   0.636463      0.621267   -0.976953    0.0464995\n",
       "  0.330253  -1.36271   -0.215464     -0.522831    0.305405   -0.32658"
      ]
     },
     "execution_count": 45,
     "metadata": {},
     "output_type": "execute_result"
    }
   ],
   "source": [
    "A = randn(10,9)"
   ]
  },
  {
   "cell_type": "markdown",
   "id": "5d0cbb0c-c1d2-490c-bbd7-305c70524133",
   "metadata": {},
   "source": [
    ". overloader holds true for .+, .-, ./ and .* and can be generalised for overloading "
   ]
  },
  {
   "cell_type": "code",
   "execution_count": null,
   "id": "fc3e3361-5cf7-48cd-bda0-25d321632f24",
   "metadata": {},
   "outputs": [],
   "source": []
  }
 ],
 "metadata": {
  "kernelspec": {
   "display_name": "Julia 1.10.2",
   "language": "julia",
   "name": "julia-1.10"
  },
  "language_info": {
   "file_extension": ".jl",
   "mimetype": "application/julia",
   "name": "julia",
   "version": "1.10.2"
  }
 },
 "nbformat": 4,
 "nbformat_minor": 5
}
